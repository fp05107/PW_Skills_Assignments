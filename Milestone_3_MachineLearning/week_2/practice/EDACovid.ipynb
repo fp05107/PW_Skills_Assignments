{
 "cells": [
  {
   "cell_type": "code",
   "execution_count": 1,
   "id": "f8fc6b07",
   "metadata": {},
   "outputs": [],
   "source": [
    "import pandas as pd\n",
    "import numpy as np\n",
    "import matplotlib.pyplot as plt\n",
    "import seaborn as sns\n",
    "\n",
    "import warnings\n",
    "warnings.filterwarnings('ignore')"
   ]
  },
  {
   "cell_type": "code",
   "execution_count": 2,
   "id": "3259ca53",
   "metadata": {},
   "outputs": [],
   "source": [
    "df = pd.read_csv('country_wise_latest.csv')"
   ]
  },
  {
   "cell_type": "code",
   "execution_count": 3,
   "id": "b9bc5aaa",
   "metadata": {},
   "outputs": [
    {
     "data": {
      "text/html": [
       "<div>\n",
       "<style scoped>\n",
       "    .dataframe tbody tr th:only-of-type {\n",
       "        vertical-align: middle;\n",
       "    }\n",
       "\n",
       "    .dataframe tbody tr th {\n",
       "        vertical-align: top;\n",
       "    }\n",
       "\n",
       "    .dataframe thead th {\n",
       "        text-align: right;\n",
       "    }\n",
       "</style>\n",
       "<table border=\"1\" class=\"dataframe\">\n",
       "  <thead>\n",
       "    <tr style=\"text-align: right;\">\n",
       "      <th></th>\n",
       "      <th>Country/Region</th>\n",
       "      <th>Confirmed</th>\n",
       "      <th>Deaths</th>\n",
       "      <th>Recovered</th>\n",
       "      <th>Active</th>\n",
       "      <th>New cases</th>\n",
       "      <th>New deaths</th>\n",
       "      <th>New recovered</th>\n",
       "      <th>Deaths / 100 Cases</th>\n",
       "      <th>Recovered / 100 Cases</th>\n",
       "      <th>Deaths / 100 Recovered</th>\n",
       "      <th>Confirmed last week</th>\n",
       "      <th>1 week change</th>\n",
       "      <th>1 week % increase</th>\n",
       "      <th>WHO Region</th>\n",
       "    </tr>\n",
       "  </thead>\n",
       "  <tbody>\n",
       "    <tr>\n",
       "      <th>0</th>\n",
       "      <td>Afghanistan</td>\n",
       "      <td>36263</td>\n",
       "      <td>1269</td>\n",
       "      <td>25198</td>\n",
       "      <td>9796</td>\n",
       "      <td>106</td>\n",
       "      <td>10</td>\n",
       "      <td>18</td>\n",
       "      <td>3.50</td>\n",
       "      <td>69.49</td>\n",
       "      <td>5.04</td>\n",
       "      <td>35526</td>\n",
       "      <td>737</td>\n",
       "      <td>2.07</td>\n",
       "      <td>Eastern Mediterranean</td>\n",
       "    </tr>\n",
       "    <tr>\n",
       "      <th>1</th>\n",
       "      <td>Albania</td>\n",
       "      <td>4880</td>\n",
       "      <td>144</td>\n",
       "      <td>2745</td>\n",
       "      <td>1991</td>\n",
       "      <td>117</td>\n",
       "      <td>6</td>\n",
       "      <td>63</td>\n",
       "      <td>2.95</td>\n",
       "      <td>56.25</td>\n",
       "      <td>5.25</td>\n",
       "      <td>4171</td>\n",
       "      <td>709</td>\n",
       "      <td>17.00</td>\n",
       "      <td>Europe</td>\n",
       "    </tr>\n",
       "    <tr>\n",
       "      <th>2</th>\n",
       "      <td>Algeria</td>\n",
       "      <td>27973</td>\n",
       "      <td>1163</td>\n",
       "      <td>18837</td>\n",
       "      <td>7973</td>\n",
       "      <td>616</td>\n",
       "      <td>8</td>\n",
       "      <td>749</td>\n",
       "      <td>4.16</td>\n",
       "      <td>67.34</td>\n",
       "      <td>6.17</td>\n",
       "      <td>23691</td>\n",
       "      <td>4282</td>\n",
       "      <td>18.07</td>\n",
       "      <td>Africa</td>\n",
       "    </tr>\n",
       "    <tr>\n",
       "      <th>3</th>\n",
       "      <td>Andorra</td>\n",
       "      <td>907</td>\n",
       "      <td>52</td>\n",
       "      <td>803</td>\n",
       "      <td>52</td>\n",
       "      <td>10</td>\n",
       "      <td>0</td>\n",
       "      <td>0</td>\n",
       "      <td>5.73</td>\n",
       "      <td>88.53</td>\n",
       "      <td>6.48</td>\n",
       "      <td>884</td>\n",
       "      <td>23</td>\n",
       "      <td>2.60</td>\n",
       "      <td>Europe</td>\n",
       "    </tr>\n",
       "    <tr>\n",
       "      <th>4</th>\n",
       "      <td>Angola</td>\n",
       "      <td>950</td>\n",
       "      <td>41</td>\n",
       "      <td>242</td>\n",
       "      <td>667</td>\n",
       "      <td>18</td>\n",
       "      <td>1</td>\n",
       "      <td>0</td>\n",
       "      <td>4.32</td>\n",
       "      <td>25.47</td>\n",
       "      <td>16.94</td>\n",
       "      <td>749</td>\n",
       "      <td>201</td>\n",
       "      <td>26.84</td>\n",
       "      <td>Africa</td>\n",
       "    </tr>\n",
       "    <tr>\n",
       "      <th>...</th>\n",
       "      <td>...</td>\n",
       "      <td>...</td>\n",
       "      <td>...</td>\n",
       "      <td>...</td>\n",
       "      <td>...</td>\n",
       "      <td>...</td>\n",
       "      <td>...</td>\n",
       "      <td>...</td>\n",
       "      <td>...</td>\n",
       "      <td>...</td>\n",
       "      <td>...</td>\n",
       "      <td>...</td>\n",
       "      <td>...</td>\n",
       "      <td>...</td>\n",
       "      <td>...</td>\n",
       "    </tr>\n",
       "    <tr>\n",
       "      <th>182</th>\n",
       "      <td>West Bank and Gaza</td>\n",
       "      <td>10621</td>\n",
       "      <td>78</td>\n",
       "      <td>3752</td>\n",
       "      <td>6791</td>\n",
       "      <td>152</td>\n",
       "      <td>2</td>\n",
       "      <td>0</td>\n",
       "      <td>0.73</td>\n",
       "      <td>35.33</td>\n",
       "      <td>2.08</td>\n",
       "      <td>8916</td>\n",
       "      <td>1705</td>\n",
       "      <td>19.12</td>\n",
       "      <td>Eastern Mediterranean</td>\n",
       "    </tr>\n",
       "    <tr>\n",
       "      <th>183</th>\n",
       "      <td>Western Sahara</td>\n",
       "      <td>10</td>\n",
       "      <td>1</td>\n",
       "      <td>8</td>\n",
       "      <td>1</td>\n",
       "      <td>0</td>\n",
       "      <td>0</td>\n",
       "      <td>0</td>\n",
       "      <td>10.00</td>\n",
       "      <td>80.00</td>\n",
       "      <td>12.50</td>\n",
       "      <td>10</td>\n",
       "      <td>0</td>\n",
       "      <td>0.00</td>\n",
       "      <td>Africa</td>\n",
       "    </tr>\n",
       "    <tr>\n",
       "      <th>184</th>\n",
       "      <td>Yemen</td>\n",
       "      <td>1691</td>\n",
       "      <td>483</td>\n",
       "      <td>833</td>\n",
       "      <td>375</td>\n",
       "      <td>10</td>\n",
       "      <td>4</td>\n",
       "      <td>36</td>\n",
       "      <td>28.56</td>\n",
       "      <td>49.26</td>\n",
       "      <td>57.98</td>\n",
       "      <td>1619</td>\n",
       "      <td>72</td>\n",
       "      <td>4.45</td>\n",
       "      <td>Eastern Mediterranean</td>\n",
       "    </tr>\n",
       "    <tr>\n",
       "      <th>185</th>\n",
       "      <td>Zambia</td>\n",
       "      <td>4552</td>\n",
       "      <td>140</td>\n",
       "      <td>2815</td>\n",
       "      <td>1597</td>\n",
       "      <td>71</td>\n",
       "      <td>1</td>\n",
       "      <td>465</td>\n",
       "      <td>3.08</td>\n",
       "      <td>61.84</td>\n",
       "      <td>4.97</td>\n",
       "      <td>3326</td>\n",
       "      <td>1226</td>\n",
       "      <td>36.86</td>\n",
       "      <td>Africa</td>\n",
       "    </tr>\n",
       "    <tr>\n",
       "      <th>186</th>\n",
       "      <td>Zimbabwe</td>\n",
       "      <td>2704</td>\n",
       "      <td>36</td>\n",
       "      <td>542</td>\n",
       "      <td>2126</td>\n",
       "      <td>192</td>\n",
       "      <td>2</td>\n",
       "      <td>24</td>\n",
       "      <td>1.33</td>\n",
       "      <td>20.04</td>\n",
       "      <td>6.64</td>\n",
       "      <td>1713</td>\n",
       "      <td>991</td>\n",
       "      <td>57.85</td>\n",
       "      <td>Africa</td>\n",
       "    </tr>\n",
       "  </tbody>\n",
       "</table>\n",
       "<p>187 rows × 15 columns</p>\n",
       "</div>"
      ],
      "text/plain": [
       "         Country/Region  Confirmed  Deaths  Recovered  Active  New cases  \\\n",
       "0           Afghanistan      36263    1269      25198    9796        106   \n",
       "1               Albania       4880     144       2745    1991        117   \n",
       "2               Algeria      27973    1163      18837    7973        616   \n",
       "3               Andorra        907      52        803      52         10   \n",
       "4                Angola        950      41        242     667         18   \n",
       "..                  ...        ...     ...        ...     ...        ...   \n",
       "182  West Bank and Gaza      10621      78       3752    6791        152   \n",
       "183      Western Sahara         10       1          8       1          0   \n",
       "184               Yemen       1691     483        833     375         10   \n",
       "185              Zambia       4552     140       2815    1597         71   \n",
       "186            Zimbabwe       2704      36        542    2126        192   \n",
       "\n",
       "     New deaths  New recovered  Deaths / 100 Cases  Recovered / 100 Cases  \\\n",
       "0            10             18                3.50                  69.49   \n",
       "1             6             63                2.95                  56.25   \n",
       "2             8            749                4.16                  67.34   \n",
       "3             0              0                5.73                  88.53   \n",
       "4             1              0                4.32                  25.47   \n",
       "..          ...            ...                 ...                    ...   \n",
       "182           2              0                0.73                  35.33   \n",
       "183           0              0               10.00                  80.00   \n",
       "184           4             36               28.56                  49.26   \n",
       "185           1            465                3.08                  61.84   \n",
       "186           2             24                1.33                  20.04   \n",
       "\n",
       "     Deaths / 100 Recovered  Confirmed last week  1 week change  \\\n",
       "0                      5.04                35526            737   \n",
       "1                      5.25                 4171            709   \n",
       "2                      6.17                23691           4282   \n",
       "3                      6.48                  884             23   \n",
       "4                     16.94                  749            201   \n",
       "..                      ...                  ...            ...   \n",
       "182                    2.08                 8916           1705   \n",
       "183                   12.50                   10              0   \n",
       "184                   57.98                 1619             72   \n",
       "185                    4.97                 3326           1226   \n",
       "186                    6.64                 1713            991   \n",
       "\n",
       "     1 week % increase             WHO Region  \n",
       "0                 2.07  Eastern Mediterranean  \n",
       "1                17.00                 Europe  \n",
       "2                18.07                 Africa  \n",
       "3                 2.60                 Europe  \n",
       "4                26.84                 Africa  \n",
       "..                 ...                    ...  \n",
       "182              19.12  Eastern Mediterranean  \n",
       "183               0.00                 Africa  \n",
       "184               4.45  Eastern Mediterranean  \n",
       "185              36.86                 Africa  \n",
       "186              57.85                 Africa  \n",
       "\n",
       "[187 rows x 15 columns]"
      ]
     },
     "execution_count": 3,
     "metadata": {},
     "output_type": "execute_result"
    }
   ],
   "source": [
    "df"
   ]
  },
  {
   "cell_type": "code",
   "execution_count": 4,
   "id": "b0da1b5f",
   "metadata": {},
   "outputs": [
    {
     "data": {
      "text/plain": [
       "(187, 15)"
      ]
     },
     "execution_count": 4,
     "metadata": {},
     "output_type": "execute_result"
    }
   ],
   "source": [
    "df.shape"
   ]
  },
  {
   "cell_type": "code",
   "execution_count": 5,
   "id": "059fc1cf",
   "metadata": {},
   "outputs": [
    {
     "data": {
      "text/html": [
       "<div>\n",
       "<style scoped>\n",
       "    .dataframe tbody tr th:only-of-type {\n",
       "        vertical-align: middle;\n",
       "    }\n",
       "\n",
       "    .dataframe tbody tr th {\n",
       "        vertical-align: top;\n",
       "    }\n",
       "\n",
       "    .dataframe thead th {\n",
       "        text-align: right;\n",
       "    }\n",
       "</style>\n",
       "<table border=\"1\" class=\"dataframe\">\n",
       "  <thead>\n",
       "    <tr style=\"text-align: right;\">\n",
       "      <th></th>\n",
       "      <th>Country/Region</th>\n",
       "      <th>Confirmed</th>\n",
       "      <th>Deaths</th>\n",
       "      <th>Recovered</th>\n",
       "      <th>Active</th>\n",
       "      <th>New cases</th>\n",
       "      <th>New deaths</th>\n",
       "      <th>New recovered</th>\n",
       "      <th>Deaths / 100 Cases</th>\n",
       "      <th>Recovered / 100 Cases</th>\n",
       "      <th>Deaths / 100 Recovered</th>\n",
       "      <th>Confirmed last week</th>\n",
       "      <th>1 week change</th>\n",
       "      <th>1 week % increase</th>\n",
       "      <th>WHO Region</th>\n",
       "    </tr>\n",
       "  </thead>\n",
       "  <tbody>\n",
       "    <tr>\n",
       "      <th>127</th>\n",
       "      <td>Oman</td>\n",
       "      <td>77058</td>\n",
       "      <td>393</td>\n",
       "      <td>57028</td>\n",
       "      <td>19637</td>\n",
       "      <td>1053</td>\n",
       "      <td>9</td>\n",
       "      <td>1729</td>\n",
       "      <td>0.51</td>\n",
       "      <td>74.01</td>\n",
       "      <td>0.69</td>\n",
       "      <td>68400</td>\n",
       "      <td>8658</td>\n",
       "      <td>12.66</td>\n",
       "      <td>Eastern Mediterranean</td>\n",
       "    </tr>\n",
       "    <tr>\n",
       "      <th>171</th>\n",
       "      <td>Tunisia</td>\n",
       "      <td>1455</td>\n",
       "      <td>50</td>\n",
       "      <td>1157</td>\n",
       "      <td>248</td>\n",
       "      <td>3</td>\n",
       "      <td>0</td>\n",
       "      <td>15</td>\n",
       "      <td>3.44</td>\n",
       "      <td>79.52</td>\n",
       "      <td>4.32</td>\n",
       "      <td>1381</td>\n",
       "      <td>74</td>\n",
       "      <td>5.36</td>\n",
       "      <td>Eastern Mediterranean</td>\n",
       "    </tr>\n",
       "    <tr>\n",
       "      <th>148</th>\n",
       "      <td>Seychelles</td>\n",
       "      <td>114</td>\n",
       "      <td>0</td>\n",
       "      <td>39</td>\n",
       "      <td>75</td>\n",
       "      <td>0</td>\n",
       "      <td>0</td>\n",
       "      <td>0</td>\n",
       "      <td>0.00</td>\n",
       "      <td>34.21</td>\n",
       "      <td>0.00</td>\n",
       "      <td>108</td>\n",
       "      <td>6</td>\n",
       "      <td>5.56</td>\n",
       "      <td>Africa</td>\n",
       "    </tr>\n",
       "    <tr>\n",
       "      <th>29</th>\n",
       "      <td>Cabo Verde</td>\n",
       "      <td>2328</td>\n",
       "      <td>22</td>\n",
       "      <td>1550</td>\n",
       "      <td>756</td>\n",
       "      <td>21</td>\n",
       "      <td>0</td>\n",
       "      <td>103</td>\n",
       "      <td>0.95</td>\n",
       "      <td>66.58</td>\n",
       "      <td>1.42</td>\n",
       "      <td>2071</td>\n",
       "      <td>257</td>\n",
       "      <td>12.41</td>\n",
       "      <td>Africa</td>\n",
       "    </tr>\n",
       "    <tr>\n",
       "      <th>6</th>\n",
       "      <td>Argentina</td>\n",
       "      <td>167416</td>\n",
       "      <td>3059</td>\n",
       "      <td>72575</td>\n",
       "      <td>91782</td>\n",
       "      <td>4890</td>\n",
       "      <td>120</td>\n",
       "      <td>2057</td>\n",
       "      <td>1.83</td>\n",
       "      <td>43.35</td>\n",
       "      <td>4.21</td>\n",
       "      <td>130774</td>\n",
       "      <td>36642</td>\n",
       "      <td>28.02</td>\n",
       "      <td>Americas</td>\n",
       "    </tr>\n",
       "    <tr>\n",
       "      <th>100</th>\n",
       "      <td>Liechtenstein</td>\n",
       "      <td>86</td>\n",
       "      <td>1</td>\n",
       "      <td>81</td>\n",
       "      <td>4</td>\n",
       "      <td>0</td>\n",
       "      <td>0</td>\n",
       "      <td>0</td>\n",
       "      <td>1.16</td>\n",
       "      <td>94.19</td>\n",
       "      <td>1.23</td>\n",
       "      <td>86</td>\n",
       "      <td>0</td>\n",
       "      <td>0.00</td>\n",
       "      <td>Europe</td>\n",
       "    </tr>\n",
       "    <tr>\n",
       "      <th>173</th>\n",
       "      <td>US</td>\n",
       "      <td>4290259</td>\n",
       "      <td>148011</td>\n",
       "      <td>1325804</td>\n",
       "      <td>2816444</td>\n",
       "      <td>56336</td>\n",
       "      <td>1076</td>\n",
       "      <td>27941</td>\n",
       "      <td>3.45</td>\n",
       "      <td>30.90</td>\n",
       "      <td>11.16</td>\n",
       "      <td>3834677</td>\n",
       "      <td>455582</td>\n",
       "      <td>11.88</td>\n",
       "      <td>Americas</td>\n",
       "    </tr>\n",
       "    <tr>\n",
       "      <th>17</th>\n",
       "      <td>Belize</td>\n",
       "      <td>48</td>\n",
       "      <td>2</td>\n",
       "      <td>26</td>\n",
       "      <td>20</td>\n",
       "      <td>0</td>\n",
       "      <td>0</td>\n",
       "      <td>0</td>\n",
       "      <td>4.17</td>\n",
       "      <td>54.17</td>\n",
       "      <td>7.69</td>\n",
       "      <td>40</td>\n",
       "      <td>8</td>\n",
       "      <td>20.00</td>\n",
       "      <td>Americas</td>\n",
       "    </tr>\n",
       "    <tr>\n",
       "      <th>47</th>\n",
       "      <td>Denmark</td>\n",
       "      <td>13761</td>\n",
       "      <td>613</td>\n",
       "      <td>12605</td>\n",
       "      <td>543</td>\n",
       "      <td>109</td>\n",
       "      <td>0</td>\n",
       "      <td>77</td>\n",
       "      <td>4.45</td>\n",
       "      <td>91.60</td>\n",
       "      <td>4.86</td>\n",
       "      <td>13453</td>\n",
       "      <td>308</td>\n",
       "      <td>2.29</td>\n",
       "      <td>Europe</td>\n",
       "    </tr>\n",
       "    <tr>\n",
       "      <th>109</th>\n",
       "      <td>Mauritania</td>\n",
       "      <td>6208</td>\n",
       "      <td>156</td>\n",
       "      <td>4653</td>\n",
       "      <td>1399</td>\n",
       "      <td>37</td>\n",
       "      <td>0</td>\n",
       "      <td>223</td>\n",
       "      <td>2.51</td>\n",
       "      <td>74.95</td>\n",
       "      <td>3.35</td>\n",
       "      <td>5923</td>\n",
       "      <td>285</td>\n",
       "      <td>4.81</td>\n",
       "      <td>Africa</td>\n",
       "    </tr>\n",
       "  </tbody>\n",
       "</table>\n",
       "</div>"
      ],
      "text/plain": [
       "    Country/Region  Confirmed  Deaths  Recovered   Active  New cases  \\\n",
       "127           Oman      77058     393      57028    19637       1053   \n",
       "171        Tunisia       1455      50       1157      248          3   \n",
       "148     Seychelles        114       0         39       75          0   \n",
       "29      Cabo Verde       2328      22       1550      756         21   \n",
       "6        Argentina     167416    3059      72575    91782       4890   \n",
       "100  Liechtenstein         86       1         81        4          0   \n",
       "173             US    4290259  148011    1325804  2816444      56336   \n",
       "17          Belize         48       2         26       20          0   \n",
       "47         Denmark      13761     613      12605      543        109   \n",
       "109     Mauritania       6208     156       4653     1399         37   \n",
       "\n",
       "     New deaths  New recovered  Deaths / 100 Cases  Recovered / 100 Cases  \\\n",
       "127           9           1729                0.51                  74.01   \n",
       "171           0             15                3.44                  79.52   \n",
       "148           0              0                0.00                  34.21   \n",
       "29            0            103                0.95                  66.58   \n",
       "6           120           2057                1.83                  43.35   \n",
       "100           0              0                1.16                  94.19   \n",
       "173        1076          27941                3.45                  30.90   \n",
       "17            0              0                4.17                  54.17   \n",
       "47            0             77                4.45                  91.60   \n",
       "109           0            223                2.51                  74.95   \n",
       "\n",
       "     Deaths / 100 Recovered  Confirmed last week  1 week change  \\\n",
       "127                    0.69                68400           8658   \n",
       "171                    4.32                 1381             74   \n",
       "148                    0.00                  108              6   \n",
       "29                     1.42                 2071            257   \n",
       "6                      4.21               130774          36642   \n",
       "100                    1.23                   86              0   \n",
       "173                   11.16              3834677         455582   \n",
       "17                     7.69                   40              8   \n",
       "47                     4.86                13453            308   \n",
       "109                    3.35                 5923            285   \n",
       "\n",
       "     1 week % increase             WHO Region  \n",
       "127              12.66  Eastern Mediterranean  \n",
       "171               5.36  Eastern Mediterranean  \n",
       "148               5.56                 Africa  \n",
       "29               12.41                 Africa  \n",
       "6                28.02               Americas  \n",
       "100               0.00                 Europe  \n",
       "173              11.88               Americas  \n",
       "17               20.00               Americas  \n",
       "47                2.29                 Europe  \n",
       "109               4.81                 Africa  "
      ]
     },
     "execution_count": 5,
     "metadata": {},
     "output_type": "execute_result"
    }
   ],
   "source": [
    "df.sample(10)"
   ]
  },
  {
   "cell_type": "code",
   "execution_count": 6,
   "id": "62c4f461",
   "metadata": {},
   "outputs": [
    {
     "data": {
      "text/plain": [
       "Index(['Country/Region', 'Confirmed', 'Deaths', 'Recovered', 'Active',\n",
       "       'New cases', 'New deaths', 'New recovered', 'Deaths / 100 Cases',\n",
       "       'Recovered / 100 Cases', 'Deaths / 100 Recovered',\n",
       "       'Confirmed last week', '1 week change', '1 week % increase',\n",
       "       'WHO Region'],\n",
       "      dtype='object')"
      ]
     },
     "execution_count": 6,
     "metadata": {},
     "output_type": "execute_result"
    }
   ],
   "source": [
    "df.columns"
   ]
  },
  {
   "cell_type": "code",
   "execution_count": 7,
   "id": "ed5b9e41",
   "metadata": {},
   "outputs": [
    {
     "data": {
      "text/plain": [
       "Country/Region            0\n",
       "Confirmed                 0\n",
       "Deaths                    0\n",
       "Recovered                 0\n",
       "Active                    0\n",
       "New cases                 0\n",
       "New deaths                0\n",
       "New recovered             0\n",
       "Deaths / 100 Cases        0\n",
       "Recovered / 100 Cases     0\n",
       "Deaths / 100 Recovered    0\n",
       "Confirmed last week       0\n",
       "1 week change             0\n",
       "1 week % increase         0\n",
       "WHO Region                0\n",
       "dtype: int64"
      ]
     },
     "execution_count": 7,
     "metadata": {},
     "output_type": "execute_result"
    }
   ],
   "source": [
    "df.isnull().sum()"
   ]
  },
  {
   "cell_type": "code",
   "execution_count": 8,
   "id": "0724b570",
   "metadata": {},
   "outputs": [],
   "source": [
    "df = df.rename(columns={\"Country/Region\": \"country\", \"Deaths / 100 Cases\": \"death_per_100\", \"Recovered / 100 Cases\": \"recovered_per_100\"})"
   ]
  },
  {
   "cell_type": "code",
   "execution_count": 9,
   "id": "3dafc2f2",
   "metadata": {},
   "outputs": [
    {
     "data": {
      "text/plain": [
       "np.int64(0)"
      ]
     },
     "execution_count": 9,
     "metadata": {},
     "output_type": "execute_result"
    }
   ],
   "source": [
    "df.duplicated().sum()"
   ]
  },
  {
   "cell_type": "code",
   "execution_count": 10,
   "id": "59f74f77",
   "metadata": {},
   "outputs": [
    {
     "data": {
      "text/plain": [
       "0             Afghanistan\n",
       "1                 Albania\n",
       "2                 Algeria\n",
       "3                 Andorra\n",
       "4                  Angola\n",
       "              ...        \n",
       "182    West Bank and Gaza\n",
       "183        Western Sahara\n",
       "184                 Yemen\n",
       "185                Zambia\n",
       "186              Zimbabwe\n",
       "Name: country, Length: 187, dtype: object"
      ]
     },
     "execution_count": 10,
     "metadata": {},
     "output_type": "execute_result"
    }
   ],
   "source": [
    "df.country"
   ]
  },
  {
   "cell_type": "code",
   "execution_count": 11,
   "id": "2bf8dcc3",
   "metadata": {},
   "outputs": [
    {
     "data": {
      "text/plain": [
       "Index(['country', 'Confirmed', 'Deaths', 'Recovered', 'Active', 'New cases',\n",
       "       'New deaths', 'New recovered', 'death_per_100', 'recovered_per_100',\n",
       "       'Deaths / 100 Recovered', 'Confirmed last week', '1 week change',\n",
       "       '1 week % increase', 'WHO Region'],\n",
       "      dtype='object')"
      ]
     },
     "execution_count": 11,
     "metadata": {},
     "output_type": "execute_result"
    }
   ],
   "source": [
    "df.columns"
   ]
  },
  {
   "cell_type": "code",
   "execution_count": 12,
   "id": "e43cf999",
   "metadata": {},
   "outputs": [
    {
     "data": {
      "text/plain": [
       "0      36263\n",
       "1       4880\n",
       "2      27973\n",
       "3        907\n",
       "4        950\n",
       "       ...  \n",
       "182    10621\n",
       "183       10\n",
       "184     1691\n",
       "185     4552\n",
       "186     2704\n",
       "Name: Confirmed, Length: 187, dtype: int64"
      ]
     },
     "execution_count": 12,
     "metadata": {},
     "output_type": "execute_result"
    }
   ],
   "source": [
    "df.Confirmed"
   ]
  },
  {
   "cell_type": "code",
   "execution_count": 13,
   "id": "dd2e4f75",
   "metadata": {},
   "outputs": [
    {
     "data": {
      "text/plain": [
       "country\n",
       "Fiji                     27\n",
       "Timor-Leste              24\n",
       "Saint Lucia              24\n",
       "Grenada                  23\n",
       "Laos                     20\n",
       "Dominica                 18\n",
       "Saint Kitts and Nevis    17\n",
       "Greenland                14\n",
       "Holy See                 12\n",
       "Western Sahara           10\n",
       "Name: Confirmed, dtype: int64"
      ]
     },
     "execution_count": 13,
     "metadata": {},
     "output_type": "execute_result"
    }
   ],
   "source": [
    "df.groupby('country')['Confirmed'].sum().sort_values(ascending=False).tail(10)"
   ]
  },
  {
   "cell_type": "code",
   "execution_count": null,
   "id": "f101f93e",
   "metadata": {},
   "outputs": [],
   "source": []
  },
  {
   "cell_type": "code",
   "execution_count": 14,
   "id": "e7cd40e9",
   "metadata": {},
   "outputs": [
    {
     "data": {
      "text/plain": [
       "Index(['country', 'Confirmed', 'Deaths', 'Recovered', 'Active', 'New cases',\n",
       "       'New deaths', 'New recovered', 'death_per_100', 'recovered_per_100',\n",
       "       'Deaths / 100 Recovered', 'Confirmed last week', '1 week change',\n",
       "       '1 week % increase', 'WHO Region'],\n",
       "      dtype='object')"
      ]
     },
     "execution_count": 14,
     "metadata": {},
     "output_type": "execute_result"
    }
   ],
   "source": [
    "df.columns"
   ]
  },
  {
   "cell_type": "code",
   "execution_count": 22,
   "id": "80a466ce",
   "metadata": {},
   "outputs": [
    {
     "data": {
      "text/plain": [
       "country\n",
       "US                148011\n",
       "Brazil             87618\n",
       "United Kingdom     45844\n",
       "Mexico             44022\n",
       "Italy              35112\n",
       "India              33408\n",
       "France             30212\n",
       "Spain              28432\n",
       "Peru               18418\n",
       "Iran               15912\n",
       "Name: Deaths, dtype: int64"
      ]
     },
     "execution_count": 22,
     "metadata": {},
     "output_type": "execute_result"
    }
   ],
   "source": [
    "df.groupby('country')['Deaths'].sum().sort_values(ascending=False).head(10)"
   ]
  },
  {
   "cell_type": "code",
   "execution_count": 26,
   "id": "6e462f8d",
   "metadata": {},
   "outputs": [
    {
     "data": {
      "text/plain": [
       "19            inf\n",
       "49            inf\n",
       "30            inf\n",
       "55            inf\n",
       "142           inf\n",
       "          ...    \n",
       "61     729.352575\n",
       "85     701.429711\n",
       "16     676.318469\n",
       "177    658.118838\n",
       "184    350.103520\n",
       "Length: 187, dtype: float64"
      ]
     },
     "execution_count": 26,
     "metadata": {},
     "output_type": "execute_result"
    }
   ],
   "source": [
    "((df.Confirmed / df.Deaths) * 100).sort_values(ascending=False)"
   ]
  },
  {
   "cell_type": "code",
   "execution_count": 27,
   "id": "0fa958da",
   "metadata": {},
   "outputs": [
    {
     "data": {
      "text/plain": [
       "184    28.562980\n",
       "177    15.194824\n",
       "16     14.785934\n",
       "85     14.256596\n",
       "61     13.710790\n",
       "         ...    \n",
       "141     0.000000\n",
       "130     0.000000\n",
       "142     0.000000\n",
       "168     0.000000\n",
       "181     0.000000\n",
       "Length: 187, dtype: float64"
      ]
     },
     "execution_count": 27,
     "metadata": {},
     "output_type": "execute_result"
    }
   ],
   "source": [
    "(df.Deaths / df.Confirmed * 100).sort_values(ascending=False)\n"
   ]
  },
  {
   "cell_type": "code",
   "execution_count": 31,
   "id": "677ac2d4",
   "metadata": {},
   "outputs": [],
   "source": [
    "death_rate = (df['Deaths'] / df['Confirmed']) * 100\n",
    "df['death_rate'] = death_rate"
   ]
  },
  {
   "cell_type": "code",
   "execution_count": 32,
   "id": "7bdd1173",
   "metadata": {},
   "outputs": [
    {
     "data": {
      "text/plain": [
       "0       3.499435\n",
       "1       2.950820\n",
       "2       4.157581\n",
       "3       5.733186\n",
       "4       4.315789\n",
       "         ...    \n",
       "182     0.734394\n",
       "183    10.000000\n",
       "184    28.562980\n",
       "185     3.075571\n",
       "186     1.331361\n",
       "Name: death_rate, Length: 187, dtype: float64"
      ]
     },
     "execution_count": 32,
     "metadata": {},
     "output_type": "execute_result"
    }
   ],
   "source": [
    "df.death_rate"
   ]
  },
  {
   "cell_type": "code",
   "execution_count": 37,
   "id": "8c2d56f3",
   "metadata": {},
   "outputs": [
    {
     "data": {
      "text/html": [
       "<div>\n",
       "<style scoped>\n",
       "    .dataframe tbody tr th:only-of-type {\n",
       "        vertical-align: middle;\n",
       "    }\n",
       "\n",
       "    .dataframe tbody tr th {\n",
       "        vertical-align: top;\n",
       "    }\n",
       "\n",
       "    .dataframe thead th {\n",
       "        text-align: right;\n",
       "    }\n",
       "</style>\n",
       "<table border=\"1\" class=\"dataframe\">\n",
       "  <thead>\n",
       "    <tr style=\"text-align: right;\">\n",
       "      <th></th>\n",
       "      <th>death_rate</th>\n",
       "      <th>country</th>\n",
       "    </tr>\n",
       "  </thead>\n",
       "  <tbody>\n",
       "    <tr>\n",
       "      <th>184</th>\n",
       "      <td>28.562980</td>\n",
       "      <td>Yemen</td>\n",
       "    </tr>\n",
       "    <tr>\n",
       "      <th>177</th>\n",
       "      <td>15.194824</td>\n",
       "      <td>United Kingdom</td>\n",
       "    </tr>\n",
       "    <tr>\n",
       "      <th>16</th>\n",
       "      <td>14.785934</td>\n",
       "      <td>Belgium</td>\n",
       "    </tr>\n",
       "    <tr>\n",
       "      <th>85</th>\n",
       "      <td>14.256596</td>\n",
       "      <td>Italy</td>\n",
       "    </tr>\n",
       "    <tr>\n",
       "      <th>61</th>\n",
       "      <td>13.710790</td>\n",
       "      <td>France</td>\n",
       "    </tr>\n",
       "    <tr>\n",
       "      <th>77</th>\n",
       "      <td>13.399281</td>\n",
       "      <td>Hungary</td>\n",
       "    </tr>\n",
       "    <tr>\n",
       "      <th>120</th>\n",
       "      <td>11.532773</td>\n",
       "      <td>Netherlands</td>\n",
       "    </tr>\n",
       "    <tr>\n",
       "      <th>111</th>\n",
       "      <td>11.131030</td>\n",
       "      <td>Mexico</td>\n",
       "    </tr>\n",
       "    <tr>\n",
       "      <th>157</th>\n",
       "      <td>10.436787</td>\n",
       "      <td>Spain</td>\n",
       "    </tr>\n",
       "    <tr>\n",
       "      <th>183</th>\n",
       "      <td>10.000000</td>\n",
       "      <td>Western Sahara</td>\n",
       "    </tr>\n",
       "  </tbody>\n",
       "</table>\n",
       "</div>"
      ],
      "text/plain": [
       "     death_rate         country\n",
       "184   28.562980           Yemen\n",
       "177   15.194824  United Kingdom\n",
       "16    14.785934         Belgium\n",
       "85    14.256596           Italy\n",
       "61    13.710790          France\n",
       "77    13.399281         Hungary\n",
       "120   11.532773     Netherlands\n",
       "111   11.131030          Mexico\n",
       "157   10.436787           Spain\n",
       "183   10.000000  Western Sahara"
      ]
     },
     "execution_count": 37,
     "metadata": {},
     "output_type": "execute_result"
    }
   ],
   "source": [
    "df[['death_rate', 'country']].sort_values(ascending=False, by='death_rate')[:10]"
   ]
  },
  {
   "cell_type": "code",
   "execution_count": 43,
   "id": "6e57c4e4",
   "metadata": {},
   "outputs": [
    {
     "data": {
      "text/plain": [
       "np.float64(2.2571859631247917)"
      ]
     },
     "execution_count": 43,
     "metadata": {},
     "output_type": "execute_result"
    }
   ],
   "source": [
    "df[df['country'] == 'India']['death_rate'].values[0]"
   ]
  },
  {
   "cell_type": "code",
   "execution_count": null,
   "id": "233d3c5b",
   "metadata": {},
   "outputs": [],
   "source": []
  }
 ],
 "metadata": {
  "kernelspec": {
   "display_name": ".venv",
   "language": "python",
   "name": "python3"
  },
  "language_info": {
   "codemirror_mode": {
    "name": "ipython",
    "version": 3
   },
   "file_extension": ".py",
   "mimetype": "text/x-python",
   "name": "python",
   "nbconvert_exporter": "python",
   "pygments_lexer": "ipython3",
   "version": "3.13.3"
  }
 },
 "nbformat": 4,
 "nbformat_minor": 5
}
