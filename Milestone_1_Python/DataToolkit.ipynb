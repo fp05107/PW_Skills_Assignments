{
 "cells": [
  {
   "cell_type": "markdown",
   "id": "1b1166c5",
   "metadata": {},
   "source": [
    "# Data Toolkit"
   ]
  },
  {
   "cell_type": "markdown",
   "id": "62bacd14",
   "metadata": {},
   "source": [
    "## 1. What is NumPy, and why is it widely used in Python?\n",
    "- NumPy is a powerful Python library for numerical computing. It provides efficient support for large multi-dimensional arrays and matrices along with mathematical functions to operate on them. It's much faster than Python lists due to its C-based implementation and vectorized operations."
   ]
  },
  {
   "cell_type": "markdown",
   "id": "fc8f235c",
   "metadata": {
    "vscode": {
     "languageId": "plaintext"
    }
   },
   "source": [
    "## 2. How does broadcasting work in NumPy?\n",
    "- Broadcasting allows NumPy to perform operations on arrays of different shapes without explicitly replicating data. It automatically expands the smaller array to match the shape of the larger one during arithmetic operations."
   ]
  },
  {
   "cell_type": "markdown",
   "id": "89bc4dc1",
   "metadata": {},
   "source": [
    "## 3. What is a Pandas DataFrame?\n",
    "A Pandas DataFrame is a two-dimensional, size-mutable, and heterogeneous tabular data structure with labeled axes (rows and columns).\n",
    "Key Characteristics:\n",
    "- Rows and columns can have custom labels (indices).\n",
    "- Can hold different data types: integers, floats, strings, etc.\n",
    "- Built on top of NumPy for performance."
   ]
  },
  {
   "cell_type": "markdown",
   "id": "620847d5",
   "metadata": {},
   "source": [
    "## 4. What is the use of the groupby() method in Pandas?\n",
    "The groupby() method in Pandas is used to split data into groups, apply some function, and then combine the results. It is one of the most powerful tools for data aggregation, transformation, and filtering."
   ]
  },
  {
   "cell_type": "markdown",
   "id": "97430530",
   "metadata": {},
   "source": [
    "## 5. Why is Seaborn preferred for statistical visualizations?\n",
    "- Seaborn is a high-level Python data visualization library based on Matplotlib, and it is specifically designed for statistical plots. It's widely preferred because it makes beautiful and informative charts with minimal code."
   ]
  },
  {
   "cell_type": "markdown",
   "id": "093f6a42",
   "metadata": {},
   "source": [
    "## 6. What are the differences between NumPy arrays and Python lists?\n",
    "\n",
    "| Feature    | NumPy Array     | Python List        |\n",
    "| ---------- | --------------- | ------------------ |\n",
    "| Speed      | Fast (C-backed) | Slow (interpreted) |\n",
    "| Memory     | Less            | More               |\n",
    "| Operations | Vectorized      | Manual loop needed |\n",
    "| Data type  | Homogeneous     | Heterogeneous      |\n",
    "\n"
   ]
  },
  {
   "cell_type": "markdown",
   "id": "7b2b5090",
   "metadata": {},
   "source": [
    "## 7. What is a heatmap, and when should it be used?\n",
    "- A heatmap is a graphical representation of data where individual values in a matrix are represented by color gradients. It's an excellent tool for visualizing the intensity or correlation between data values.\n",
    "\n"
   ]
  },
  {
   "cell_type": "markdown",
   "id": "f4d12df1",
   "metadata": {},
   "source": [
    "## 8. What does the term “vectorized operation” mean in NumPy?\n",
    "A vectorized operation in NumPy refers to performing operations on entire arrays (vectors) without writing explicit loops.\n",
    "\n",
    "Instead of iterating element by element like in traditional Python, NumPy uses under-the-hood C code to perform operations on entire arrays at once, which is faster and more efficient."
   ]
  },
  {
   "cell_type": "markdown",
   "id": "1b017010",
   "metadata": {},
   "source": [
    "## 9. How does Matplotlib differ from Plotly?\n",
    "Both Matplotlib and Plotly are popular Python libraries for data visualization, but they serve different purposes and offer different experiences.\n",
    "\n",
    "| Feature           | **Matplotlib**                    | **Plotly**                                  |\n",
    "| ----------------- | --------------------------------- | ------------------------------------------- |\n",
    "| 📈 Type           | Static, 2D plots                  | Interactive, 2D & 3D plots                  |\n",
    "| 💻 Interactivity  | Limited                           | High (zoom, hover, pan, tooltips)           |\n",
    "| 🎨 Styling        | Manual (requires customization)   | Built-in themes and clean aesthetics        |\n",
    "| 📦 Installation   | Lightweight, minimal dependencies | Heavier, more features                      |\n",
    "| 🧪 Use Case       | Academic, scientific plots        | Dashboards, web apps, business intelligence |\n",
    "| 💡 Learning Curve | Steeper for beginners             | Easier for interactive plots                |\n",
    "| 🌐 Output Support | Images (PNG, PDF, etc.)           | HTML, web-based, embeddable                 |\n"
   ]
  },
  {
   "cell_type": "markdown",
   "id": "6ce94c68",
   "metadata": {},
   "source": [
    "## 10. What is the significance of hierarchical indexing in Pandas?\n",
    "Hierarchical indexing, or MultiIndexing, in Pandas allows you to use multiple index levels on rows or columns of a DataFrame. It enables working with higher-dimensional data in a 2D tabular format.\n",
    "\n",
    "| Feature                  | Benefit                                                        |\n",
    "| ------------------------ | -------------------------------------------------------------- |\n",
    "| 🔗 Multiple keys         | Allows indexing by multiple levels of information              |\n",
    "| 🧠 Organized data        | Helps organize complex data (like time-series or grouped data) |\n",
    "| 🧮 Efficient aggregation | Enables operations like groupby and unstack                    |\n",
    "| 🔄 Reshaping flexibility | Easier to pivot, stack/unstack, and reshape the data           |\n"
   ]
  },
  {
   "cell_type": "markdown",
   "id": "f8499587",
   "metadata": {},
   "source": [
    "## 11. What is the role of Seaborn’s pairplot() function?\n",
    "The pairplot() function in Seaborn is used to create a matrix of scatter plots for visualizing relationships between multiple numerical features in a dataset. It's a powerful tool for exploratory data analysis (EDA).\n",
    "\n",
    "| Feature                 | Description                                                                  |\n",
    "| ----------------------- | ---------------------------------------------------------------------------- |\n",
    "| 🔗 Relationship Insight | Shows pairwise relationships between features using scatter plots            |\n",
    "| 📊 Distribution View    | Adds histograms or KDE plots on the diagonal for individual feature analysis |\n",
    "| 🧪 Categorical Coloring | Can color data points based on a categorical column (`hue` argument)         |\n",
    "| 📉 Correlation Checks   | Helps detect linear/nonlinear correlations, clusters, or outliers            |\n"
   ]
  },
  {
   "cell_type": "markdown",
   "id": "e5259468",
   "metadata": {},
   "source": [
    "## 12. What is the purpose of the describe() function in Pandas?\n",
    "The describe() function in Pandas provides a quick statistical summary of the numerical (and optionally categorical) columns in a DataFrame or Series.\n",
    "\n",
    "| Statistic        | Description                             |\n",
    "| ---------------- | --------------------------------------- |\n",
    "| **count**        | Number of non-missing values            |\n",
    "| **mean**         | Average value                           |\n",
    "| **std**          | Standard deviation (spread of the data) |\n",
    "| **min**          | Minimum value                           |\n",
    "| **25% (Q1)**     | First quartile (25th percentile)        |\n",
    "| **50% (median)** | Median (50th percentile)                |\n",
    "| **75% (Q3)**     | Third quartile (75th percentile)        |\n",
    "| **max**          | Maximum value                           |\n"
   ]
  },
  {
   "cell_type": "markdown",
   "id": "99ad2bad",
   "metadata": {},
   "source": [
    "## 13. Why is handling missing data important in Pandas?\n",
    "Handling missing data is crucial because missing or incomplete data can lead to:\n",
    "\n",
    "- Inaccurate analysis: Missing values can skew statistics like mean, median, or correlations.\n",
    "- Errors in modeling: Many machine learning models and algorithms cannot handle NaN values directly and may crash or produce unreliable results.\n",
    "- Misleading visualizations: Charts and plots may not represent data correctly if missing values aren’t addressed.\n",
    "- Data integrity issues: Missing data can indicate problems in data collection, storage, or transmission that need to be fixed.\n",
    "\n",
    "How Pandas Helps Handle Missing Data:\n",
    "\n",
    "- Detect missing values with methods like .isnull() or .notnull().\n",
    "- Fill missing values using .fillna().\n",
    "- Remove missing values using .dropna().\n",
    "- Interpolate missing data using .interpolate().\n"
   ]
  },
  {
   "cell_type": "markdown",
   "id": "bf9cf1ec",
   "metadata": {},
   "source": [
    "## 14. What are the benefits of using Plotly for data visualization?\n",
    "Plotly is a popular Python library for creating interactive, web-based visualizations. Here are the key benefits:\n",
    "\n",
    "| Benefit                       | Description                                                                                   |\n",
    "| ----------------------------- | --------------------------------------------------------------------------------------------- |\n",
    "| **Interactive Graphs**        | Users can zoom, pan, hover, and explore data dynamically, enhancing data exploration.         |\n",
    "| **Wide Range of Chart Types** | Supports line, bar, scatter, pie, heatmaps, 3D plots, maps, and more advanced visualizations. |\n",
    "| **Easy Integration**          | Works well with Jupyter notebooks, Dash apps, and web frameworks like Flask and Django.       |\n",
    "| **High Customizability**      | Highly customizable styling options to create professional and publication-quality plots.     |\n",
    "| **Web-Ready & Shareable**     | Generates HTML-based interactive plots that can be embedded in websites or dashboards easily. |\n",
    "| **Cross-Language Support**    | APIs available for Python, R, JavaScript, Julia, and more.                                    |\n",
    "| **Built-in Export Options**   | Export to static images (PNG, SVG, PDF) or interactive HTML files effortlessly.               |\n"
   ]
  },
  {
   "cell_type": "markdown",
   "id": "89a7e0e4",
   "metadata": {},
   "source": [
    "## 15. How does NumPy handle multidimensional arrays?\n",
    "NumPy efficiently handles multidimensional arrays (also called ndarrays) as homogeneous, fixed-size grids of elements, typically numbers, organized in multiple dimensions (1D, 2D, 3D, and beyond).\n",
    "\n",
    "Key Points:\n",
    "- ndarray Object: The core NumPy data structure is the ndarray, which can represent arrays of any dimension.\n",
    "- Shape Attribute: Multidimensional arrays have a .shape attribute, a tuple indicating the size along each dimension.\n",
    "- Example: A 3x4 matrix has shape (3, 4).\n",
    "- Strides: NumPy stores the data in a contiguous block of memory and uses strides to map multidimensional indices to the memory location.\n",
    "- Vectorized Operations: Supports efficient element-wise operations across entire arrays, regardless of dimensions.\n",
    "- Indexing & Slicing: Supports advanced indexing and slicing for any dimension, making data extraction flexible.\n",
    "- Broadcasting: Automatically expands arrays with smaller dimensions to match larger ones for operations.\n",
    "\n"
   ]
  },
  {
   "cell_type": "markdown",
   "id": "36a57f37",
   "metadata": {},
   "source": [
    "## 16. What is the role of Bokeh in data visualization?\n",
    "Bokeh is a powerful Python library focused on creating interactive, web-ready visualizations that can be easily embedded into web applications or dashboards.\n",
    "Key Roles and Features of Bokeh:\n",
    "- Interactive Visualizations: Enables tools like zooming, panning, hovering, and selecting within plots, making data exploration dynamic.\n",
    "- Web Integration: Generates JavaScript and HTML output, allowing seamless embedding of plots into websites or web apps without requiring users to install additional software.\n",
    "- Rich Plot Types: Supports a wide range of plots — line, bar, scatter, heatmaps, maps, and complex statistical plots.\n",
    "- Streaming & Real-time Data: Supports real-time updating plots, useful for live data dashboards.\n",
    "- Customization: Offers fine-grained control over plot appearance and behavior.\n",
    "- Server Support: Can run standalone or on a Bokeh server for interactive web apps with Python callbacks.\n",
    "\n"
   ]
  },
  {
   "cell_type": "markdown",
   "id": "06840eec",
   "metadata": {},
   "source": [
    "## 17. Explain the difference between apply() and map() in Pandas.\n",
    "Both apply() and map() are used to apply functions to data in Pandas, but they have different use cases and behaviors:\n",
    "| Aspect               | `map()`                                                                                                                                      | `apply()`                                                                                                          |\n",
    "| -------------------- | -------------------------------------------------------------------------------------------------------------------------------------------- | ------------------------------------------------------------------------------------------------------------------ |\n",
    "| **Usage**            | Mainly used on **Series** (single column).                                                                                                   | Used on both **Series** and **DataFrame**.                                                                         |\n",
    "| **Functionality**    | Maps values of a Series according to a mapping correspondence or function. Often used for element-wise transformations or value replacement. | Applies a function along an axis of a DataFrame or element-wise on a Series. More flexible for complex operations. |\n",
    "| **Input**            | Can accept a dictionary, Series, or function.                                                                                                | Takes a function that operates on rows, columns, or entire Series.                                                 |\n",
    "| **Return type**      | Returns a Series with transformed values.                                                                                                    | Returns Series or DataFrame depending on context.                                                                  |\n",
    "| **Axis support**     | No axis parameter (works only element-wise on Series).                                                                                       | Has `axis` parameter for DataFrames (0 for columns, 1 for rows).                                                   |\n",
    "| **Use case example** | Replace values based on a dictionary or map values with a function.                                                                          | Apply a custom aggregation or transformation on rows or columns.                                                   |\n"
   ]
  },
  {
   "cell_type": "markdown",
   "id": "cbc6b12d",
   "metadata": {},
   "source": [
    "## 18. What are some advanced features of NumPy?\n",
    "\n",
    "#### 1. **Broadcasting**\n",
    "\n",
    "* Allows arithmetic operations on arrays of different shapes by automatically expanding them to compatible shapes without copying data.\n",
    "* Enables efficient vectorized computations without explicit loops.\n",
    "\n",
    "#### 2. **Structured Arrays and Record Arrays**\n",
    "\n",
    "* Supports arrays with heterogeneous data types, similar to columns in a table or database.\n",
    "* Useful for handling complex datasets with mixed types.\n",
    "\n",
    "#### 3. **Masked Arrays**\n",
    "\n",
    "* Handles arrays with missing or invalid entries by masking certain elements.\n",
    "* Enables computations that ignore masked values.\n",
    "\n",
    "#### 4. **Fancy Indexing and Advanced Indexing**\n",
    "\n",
    "* Access elements using arrays or lists of indices.\n",
    "* Supports boolean indexing and conditional filtering.\n",
    "\n",
    "#### 5. **Linear Algebra Functions**\n",
    "\n",
    "* Built-in support for matrix multiplication, eigenvalues, singular value decomposition (SVD), and other linear algebra routines through `numpy.linalg`.\n",
    "\n",
    "#### 6. **Random Number Generation**\n",
    "\n",
    "* Comprehensive random sampling from various distributions using `numpy.random` module.\n",
    "* Useful for simulations and probabilistic modeling.\n",
    "\n",
    "#### 7. **FFT (Fast Fourier Transform)**\n",
    "\n",
    "* Provides efficient computation of Fourier transforms for signal processing applications.\n",
    "\n",
    "#### 8. **Memory Mapping**\n",
    "\n",
    "* Allows working with arrays stored on disk as if they were in memory, enabling handling of large datasets that don't fit in RAM.\n",
    "\n",
    "#### 9. **Integration with C/C++ and Fortran**\n",
    "\n",
    "* Supports direct interfacing with low-level languages for performance-critical code via `ctypes`, `Cython`, or `f2py`.\n",
    "\n",
    "#### 10. **Universal Functions (ufuncs)**\n",
    "\n",
    "* Fast element-wise operations implemented in C.\n",
    "* Support for custom ufuncs and broadcasting rules."
   ]
  },
  {
   "cell_type": "markdown",
   "id": "921667e7",
   "metadata": {},
   "source": [
    "## 19. How does Pandas simplify time series analysis?\n",
    "\n",
    "#### 1. **DateTime Indexing**\n",
    "\n",
    "* Pandas supports `DatetimeIndex`, which allows indexing and slicing time series data by dates and times intuitively.\n",
    "* Enables easy selection of data for specific dates, ranges, or frequencies.\n",
    "\n",
    "#### 2. **Resampling and Frequency Conversion**\n",
    "\n",
    "* Methods like `.resample()` allow changing the frequency of time series data (e.g., converting daily data to monthly).\n",
    "* Supports upsampling and downsampling with aggregation functions (mean, sum, etc.).\n",
    "\n",
    "#### 3. **Time-aware Operations**\n",
    "\n",
    "* Built-in support for shifting, lagging, and differencing time series data with `.shift()`, `.diff()` functions.\n",
    "* Facilitates time-based calculations and feature engineering.\n",
    "\n",
    "#### 4. **Handling Missing Dates**\n",
    "\n",
    "* Automatically aligns data with time indices and can fill missing dates with methods like forward-fill (`ffill`) or interpolation.\n",
    "\n",
    "#### 5. **Date and Time Components Extraction**\n",
    "\n",
    "* Easily extract parts of dates like year, month, day, hour, weekday using `.dt` accessor.\n",
    "\n",
    "#### 6. **Time Zone Handling**\n",
    "\n",
    "* Supports timezone-aware datetime objects, conversion between timezones, and localization.\n",
    "\n",
    "#### 7. **Rolling Windows and Moving Statistics**\n",
    "\n",
    "* `.rolling()` method supports moving averages, sums, and other window-based computations essential for time series smoothing and analysis.\n",
    "\n",
    "#### 8. **Period and Interval Data Types**\n",
    "\n",
    "* Pandas includes `Period` and `Interval` data types to represent fixed spans of time, useful for financial and statistical analyses.\n"
   ]
  },
  {
   "cell_type": "markdown",
   "id": "a16e2607",
   "metadata": {},
   "source": [
    "## 20. What is the role of a pivot table in Pandas?\n",
    "\n",
    "A **pivot table** in Pandas is a powerful tool used to **summarize, aggregate, and reorganize** data in a DataFrame. It allows you to transform or “pivot” your data, making it easier to analyze relationships and patterns by grouping and aggregating data.\n",
    "\n",
    "---\n",
    "\n",
    "#### Key Roles of Pivot Tables in Pandas:\n",
    "\n",
    "1. **Data Aggregation:**\n",
    "\n",
    "   * Summarizes data by applying aggregation functions (e.g., `sum`, `mean`, `count`) on grouped data.\n",
    "\n",
    "2. **Data Reshaping:**\n",
    "\n",
    "   * Transforms data from a long format to a wide format, making it easier to compare different categories side-by-side.\n",
    "\n",
    "3. **Multi-level Indexing:**\n",
    "\n",
    "   * Supports grouping by multiple columns to create hierarchical or multi-index pivot tables.\n",
    "\n",
    "4. **Quick Summary:**\n",
    "\n",
    "   * Provides a concise summary of large datasets, helpful in exploratory data analysis.\n",
    "\n",
    "5. **Custom Aggregations:**\n",
    "\n",
    "   * Allows specifying different aggregation functions for different columns.\n",
    "\n",
    "---\n",
    "\n",
    "### Example:\n",
    "\n",
    "```python\n",
    "import pandas as pd\n",
    "\n",
    "data = {\n",
    "    'Date': ['2023-01-01', '2023-01-01', '2023-01-02', '2023-01-02'],\n",
    "    'City': ['New York', 'Los Angeles', 'New York', 'Los Angeles'],\n",
    "    'Sales': [250, 200, 150, 300]\n",
    "}\n",
    "\n",
    "df = pd.DataFrame(data)\n",
    "\n",
    "pivot_table = df.pivot_table(values='Sales', index='Date', columns='City', aggfunc='sum')\n",
    "print(pivot_table)\n",
    "```\n",
    "\n",
    "This will output a table with Dates as rows, Cities as columns, and total sales as the values — making comparisons easy.\n"
   ]
  },
  {
   "cell_type": "markdown",
   "id": "36ce9788",
   "metadata": {},
   "source": [
    "## 21. Why is NumPy’s array slicing faster than Python’s list slicing?\n",
    "\n",
    "NumPy’s array slicing is faster than Python’s list slicing due to several key reasons related to the underlying data structures and implementation:\n",
    "\n",
    "---\n",
    "\n",
    "#### 1. **Homogeneous Data Storage**\n",
    "\n",
    "* **NumPy arrays** store elements of the **same data type** in a contiguous block of memory (like a C array).\n",
    "* **Python lists** can store elements of different types, so they store references (pointers) to Python objects scattered in memory.\n",
    "* Accessing contiguous memory in NumPy is faster because CPU caching is more effective.\n",
    "\n",
    "#### 2. **Views Instead of Copies**\n",
    "\n",
    "* NumPy slicing typically returns a **view** of the original array, not a copy.\n",
    "* This means no new memory allocation or data copying occurs during slicing — it just creates a new way to access the existing data.\n",
    "* Python list slicing **creates a new list (copy)**, which involves allocating new memory and copying elements, making it slower.\n",
    "\n",
    "#### 3. **Optimized Low-level Implementation**\n",
    "\n",
    "* NumPy operations are implemented in **C and Fortran**, enabling highly optimized and compiled code execution.\n",
    "* Python lists slicing is implemented at the Python interpreter level, which is slower due to dynamic typing and interpreter overhead.\n",
    "\n",
    "---\n",
    "\n",
    "### Summary:\n",
    "\n",
    "| Reason                  | NumPy Array Slicing      | Python List Slicing |\n",
    "| ----------------------- | ------------------------ | ------------------- |\n",
    "| Data type               | Homogeneous              | Heterogeneous       |\n",
    "| Memory layout           | Contiguous memory block  | Array of pointers   |\n",
    "| Slice operation         | Returns a view (no copy) | Returns a new copy  |\n",
    "| Implementation language | Optimized C code         | Python interpreter  |\n",
    "\n",
    "This combination of contiguous memory, view-based slicing, and optimized native code makes NumPy slicing significantly faster than Python list slicing."
   ]
  },
  {
   "cell_type": "markdown",
   "id": "b90586a2",
   "metadata": {},
   "source": [
    "## 22. What are some common use cases for Seaborn?\n",
    "\n",
    "Seaborn is a powerful Python visualization library built on top of Matplotlib, designed specifically for making statistical graphics easy and visually appealing. Here are some common use cases where Seaborn shines:\n",
    "\n",
    "---\n",
    "\n",
    "#### 1. **Statistical Data Visualization**\n",
    "\n",
    "* Creating plots that summarize and explore statistical relationships, such as distributions, correlations, and comparisons.\n",
    "* Examples: histograms, KDE plots, box plots, violin plots.\n",
    "\n",
    "#### 2. **Visualizing Distributions**\n",
    "\n",
    "* Plotting univariate and bivariate distributions to understand the spread and shape of data.\n",
    "* Examples: `distplot()`, `kdeplot()`, `jointplot()`.\n",
    "\n",
    "#### 3. **Exploring Relationships Between Variables**\n",
    "\n",
    "* Visualizing relationships and dependencies between two or more variables.\n",
    "* Examples: scatter plots with regression lines (`regplot()`), pair plots (`pairplot()`).\n",
    "\n",
    "#### 4. **Categorical Data Visualization**\n",
    "\n",
    "* Comparing categories using bar plots, count plots, box plots, and violin plots.\n",
    "* Useful for understanding differences between groups.\n",
    "* Examples: `barplot()`, `countplot()`, `boxplot()`, `violinplot()`.\n",
    "\n",
    "#### 5. **Heatmaps and Correlation Matrices**\n",
    "\n",
    "* Visualizing matrices, such as correlation matrices or confusion matrices.\n",
    "* Useful in identifying patterns and correlations.\n",
    "* Example: `heatmap()`.\n",
    "\n",
    "#### 6. **Time Series Visualization**\n",
    "\n",
    "* Plotting time series data with line plots and confidence intervals.\n",
    "* Example: `lineplot()` with time on the x-axis.\n",
    "\n",
    "#### 7. **Faceted Plots**\n",
    "\n",
    "* Creating multiple subplots (facets) based on categorical variables to compare subsets of data.\n",
    "* Example: `FacetGrid()`.\n",
    "\n",
    "---\n",
    "\n",
    "### Summary Table\n",
    "\n",
    "| Use Case                   | Common Seaborn Functions                                |\n",
    "| -------------------------- | ------------------------------------------------------- |\n",
    "| Distribution visualization | `histplot()`, `kdeplot()`, `distplot()` (deprecated)    |\n",
    "| Relationship exploration   | `scatterplot()`, `regplot()`, `pairplot()`              |\n",
    "| Categorical comparison     | `barplot()`, `countplot()`, `boxplot()`, `violinplot()` |\n",
    "| Matrix visualization       | `heatmap()`                                             |\n",
    "| Time series analysis       | `lineplot()`                                            |\n",
    "| Faceted plots              | `FacetGrid()`, `catplot()`                              |\n",
    "\n",
    "---\n",
    "\n",
    "Seaborn is especially preferred when you want quick, attractive, and informative statistical plots with minimal code. It handles the aesthetics and statistical details, letting you focus on the data story.\n"
   ]
  },
  {
   "cell_type": "markdown",
   "id": "930c24fe",
   "metadata": {},
   "source": []
  }
 ],
 "metadata": {
  "language_info": {
   "name": "python"
  }
 },
 "nbformat": 4,
 "nbformat_minor": 5
}
