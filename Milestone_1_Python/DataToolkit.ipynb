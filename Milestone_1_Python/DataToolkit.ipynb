{
 "cells": [
  {
   "cell_type": "markdown",
   "id": "1b1166c5",
   "metadata": {},
   "source": [
    "# Data Toolkit"
   ]
  },
  {
   "cell_type": "markdown",
   "id": "62bacd14",
   "metadata": {},
   "source": [
    "## 1. What is NumPy, and why is it widely used in Python?\n",
    "- NumPy is a powerful Python library for numerical computing. It provides efficient support for large multi-dimensional arrays and matrices along with mathematical functions to operate on them. It's much faster than Python lists due to its C-based implementation and vectorized operations."
   ]
  },
  {
   "cell_type": "markdown",
   "id": "fc8f235c",
   "metadata": {
    "vscode": {
     "languageId": "plaintext"
    }
   },
   "source": [
    "## 2. How does broadcasting work in NumPy?\n",
    "- Broadcasting allows NumPy to perform operations on arrays of different shapes without explicitly replicating data. It automatically expands the smaller array to match the shape of the larger one during arithmetic operations."
   ]
  },
  {
   "cell_type": "markdown",
   "id": "89bc4dc1",
   "metadata": {},
   "source": [
    "## 3. What is a Pandas DataFrame?\n",
    "A Pandas DataFrame is a two-dimensional, size-mutable, and heterogeneous tabular data structure with labeled axes (rows and columns).\n",
    "Key Characteristics:\n",
    "- Rows and columns can have custom labels (indices).\n",
    "- Can hold different data types: integers, floats, strings, etc.\n",
    "- Built on top of NumPy for performance."
   ]
  },
  {
   "cell_type": "markdown",
   "id": "620847d5",
   "metadata": {},
   "source": [
    "## 4. What is the use of the groupby() method in Pandas?\n",
    "The groupby() method in Pandas is used to split data into groups, apply some function, and then combine the results. It is one of the most powerful tools for data aggregation, transformation, and filtering."
   ]
  },
  {
   "cell_type": "markdown",
   "id": "97430530",
   "metadata": {},
   "source": [
    "## 5. Why is Seaborn preferred for statistical visualizations?\n",
    "- Seaborn is a high-level Python data visualization library based on Matplotlib, and it is specifically designed for statistical plots. It's widely preferred because it makes beautiful and informative charts with minimal code."
   ]
  },
  {
   "cell_type": "markdown",
   "id": "093f6a42",
   "metadata": {},
   "source": [
    "## 6. What are the differences between NumPy arrays and Python lists?\n",
    "\n",
    "| Feature    | NumPy Array     | Python List        |\n",
    "| ---------- | --------------- | ------------------ |\n",
    "| Speed      | Fast (C-backed) | Slow (interpreted) |\n",
    "| Memory     | Less            | More               |\n",
    "| Operations | Vectorized      | Manual loop needed |\n",
    "| Data type  | Homogeneous     | Heterogeneous      |\n",
    "\n"
   ]
  },
  {
   "cell_type": "markdown",
   "id": "7b2b5090",
   "metadata": {},
   "source": [
    "## 7. What is a heatmap, and when should it be used?\n",
    "- A heatmap is a graphical representation of data where individual values in a matrix are represented by color gradients. It's an excellent tool for visualizing the intensity or correlation between data values.\n",
    "\n"
   ]
  },
  {
   "cell_type": "markdown",
   "id": "f4d12df1",
   "metadata": {},
   "source": [
    "## 8. What does the term “vectorized operation” mean in NumPy?\n",
    "A vectorized operation in NumPy refers to performing operations on entire arrays (vectors) without writing explicit loops.\n",
    "\n",
    "Instead of iterating element by element like in traditional Python, NumPy uses under-the-hood C code to perform operations on entire arrays at once, which is faster and more efficient."
   ]
  },
  {
   "cell_type": "markdown",
   "id": "1b017010",
   "metadata": {},
   "source": [
    "## 9. How does Matplotlib differ from Plotly?\n",
    "Both Matplotlib and Plotly are popular Python libraries for data visualization, but they serve different purposes and offer different experiences.\n",
    "\n",
    "| Feature           | **Matplotlib**                    | **Plotly**                                  |\n",
    "| ----------------- | --------------------------------- | ------------------------------------------- |\n",
    "| 📈 Type           | Static, 2D plots                  | Interactive, 2D & 3D plots                  |\n",
    "| 💻 Interactivity  | Limited                           | High (zoom, hover, pan, tooltips)           |\n",
    "| 🎨 Styling        | Manual (requires customization)   | Built-in themes and clean aesthetics        |\n",
    "| 📦 Installation   | Lightweight, minimal dependencies | Heavier, more features                      |\n",
    "| 🧪 Use Case       | Academic, scientific plots        | Dashboards, web apps, business intelligence |\n",
    "| 💡 Learning Curve | Steeper for beginners             | Easier for interactive plots                |\n",
    "| 🌐 Output Support | Images (PNG, PDF, etc.)           | HTML, web-based, embeddable                 |\n"
   ]
  },
  {
   "cell_type": "markdown",
   "id": "6ce94c68",
   "metadata": {},
   "source": [
    "## 10. What is the significance of hierarchical indexing in Pandas?\n",
    "Hierarchical indexing, or MultiIndexing, in Pandas allows you to use multiple index levels on rows or columns of a DataFrame. It enables working with higher-dimensional data in a 2D tabular format.\n",
    "\n",
    "| Feature                  | Benefit                                                        |\n",
    "| ------------------------ | -------------------------------------------------------------- |\n",
    "| 🔗 Multiple keys         | Allows indexing by multiple levels of information              |\n",
    "| 🧠 Organized data        | Helps organize complex data (like time-series or grouped data) |\n",
    "| 🧮 Efficient aggregation | Enables operations like groupby and unstack                    |\n",
    "| 🔄 Reshaping flexibility | Easier to pivot, stack/unstack, and reshape the data           |\n"
   ]
  },
  {
   "cell_type": "markdown",
   "id": "f8499587",
   "metadata": {},
   "source": [
    "## 11. What is the role of Seaborn’s pairplot() function?\n",
    "The pairplot() function in Seaborn is used to create a matrix of scatter plots for visualizing relationships between multiple numerical features in a dataset. It's a powerful tool for exploratory data analysis (EDA).\n",
    "\n",
    "| Feature                 | Description                                                                  |\n",
    "| ----------------------- | ---------------------------------------------------------------------------- |\n",
    "| 🔗 Relationship Insight | Shows pairwise relationships between features using scatter plots            |\n",
    "| 📊 Distribution View    | Adds histograms or KDE plots on the diagonal for individual feature analysis |\n",
    "| 🧪 Categorical Coloring | Can color data points based on a categorical column (`hue` argument)         |\n",
    "| 📉 Correlation Checks   | Helps detect linear/nonlinear correlations, clusters, or outliers            |\n"
   ]
  },
  {
   "cell_type": "markdown",
   "id": "e5259468",
   "metadata": {},
   "source": [
    "## 12. What is the purpose of the describe() function in Pandas?\n",
    "The describe() function in Pandas provides a quick statistical summary of the numerical (and optionally categorical) columns in a DataFrame or Series.\n",
    "\n",
    "| Statistic        | Description                             |\n",
    "| ---------------- | --------------------------------------- |\n",
    "| **count**        | Number of non-missing values            |\n",
    "| **mean**         | Average value                           |\n",
    "| **std**          | Standard deviation (spread of the data) |\n",
    "| **min**          | Minimum value                           |\n",
    "| **25% (Q1)**     | First quartile (25th percentile)        |\n",
    "| **50% (median)** | Median (50th percentile)                |\n",
    "| **75% (Q3)**     | Third quartile (75th percentile)        |\n",
    "| **max**          | Maximum value                           |\n"
   ]
  },
  {
   "cell_type": "markdown",
   "id": "99ad2bad",
   "metadata": {},
   "source": [
    "## 13. Why is handling missing data important in Pandas?\n",
    "Handling missing data is crucial because missing or incomplete data can lead to:\n",
    "\n",
    "- Inaccurate analysis: Missing values can skew statistics like mean, median, or correlations.\n",
    "- Errors in modeling: Many machine learning models and algorithms cannot handle NaN values directly and may crash or produce unreliable results.\n",
    "- Misleading visualizations: Charts and plots may not represent data correctly if missing values aren’t addressed.\n",
    "- Data integrity issues: Missing data can indicate problems in data collection, storage, or transmission that need to be fixed.\n",
    "\n",
    "How Pandas Helps Handle Missing Data:\n",
    "\n",
    "- Detect missing values with methods like .isnull() or .notnull().\n",
    "- Fill missing values using .fillna().\n",
    "- Remove missing values using .dropna().\n",
    "- Interpolate missing data using .interpolate().\n"
   ]
  },
  {
   "cell_type": "markdown",
   "id": "bf9cf1ec",
   "metadata": {},
   "source": [
    "## 14. What are the benefits of using Plotly for data visualization?\n",
    "Plotly is a popular Python library for creating interactive, web-based visualizations. Here are the key benefits:\n",
    "\n",
    "| Benefit                       | Description                                                                                   |\n",
    "| ----------------------------- | --------------------------------------------------------------------------------------------- |\n",
    "| **Interactive Graphs**        | Users can zoom, pan, hover, and explore data dynamically, enhancing data exploration.         |\n",
    "| **Wide Range of Chart Types** | Supports line, bar, scatter, pie, heatmaps, 3D plots, maps, and more advanced visualizations. |\n",
    "| **Easy Integration**          | Works well with Jupyter notebooks, Dash apps, and web frameworks like Flask and Django.       |\n",
    "| **High Customizability**      | Highly customizable styling options to create professional and publication-quality plots.     |\n",
    "| **Web-Ready & Shareable**     | Generates HTML-based interactive plots that can be embedded in websites or dashboards easily. |\n",
    "| **Cross-Language Support**    | APIs available for Python, R, JavaScript, Julia, and more.                                    |\n",
    "| **Built-in Export Options**   | Export to static images (PNG, SVG, PDF) or interactive HTML files effortlessly.               |\n"
   ]
  },
  {
   "cell_type": "markdown",
   "id": "89a7e0e4",
   "metadata": {},
   "source": [
    "## 15. How does NumPy handle multidimensional arrays?\n",
    "NumPy efficiently handles multidimensional arrays (also called ndarrays) as homogeneous, fixed-size grids of elements, typically numbers, organized in multiple dimensions (1D, 2D, 3D, and beyond).\n",
    "\n",
    "Key Points:\n",
    "- ndarray Object: The core NumPy data structure is the ndarray, which can represent arrays of any dimension.\n",
    "- Shape Attribute: Multidimensional arrays have a .shape attribute, a tuple indicating the size along each dimension.\n",
    "- Example: A 3x4 matrix has shape (3, 4).\n",
    "- Strides: NumPy stores the data in a contiguous block of memory and uses strides to map multidimensional indices to the memory location.\n",
    "- Vectorized Operations: Supports efficient element-wise operations across entire arrays, regardless of dimensions.\n",
    "- Indexing & Slicing: Supports advanced indexing and slicing for any dimension, making data extraction flexible.\n",
    "- Broadcasting: Automatically expands arrays with smaller dimensions to match larger ones for operations.\n",
    "\n"
   ]
  },
  {
   "cell_type": "markdown",
   "id": "36a57f37",
   "metadata": {},
   "source": [
    "## 16. What is the role of Bokeh in data visualization?\n",
    "Bokeh is a powerful Python library focused on creating interactive, web-ready visualizations that can be easily embedded into web applications or dashboards.\n",
    "Key Roles and Features of Bokeh:\n",
    "- Interactive Visualizations: Enables tools like zooming, panning, hovering, and selecting within plots, making data exploration dynamic.\n",
    "- Web Integration: Generates JavaScript and HTML output, allowing seamless embedding of plots into websites or web apps without requiring users to install additional software.\n",
    "- Rich Plot Types: Supports a wide range of plots — line, bar, scatter, heatmaps, maps, and complex statistical plots.\n",
    "- Streaming & Real-time Data: Supports real-time updating plots, useful for live data dashboards.\n",
    "- Customization: Offers fine-grained control over plot appearance and behavior.\n",
    "- Server Support: Can run standalone or on a Bokeh server for interactive web apps with Python callbacks.\n",
    "\n"
   ]
  },
  {
   "cell_type": "markdown",
   "id": "06840eec",
   "metadata": {},
   "source": [
    "## 17. Explain the difference between apply() and map() in Pandas.\n",
    "Both apply() and map() are used to apply functions to data in Pandas, but they have different use cases and behaviors:\n",
    "| Aspect               | `map()`                                                                                                                                      | `apply()`                                                                                                          |\n",
    "| -------------------- | -------------------------------------------------------------------------------------------------------------------------------------------- | ------------------------------------------------------------------------------------------------------------------ |\n",
    "| **Usage**            | Mainly used on **Series** (single column).                                                                                                   | Used on both **Series** and **DataFrame**.                                                                         |\n",
    "| **Functionality**    | Maps values of a Series according to a mapping correspondence or function. Often used for element-wise transformations or value replacement. | Applies a function along an axis of a DataFrame or element-wise on a Series. More flexible for complex operations. |\n",
    "| **Input**            | Can accept a dictionary, Series, or function.                                                                                                | Takes a function that operates on rows, columns, or entire Series.                                                 |\n",
    "| **Return type**      | Returns a Series with transformed values.                                                                                                    | Returns Series or DataFrame depending on context.                                                                  |\n",
    "| **Axis support**     | No axis parameter (works only element-wise on Series).                                                                                       | Has `axis` parameter for DataFrames (0 for columns, 1 for rows).                                                   |\n",
    "| **Use case example** | Replace values based on a dictionary or map values with a function.                                                                          | Apply a custom aggregation or transformation on rows or columns.                                                   |\n"
   ]
  },
  {
   "cell_type": "markdown",
   "id": "cbc6b12d",
   "metadata": {},
   "source": [
    "## 18. What are some advanced features of NumPy?\n",
    "\n",
    "#### 1. **Broadcasting**\n",
    "\n",
    "* Allows arithmetic operations on arrays of different shapes by automatically expanding them to compatible shapes without copying data.\n",
    "* Enables efficient vectorized computations without explicit loops.\n",
    "\n",
    "#### 2. **Structured Arrays and Record Arrays**\n",
    "\n",
    "* Supports arrays with heterogeneous data types, similar to columns in a table or database.\n",
    "* Useful for handling complex datasets with mixed types.\n",
    "\n",
    "#### 3. **Masked Arrays**\n",
    "\n",
    "* Handles arrays with missing or invalid entries by masking certain elements.\n",
    "* Enables computations that ignore masked values.\n",
    "\n",
    "#### 4. **Fancy Indexing and Advanced Indexing**\n",
    "\n",
    "* Access elements using arrays or lists of indices.\n",
    "* Supports boolean indexing and conditional filtering.\n",
    "\n",
    "#### 5. **Linear Algebra Functions**\n",
    "\n",
    "* Built-in support for matrix multiplication, eigenvalues, singular value decomposition (SVD), and other linear algebra routines through `numpy.linalg`.\n",
    "\n",
    "#### 6. **Random Number Generation**\n",
    "\n",
    "* Comprehensive random sampling from various distributions using `numpy.random` module.\n",
    "* Useful for simulations and probabilistic modeling.\n",
    "\n",
    "#### 7. **FFT (Fast Fourier Transform)**\n",
    "\n",
    "* Provides efficient computation of Fourier transforms for signal processing applications.\n",
    "\n",
    "#### 8. **Memory Mapping**\n",
    "\n",
    "* Allows working with arrays stored on disk as if they were in memory, enabling handling of large datasets that don't fit in RAM.\n",
    "\n",
    "#### 9. **Integration with C/C++ and Fortran**\n",
    "\n",
    "* Supports direct interfacing with low-level languages for performance-critical code via `ctypes`, `Cython`, or `f2py`.\n",
    "\n",
    "#### 10. **Universal Functions (ufuncs)**\n",
    "\n",
    "* Fast element-wise operations implemented in C.\n",
    "* Support for custom ufuncs and broadcasting rules."
   ]
  },
  {
   "cell_type": "markdown",
   "id": "921667e7",
   "metadata": {},
   "source": [
    "## 19. How does Pandas simplify time series analysis?\n",
    "\n",
    "#### 1. **DateTime Indexing**\n",
    "\n",
    "* Pandas supports `DatetimeIndex`, which allows indexing and slicing time series data by dates and times intuitively.\n",
    "* Enables easy selection of data for specific dates, ranges, or frequencies.\n",
    "\n",
    "#### 2. **Resampling and Frequency Conversion**\n",
    "\n",
    "* Methods like `.resample()` allow changing the frequency of time series data (e.g., converting daily data to monthly).\n",
    "* Supports upsampling and downsampling with aggregation functions (mean, sum, etc.).\n",
    "\n",
    "#### 3. **Time-aware Operations**\n",
    "\n",
    "* Built-in support for shifting, lagging, and differencing time series data with `.shift()`, `.diff()` functions.\n",
    "* Facilitates time-based calculations and feature engineering.\n",
    "\n",
    "#### 4. **Handling Missing Dates**\n",
    "\n",
    "* Automatically aligns data with time indices and can fill missing dates with methods like forward-fill (`ffill`) or interpolation.\n",
    "\n",
    "#### 5. **Date and Time Components Extraction**\n",
    "\n",
    "* Easily extract parts of dates like year, month, day, hour, weekday using `.dt` accessor.\n",
    "\n",
    "#### 6. **Time Zone Handling**\n",
    "\n",
    "* Supports timezone-aware datetime objects, conversion between timezones, and localization.\n",
    "\n",
    "#### 7. **Rolling Windows and Moving Statistics**\n",
    "\n",
    "* `.rolling()` method supports moving averages, sums, and other window-based computations essential for time series smoothing and analysis.\n",
    "\n",
    "#### 8. **Period and Interval Data Types**\n",
    "\n",
    "* Pandas includes `Period` and `Interval` data types to represent fixed spans of time, useful for financial and statistical analyses.\n"
   ]
  },
  {
   "cell_type": "markdown",
   "id": "a16e2607",
   "metadata": {},
   "source": [
    "## 20. What is the role of a pivot table in Pandas?\n",
    "\n",
    "A **pivot table** in Pandas is a powerful tool used to **summarize, aggregate, and reorganize** data in a DataFrame. It allows you to transform or “pivot” your data, making it easier to analyze relationships and patterns by grouping and aggregating data.\n",
    "\n",
    "---\n",
    "\n",
    "#### Key Roles of Pivot Tables in Pandas:\n",
    "\n",
    "1. **Data Aggregation:**\n",
    "\n",
    "   * Summarizes data by applying aggregation functions (e.g., `sum`, `mean`, `count`) on grouped data.\n",
    "\n",
    "2. **Data Reshaping:**\n",
    "\n",
    "   * Transforms data from a long format to a wide format, making it easier to compare different categories side-by-side.\n",
    "\n",
    "3. **Multi-level Indexing:**\n",
    "\n",
    "   * Supports grouping by multiple columns to create hierarchical or multi-index pivot tables.\n",
    "\n",
    "4. **Quick Summary:**\n",
    "\n",
    "   * Provides a concise summary of large datasets, helpful in exploratory data analysis.\n",
    "\n",
    "5. **Custom Aggregations:**\n",
    "\n",
    "   * Allows specifying different aggregation functions for different columns.\n",
    "\n",
    "---\n",
    "\n",
    "### Example:\n",
    "\n",
    "```python\n",
    "import pandas as pd\n",
    "\n",
    "data = {\n",
    "    'Date': ['2023-01-01', '2023-01-01', '2023-01-02', '2023-01-02'],\n",
    "    'City': ['New York', 'Los Angeles', 'New York', 'Los Angeles'],\n",
    "    'Sales': [250, 200, 150, 300]\n",
    "}\n",
    "\n",
    "df = pd.DataFrame(data)\n",
    "\n",
    "pivot_table = df.pivot_table(values='Sales', index='Date', columns='City', aggfunc='sum')\n",
    "print(pivot_table)\n",
    "```\n",
    "\n",
    "This will output a table with Dates as rows, Cities as columns, and total sales as the values — making comparisons easy.\n"
   ]
  },
  {
   "cell_type": "markdown",
   "id": "36ce9788",
   "metadata": {},
   "source": [
    "## 21. Why is NumPy’s array slicing faster than Python’s list slicing?\n",
    "\n",
    "NumPy’s array slicing is faster than Python’s list slicing due to several key reasons related to the underlying data structures and implementation:\n",
    "\n",
    "---\n",
    "\n",
    "#### 1. **Homogeneous Data Storage**\n",
    "\n",
    "* **NumPy arrays** store elements of the **same data type** in a contiguous block of memory (like a C array).\n",
    "* **Python lists** can store elements of different types, so they store references (pointers) to Python objects scattered in memory.\n",
    "* Accessing contiguous memory in NumPy is faster because CPU caching is more effective.\n",
    "\n",
    "#### 2. **Views Instead of Copies**\n",
    "\n",
    "* NumPy slicing typically returns a **view** of the original array, not a copy.\n",
    "* This means no new memory allocation or data copying occurs during slicing — it just creates a new way to access the existing data.\n",
    "* Python list slicing **creates a new list (copy)**, which involves allocating new memory and copying elements, making it slower.\n",
    "\n",
    "#### 3. **Optimized Low-level Implementation**\n",
    "\n",
    "* NumPy operations are implemented in **C and Fortran**, enabling highly optimized and compiled code execution.\n",
    "* Python lists slicing is implemented at the Python interpreter level, which is slower due to dynamic typing and interpreter overhead.\n",
    "\n",
    "---\n",
    "\n",
    "### Summary:\n",
    "\n",
    "| Reason                  | NumPy Array Slicing      | Python List Slicing |\n",
    "| ----------------------- | ------------------------ | ------------------- |\n",
    "| Data type               | Homogeneous              | Heterogeneous       |\n",
    "| Memory layout           | Contiguous memory block  | Array of pointers   |\n",
    "| Slice operation         | Returns a view (no copy) | Returns a new copy  |\n",
    "| Implementation language | Optimized C code         | Python interpreter  |\n",
    "\n",
    "This combination of contiguous memory, view-based slicing, and optimized native code makes NumPy slicing significantly faster than Python list slicing."
   ]
  },
  {
   "cell_type": "markdown",
   "id": "b90586a2",
   "metadata": {},
   "source": [
    "## 22. What are some common use cases for Seaborn?\n",
    "\n",
    "Seaborn is a powerful Python visualization library built on top of Matplotlib, designed specifically for making statistical graphics easy and visually appealing. Here are some common use cases where Seaborn shines:\n",
    "\n",
    "---\n",
    "\n",
    "#### 1. **Statistical Data Visualization**\n",
    "\n",
    "* Creating plots that summarize and explore statistical relationships, such as distributions, correlations, and comparisons.\n",
    "* Examples: histograms, KDE plots, box plots, violin plots.\n",
    "\n",
    "#### 2. **Visualizing Distributions**\n",
    "\n",
    "* Plotting univariate and bivariate distributions to understand the spread and shape of data.\n",
    "* Examples: `distplot()`, `kdeplot()`, `jointplot()`.\n",
    "\n",
    "#### 3. **Exploring Relationships Between Variables**\n",
    "\n",
    "* Visualizing relationships and dependencies between two or more variables.\n",
    "* Examples: scatter plots with regression lines (`regplot()`), pair plots (`pairplot()`).\n",
    "\n",
    "#### 4. **Categorical Data Visualization**\n",
    "\n",
    "* Comparing categories using bar plots, count plots, box plots, and violin plots.\n",
    "* Useful for understanding differences between groups.\n",
    "* Examples: `barplot()`, `countplot()`, `boxplot()`, `violinplot()`.\n",
    "\n",
    "#### 5. **Heatmaps and Correlation Matrices**\n",
    "\n",
    "* Visualizing matrices, such as correlation matrices or confusion matrices.\n",
    "* Useful in identifying patterns and correlations.\n",
    "* Example: `heatmap()`.\n",
    "\n",
    "#### 6. **Time Series Visualization**\n",
    "\n",
    "* Plotting time series data with line plots and confidence intervals.\n",
    "* Example: `lineplot()` with time on the x-axis.\n",
    "\n",
    "#### 7. **Faceted Plots**\n",
    "\n",
    "* Creating multiple subplots (facets) based on categorical variables to compare subsets of data.\n",
    "* Example: `FacetGrid()`.\n",
    "\n",
    "---\n",
    "\n",
    "### Summary Table\n",
    "\n",
    "| Use Case                   | Common Seaborn Functions                                |\n",
    "| -------------------------- | ------------------------------------------------------- |\n",
    "| Distribution visualization | `histplot()`, `kdeplot()`, `distplot()` (deprecated)    |\n",
    "| Relationship exploration   | `scatterplot()`, `regplot()`, `pairplot()`              |\n",
    "| Categorical comparison     | `barplot()`, `countplot()`, `boxplot()`, `violinplot()` |\n",
    "| Matrix visualization       | `heatmap()`                                             |\n",
    "| Time series analysis       | `lineplot()`                                            |\n",
    "| Faceted plots              | `FacetGrid()`, `catplot()`                              |\n",
    "\n",
    "---\n",
    "\n",
    "Seaborn is especially preferred when you want quick, attractive, and informative statistical plots with minimal code. It handles the aesthetics and statistical details, letting you focus on the data story.\n"
   ]
  },
  {
   "cell_type": "markdown",
   "id": "930c24fe",
   "metadata": {},
   "source": [
    "# Practical"
   ]
  },
  {
   "cell_type": "code",
   "execution_count": 1,
   "id": "d92794fb",
   "metadata": {},
   "outputs": [
    {
     "data": {
      "text/plain": [
       "array([ 6, 15])"
      ]
     },
     "execution_count": 1,
     "metadata": {},
     "output_type": "execute_result"
    }
   ],
   "source": [
    "# 1. How do you create a 2D NumPy array and calculate the sum of each row?\n",
    "\n",
    "import numpy as np\n",
    "\n",
    "arr = np.array([[1, 2, 3], [4, 5, 6]])\n",
    "arr.sum(axis=1)"
   ]
  },
  {
   "cell_type": "code",
   "execution_count": 2,
   "id": "5869acca",
   "metadata": {},
   "outputs": [
    {
     "data": {
      "text/plain": [
       "np.float64(32.204207968574636)"
      ]
     },
     "execution_count": 2,
     "metadata": {},
     "output_type": "execute_result"
    }
   ],
   "source": [
    "# 2. Write a Pandas script to find the mean of a specific column in a DataFrame.\n",
    "\n",
    "import pandas as pd\n",
    "\n",
    "df = pd.read_csv(\"https://raw.githubusercontent.com/datasciencedojo/datasets/master/titanic.csv\")\n",
    "df[\"Fare\"].mean()"
   ]
  },
  {
   "cell_type": "code",
   "execution_count": 3,
   "id": "c4e6dc99",
   "metadata": {},
   "outputs": [
    {
     "data": {
      "image/png": "[encoded data removed]",
      "text/plain": [
       "<Figure size 640x480 with 1 Axes>"
      ]
     },
     "metadata": {},
     "output_type": "display_data"
    }
   ],
   "source": [
    "# 3. Create a scatter plot using Matplotlib.\n",
    "\n",
    "import matplotlib.pyplot as plt\n",
    "\n",
    "x = [1, 2, 3, 4, 5]\n",
    "y = [5, 4, 3, 2, 1]\n",
    "\n",
    "plt.scatter(x, y, color='blue', marker='o')\n",
    "plt.xlabel('X-axis')\n",
    "plt.ylabel('Y-axis')\n",
    "plt.title('Simple Scatter Plot')\n",
    "\n",
    "plt.show()\n"
   ]
  },
  {
   "cell_type": "code",
   "execution_count": 4,
   "id": "5ac47fad",
   "metadata": {},
   "outputs": [
    {
     "data": {
      "image/png": "[encoded data removed]",
      "text/plain": [
       "<Figure size 1000x600 with 2 Axes>"
      ]
     },
     "metadata": {},
     "output_type": "display_data"
    }
   ],
   "source": [
    "# 4. How do you calculate the correlation matrix using Seaborn and visualize it with a heatmap?\n",
    "import seaborn as sns\n",
    "\n",
    "df = pd.read_csv(\"https://raw.githubusercontent.com/datasciencedojo/datasets/master/titanic.csv\")\n",
    "\n",
    "corr_matrix = df.corr(numeric_only=True)\n",
    "\n",
    "plt.figure(figsize=(10, 6))\n",
    "\n",
    "sns.heatmap(corr_matrix, annot=True, cmap=\"coolwarm\", linewidths=0.5)\n",
    "\n",
    "plt.title(\"Correlation Matrix Heatmap\")\n",
    "plt.show()\n"
   ]
  },
  {
   "cell_type": "code",
   "execution_count": 5,
   "id": "cd7184ae",
   "metadata": {},
   "outputs": [
    {
     "data": {
      "application/vnd.plotly.v1+json": {
       "config": {
        "plotlyServerURL": "https://plot.ly"
       },
       "data": [
        {
         "hovertemplate": "Fruit=%{x}<br>Quantity=%{y}<extra></extra>",
         "legendgroup": "",
         "marker": {
          "color": "#636efa",
          "pattern": {
           "shape": ""
          }
         },
         "name": "",
         "orientation": "v",
         "showlegend": false,
         "textposition": "auto",
         "type": "bar",
         "x": [
          "Apples",
          "Bananas",
          "Cherries",
          "Dates"
         ],
         "xaxis": "x",
         "y": {
          "bdata": "Cg8HDA==",
          "dtype": "i1"
         },
         "yaxis": "y"
        }
       ],
       "layout": {
        "barmode": "relative",
        "legend": {
         "tracegroupgap": 0
        },
        "template": {
         "data": {
          "bar": [
           {
            "error_x": {
             "color": "#2a3f5f"
            },
            "error_y": {
             "color": "#2a3f5f"
            },
            "marker": {
             "line": {
              "color": "#E5ECF6",
              "width": 0.5
             },
             "pattern": {
              "fillmode": "overlay",
              "size": 10,
              "solidity": 0.2
             }
            },
            "type": "bar"
           }
          ],
          "barpolar": [
           {
            "marker": {
             "line": {
              "color": "#E5ECF6",
              "width": 0.5
             },
             "pattern": {
              "fillmode": "overlay",
              "size": 10,
              "solidity": 0.2
             }
            },
            "type": "barpolar"
           }
          ],
          "carpet": [
           {
            "aaxis": {
             "endlinecolor": "#2a3f5f",
             "gridcolor": "white",
             "linecolor": "white",
             "minorgridcolor": "white",
             "startlinecolor": "#2a3f5f"
            },
            "baxis": {
             "endlinecolor": "#2a3f5f",
             "gridcolor": "white",
             "linecolor": "white",
             "minorgridcolor": "white",
             "startlinecolor": "#2a3f5f"
            },
            "type": "carpet"
           }
          ],
          "choropleth": [
           {
            "colorbar": {
             "outlinewidth": 0,
             "ticks": ""
            },
            "type": "choropleth"
           }
          ],
          "contour": [
           {
            "colorbar": {
             "outlinewidth": 0,
             "ticks": ""
            },
            "colorscale": [
             [
              0,
              "#0d0887"
             ],
             [
              0.1111111111111111,
              "#46039f"
             ],
             [
              0.2222222222222222,
              "#7201a8"
             ],
             [
              0.3333333333333333,
              "#9c179e"
             ],
             [
              0.4444444444444444,
              "#bd3786"
             ],
             [
              0.5555555555555556,
              "#d8576b"
             ],
             [
              0.6666666666666666,
              "#ed7953"
             ],
             [
              0.7777777777777778,
              "#fb9f3a"
             ],
             [
              0.8888888888888888,
              "#fdca26"
             ],
             [
              1,
              "#f0f921"
             ]
            ],
            "type": "contour"
           }
          ],
          "contourcarpet": [
           {
            "colorbar": {
             "outlinewidth": 0,
             "ticks": ""
            },
            "type": "contourcarpet"
           }
          ],
          "heatmap": [
           {
            "colorbar": {
             "outlinewidth": 0,
             "ticks": ""
            },
            "colorscale": [
             [
              0,
              "#0d0887"
             ],
             [
              0.1111111111111111,
              "#46039f"
             ],
             [
              0.2222222222222222,
              "#7201a8"
             ],
             [
              0.3333333333333333,
              "#9c179e"
             ],
             [
              0.4444444444444444,
              "#bd3786"
             ],
             [
              0.5555555555555556,
              "#d8576b"
             ],
             [
              0.6666666666666666,
              "#ed7953"
             ],
             [
              0.7777777777777778,
              "#fb9f3a"
             ],
             [
              0.8888888888888888,
              "#fdca26"
             ],
             [
              1,
              "#f0f921"
             ]
            ],
            "type": "heatmap"
           }
          ],
          "histogram": [
           {
            "marker": {
             "pattern": {
              "fillmode": "overlay",
              "size": 10,
              "solidity": 0.2
             }
            },
            "type": "histogram"
           }
          ],
          "histogram2d": [
           {
            "colorbar": {
             "outlinewidth": 0,
             "ticks": ""
            },
            "colorscale": [
             [
              0,
              "#0d0887"
             ],
             [
              0.1111111111111111,
              "#46039f"
             ],
             [
              0.2222222222222222,
              "#7201a8"
             ],
             [
              0.3333333333333333,
              "#9c179e"
             ],
             [
              0.4444444444444444,
              "#bd3786"
             ],
             [
              0.5555555555555556,
              "#d8576b"
             ],
             [
              0.6666666666666666,
              "#ed7953"
             ],
             [
              0.7777777777777778,
              "#fb9f3a"
             ],
             [
              0.8888888888888888,
              "#fdca26"
             ],
             [
              1,
              "#f0f921"
             ]
            ],
            "type": "histogram2d"
           }
          ],
          "histogram2dcontour": [
           {
            "colorbar": {
             "outlinewidth": 0,
             "ticks": ""
            },
            "colorscale": [
             [
              0,
              "#0d0887"
             ],
             [
              0.1111111111111111,
              "#46039f"
             ],
             [
              0.2222222222222222,
              "#7201a8"
             ],
             [
              0.3333333333333333,
              "#9c179e"
             ],
             [
              0.4444444444444444,
              "#bd3786"
             ],
             [
              0.5555555555555556,
              "#d8576b"
             ],
             [
              0.6666666666666666,
              "#ed7953"
             ],
             [
              0.7777777777777778,
              "#fb9f3a"
             ],
             [
              0.8888888888888888,
              "#fdca26"
             ],
             [
              1,
              "#f0f921"
             ]
            ],
            "type": "histogram2dcontour"
           }
          ],
          "mesh3d": [
           {
            "colorbar": {
             "outlinewidth": 0,
             "ticks": ""
            },
            "type": "mesh3d"
           }
          ],
          "parcoords": [
           {
            "line": {
             "colorbar": {
              "outlinewidth": 0,
              "ticks": ""
             }
            },
            "type": "parcoords"
           }
          ],
          "pie": [
           {
            "automargin": true,
            "type": "pie"
           }
          ],
          "scatter": [
           {
            "fillpattern": {
             "fillmode": "overlay",
             "size": 10,
             "solidity": 0.2
            },
            "type": "scatter"
           }
          ],
          "scatter3d": [
           {
            "line": {
             "colorbar": {
              "outlinewidth": 0,
              "ticks": ""
             }
            },
            "marker": {
             "colorbar": {
              "outlinewidth": 0,
              "ticks": ""
             }
            },
            "type": "scatter3d"
           }
          ],
          "scattercarpet": [
           {
            "marker": {
             "colorbar": {
              "outlinewidth": 0,
              "ticks": ""
             }
            },
            "type": "scattercarpet"
           }
          ],
          "scattergeo": [
           {
            "marker": {
             "colorbar": {
              "outlinewidth": 0,
              "ticks": ""
             }
            },
            "type": "scattergeo"
           }
          ],
          "scattergl": [
           {
            "marker": {
             "colorbar": {
              "outlinewidth": 0,
              "ticks": ""
             }
            },
            "type": "scattergl"
           }
          ],
          "scattermap": [
           {
            "marker": {
             "colorbar": {
              "outlinewidth": 0,
              "ticks": ""
             }
            },
            "type": "scattermap"
           }
          ],
          "scattermapbox": [
           {
            "marker": {
             "colorbar": {
              "outlinewidth": 0,
              "ticks": ""
             }
            },
            "type": "scattermapbox"
           }
          ],
          "scatterpolar": [
           {
            "marker": {
             "colorbar": {
              "outlinewidth": 0,
              "ticks": ""
             }
            },
            "type": "scatterpolar"
           }
          ],
          "scatterpolargl": [
           {
            "marker": {
             "colorbar": {
              "outlinewidth": 0,
              "ticks": ""
             }
            },
            "type": "scatterpolargl"
           }
          ],
          "scatterternary": [
           {
            "marker": {
             "colorbar": {
              "outlinewidth": 0,
              "ticks": ""
             }
            },
            "type": "scatterternary"
           }
          ],
          "surface": [
           {
            "colorbar": {
             "outlinewidth": 0,
             "ticks": ""
            },
            "colorscale": [
             [
              0,
              "#0d0887"
             ],
             [
              0.1111111111111111,
              "#46039f"
             ],
             [
              0.2222222222222222,
              "#7201a8"
             ],
             [
              0.3333333333333333,
              "#9c179e"
             ],
             [
              0.4444444444444444,
              "#bd3786"
             ],
             [
              0.5555555555555556,
              "#d8576b"
             ],
             [
              0.6666666666666666,
              "#ed7953"
             ],
             [
              0.7777777777777778,
              "#fb9f3a"
             ],
             [
              0.8888888888888888,
              "#fdca26"
             ],
             [
              1,
              "#f0f921"
             ]
            ],
            "type": "surface"
           }
          ],
          "table": [
           {
            "cells": {
             "fill": {
              "color": "#EBF0F8"
             },
             "line": {
              "color": "white"
             }
            },
            "header": {
             "fill": {
              "color": "#C8D4E3"
             },
             "line": {
              "color": "white"
             }
            },
            "type": "table"
           }
          ]
         },
         "layout": {
          "annotationdefaults": {
           "arrowcolor": "#2a3f5f",
           "arrowhead": 0,
           "arrowwidth": 1
          },
          "autotypenumbers": "strict",
          "coloraxis": {
           "colorbar": {
            "outlinewidth": 0,
            "ticks": ""
           }
          },
          "colorscale": {
           "diverging": [
            [
             0,
             "#8e0152"
            ],
            [
             0.1,
             "#c51b7d"
            ],
            [
             0.2,
             "#de77ae"
            ],
            [
             0.3,
             "#f1b6da"
            ],
            [
             0.4,
             "#fde0ef"
            ],
            [
             0.5,
             "#f7f7f7"
            ],
            [
             0.6,
             "#e6f5d0"
            ],
            [
             0.7,
             "#b8e186"
            ],
            [
             0.8,
             "#7fbc41"
            ],
            [
             0.9,
             "#4d9221"
            ],
            [
             1,
             "#276419"
            ]
           ],
           "sequential": [
            [
             0,
             "#0d0887"
            ],
            [
             0.1111111111111111,
             "#46039f"
            ],
            [
             0.2222222222222222,
             "#7201a8"
            ],
            [
             0.3333333333333333,
             "#9c179e"
            ],
            [
             0.4444444444444444,
             "#bd3786"
            ],
            [
             0.5555555555555556,
             "#d8576b"
            ],
            [
             0.6666666666666666,
             "#ed7953"
            ],
            [
             0.7777777777777778,
             "#fb9f3a"
            ],
            [
             0.8888888888888888,
             "#fdca26"
            ],
            [
             1,
             "#f0f921"
            ]
           ],
           "sequentialminus": [
            [
             0,
             "#0d0887"
            ],
            [
             0.1111111111111111,
             "#46039f"
            ],
            [
             0.2222222222222222,
             "#7201a8"
            ],
            [
             0.3333333333333333,
             "#9c179e"
            ],
            [
             0.4444444444444444,
             "#bd3786"
            ],
            [
             0.5555555555555556,
             "#d8576b"
            ],
            [
             0.6666666666666666,
             "#ed7953"
            ],
            [
             0.7777777777777778,
             "#fb9f3a"
            ],
            [
             0.8888888888888888,
             "#fdca26"
            ],
            [
             1,
             "#f0f921"
            ]
           ]
          },
          "colorway": [
           "#636efa",
           "#EF553B",
           "#00cc96",
           "#ab63fa",
           "#FFA15A",
           "#19d3f3",
           "#FF6692",
           "#B6E880",
           "#FF97FF",
           "#FECB52"
          ],
          "font": {
           "color": "#2a3f5f"
          },
          "geo": {
           "bgcolor": "white",
           "lakecolor": "white",
           "landcolor": "#E5ECF6",
           "showlakes": true,
           "showland": true,
           "subunitcolor": "white"
          },
          "hoverlabel": {
           "align": "left"
          },
          "hovermode": "closest",
          "mapbox": {
           "style": "light"
          },
          "paper_bgcolor": "white",
          "plot_bgcolor": "#E5ECF6",
          "polar": {
           "angularaxis": {
            "gridcolor": "white",
            "linecolor": "white",
            "ticks": ""
           },
           "bgcolor": "#E5ECF6",
           "radialaxis": {
            "gridcolor": "white",
            "linecolor": "white",
            "ticks": ""
           }
          },
          "scene": {
           "xaxis": {
            "backgroundcolor": "#E5ECF6",
            "gridcolor": "white",
            "gridwidth": 2,
            "linecolor": "white",
            "showbackground": true,
            "ticks": "",
            "zerolinecolor": "white"
           },
           "yaxis": {
            "backgroundcolor": "#E5ECF6",
            "gridcolor": "white",
            "gridwidth": 2,
            "linecolor": "white",
            "showbackground": true,
            "ticks": "",
            "zerolinecolor": "white"
           },
           "zaxis": {
            "backgroundcolor": "#E5ECF6",
            "gridcolor": "white",
            "gridwidth": 2,
            "linecolor": "white",
            "showbackground": true,
            "ticks": "",
            "zerolinecolor": "white"
           }
          },
          "shapedefaults": {
           "line": {
            "color": "#2a3f5f"
           }
          },
          "ternary": {
           "aaxis": {
            "gridcolor": "white",
            "linecolor": "white",
            "ticks": ""
           },
           "baxis": {
            "gridcolor": "white",
            "linecolor": "white",
            "ticks": ""
           },
           "bgcolor": "#E5ECF6",
           "caxis": {
            "gridcolor": "white",
            "linecolor": "white",
            "ticks": ""
           }
          },
          "title": {
           "x": 0.05
          },
          "xaxis": {
           "automargin": true,
           "gridcolor": "white",
           "linecolor": "white",
           "ticks": "",
           "title": {
            "standoff": 15
           },
           "zerolinecolor": "white",
           "zerolinewidth": 2
          },
          "yaxis": {
           "automargin": true,
           "gridcolor": "white",
           "linecolor": "white",
           "ticks": "",
           "title": {
            "standoff": 15
           },
           "zerolinecolor": "white",
           "zerolinewidth": 2
          }
         }
        },
        "title": {
         "text": "Fruit Sales Bar Chart"
        },
        "xaxis": {
         "anchor": "y",
         "domain": [
          0,
          1
         ],
         "title": {
          "text": "Fruit"
         }
        },
        "yaxis": {
         "anchor": "x",
         "domain": [
          0,
          1
         ],
         "title": {
          "text": "Quantity"
         }
        }
       }
      }
     },
     "metadata": {},
     "output_type": "display_data"
    }
   ],
   "source": [
    "# 5. Generate a bar plot using Plotly.\n",
    "\n",
    "import plotly.express as px\n",
    "\n",
    "data = {\n",
    "    'Fruit': ['Apples', 'Bananas', 'Cherries', 'Dates'],\n",
    "    'Quantity': [10, 15, 7, 12]\n",
    "}\n",
    "\n",
    "fig = px.bar(data, x='Fruit', y='Quantity', title='Fruit Sales Bar Chart')\n",
    "fig.show()\n"
   ]
  },
  {
   "cell_type": "code",
   "execution_count": 8,
   "id": "fe599266",
   "metadata": {},
   "outputs": [
    {
     "data": {
      "text/html": [
       "<div>\n",
       "<style scoped>\n",
       "    .dataframe tbody tr th:only-of-type {\n",
       "        vertical-align: middle;\n",
       "    }\n",
       "\n",
       "    .dataframe tbody tr th {\n",
       "        vertical-align: top;\n",
       "    }\n",
       "\n",
       "    .dataframe thead th {\n",
       "        text-align: right;\n",
       "    }\n",
       "</style>\n",
       "<table border=\"1\" class=\"dataframe\">\n",
       "  <thead>\n",
       "    <tr style=\"text-align: right;\">\n",
       "      <th></th>\n",
       "      <th>key1</th>\n",
       "      <th>key2</th>\n",
       "      <th>key3</th>\n",
       "      <th>key4</th>\n",
       "    </tr>\n",
       "  </thead>\n",
       "  <tbody>\n",
       "    <tr>\n",
       "      <th>0</th>\n",
       "      <td>2</td>\n",
       "      <td>5</td>\n",
       "      <td>8</td>\n",
       "      <td>2</td>\n",
       "    </tr>\n",
       "    <tr>\n",
       "      <th>1</th>\n",
       "      <td>3</td>\n",
       "      <td>6</td>\n",
       "      <td>9</td>\n",
       "      <td>2</td>\n",
       "    </tr>\n",
       "    <tr>\n",
       "      <th>2</th>\n",
       "      <td>4</td>\n",
       "      <td>7</td>\n",
       "      <td>10</td>\n",
       "      <td>2</td>\n",
       "    </tr>\n",
       "  </tbody>\n",
       "</table>\n",
       "</div>"
      ],
      "text/plain": [
       "   key1  key2  key3  key4\n",
       "0     2     5     8     2\n",
       "1     3     6     9     2\n",
       "2     4     7    10     2"
      ]
     },
     "execution_count": 8,
     "metadata": {},
     "output_type": "execute_result"
    }
   ],
   "source": [
    "# 6. Create a DataFrame and add a new column based on an existing column.\n",
    "\n",
    "d = {'key1': [2, 3, 4],\n",
    "    'key2':[5, 6, 7],\n",
    "    'key3': [8, 9, 10]}\n",
    "\n",
    "df = pd.DataFrame(d)\n",
    "df[\"key4\"] = [2, 2, 2]\n",
    "df\n"
   ]
  },
  {
   "cell_type": "code",
   "execution_count": 10,
   "id": "4b946635",
   "metadata": {},
   "outputs": [
    {
     "data": {
      "text/plain": [
       "array([[ 1,  4,  9],\n",
       "       [16, 25, 36]])"
      ]
     },
     "execution_count": 10,
     "metadata": {},
     "output_type": "execute_result"
    }
   ],
   "source": [
    "# 7. Write a program to perform element-wise multiplication of two NumPy arrays.\n",
    "\n",
    "arr1 = np.array([[1,2,3], [4,5,6]])\n",
    "arr2 = np.array([[1,2,3], [4,5,6]])\n",
    "\n",
    "arr1 * arr2\n",
    "result = np.multiply(arr1, arr2)\n",
    "result"
   ]
  },
  {
   "cell_type": "code",
   "execution_count": 13,
   "id": "dc548a69",
   "metadata": {},
   "outputs": [
    {
     "data": {
      "image/png": "[encoded data removed]",
      "text/plain": [
       "<Figure size 640x480 with 1 Axes>"
      ]
     },
     "metadata": {},
     "output_type": "display_data"
    }
   ],
   "source": [
    "# 8. Create a line plot with multiple lines using Matplotlib.\n",
    "\n",
    "x = [1, 2, 3, 4, 5]\n",
    "y1 = [2, 3, 5, 7, 11]\n",
    "y2 = [1, 4, 6, 8, 10]\n",
    "\n",
    "plt.plot(x, y1, label='Prime Numbers', color='blue', marker='o')\n",
    "plt.plot(x, y2, label='Even Numbers', color='green', marker='x')\n",
    "\n",
    "plt.title(\"Line Plot with Multiple Lines\")\n",
    "plt.xlabel(\"X-axis\")\n",
    "plt.ylabel(\"Y-axis\")\n",
    "\n",
    "plt.legend()\n",
    "\n",
    "plt.grid(True)\n",
    "plt.show()\n"
   ]
  },
  {
   "cell_type": "code",
   "execution_count": 14,
   "id": "a6429b03",
   "metadata": {},
   "outputs": [
    {
     "name": "stdout",
     "output_type": "stream",
     "text": [
      "    Name  Age\n",
      "1    Bob   32\n",
      "3  David   45\n"
     ]
    }
   ],
   "source": [
    "# 9. Generate a Pandas DataFrame and filter rows where a column value is greater than a threshold.\n",
    "\n",
    "data = {\n",
    "    'Name': ['Alice', 'Bob', 'Charlie', 'David'],\n",
    "    'Age': [25, 32, 18, 45]\n",
    "}\n",
    "\n",
    "df = pd.DataFrame(data)\n",
    "\n",
    "filtered_df = df[df['Age'] > 30]\n",
    "\n",
    "print(filtered_df)"
   ]
  },
  {
   "cell_type": "code",
   "execution_count": 15,
   "id": "b2e1af42",
   "metadata": {},
   "outputs": [
    {
     "data": {
      "image/png": "[encoded data removed]",
      "text/plain": [
       "<Figure size 640x480 with 1 Axes>"
      ]
     },
     "metadata": {},
     "output_type": "display_data"
    }
   ],
   "source": [
    "# 10. Create a histogram using Seaborn to visualize a distribution.\n",
    "\n",
    "tips = sns.load_dataset(\"tips\")\n",
    "\n",
    "sns.histplot(data=tips, x='total_bill', kde=True, bins=20, color='skyblue')\n",
    "\n",
    "plt.title(\"Distribution of Total Bill\")\n",
    "plt.xlabel(\"Total Bill\")\n",
    "plt.ylabel(\"Frequency\")\n",
    "\n",
    "plt.show()"
   ]
  },
  {
   "cell_type": "code",
   "execution_count": 18,
   "id": "e600d303",
   "metadata": {},
   "outputs": [
    {
     "data": {
      "text/plain": [
       "array([[19, 22],\n",
       "       [43, 50]])"
      ]
     },
     "execution_count": 18,
     "metadata": {},
     "output_type": "execute_result"
    }
   ],
   "source": [
    "# 11. Perform matrix multiplication using NumPy.\n",
    "\n",
    "A = np.array([[1, 2], [3, 4]])\n",
    "B = np.array([[5, 6], [7, 8]])\n",
    "\n",
    "result = A @ B\n",
    "result\n"
   ]
  },
  {
   "cell_type": "code",
   "execution_count": 19,
   "id": "59e79821",
   "metadata": {},
   "outputs": [
    {
     "data": {
      "text/html": [
       "<div>\n",
       "<style scoped>\n",
       "    .dataframe tbody tr th:only-of-type {\n",
       "        vertical-align: middle;\n",
       "    }\n",
       "\n",
       "    .dataframe tbody tr th {\n",
       "        vertical-align: top;\n",
       "    }\n",
       "\n",
       "    .dataframe thead th {\n",
       "        text-align: right;\n",
       "    }\n",
       "</style>\n",
       "<table border=\"1\" class=\"dataframe\">\n",
       "  <thead>\n",
       "    <tr style=\"text-align: right;\">\n",
       "      <th></th>\n",
       "      <th>PassengerId</th>\n",
       "      <th>Survived</th>\n",
       "      <th>Pclass</th>\n",
       "      <th>Name</th>\n",
       "      <th>Sex</th>\n",
       "      <th>Age</th>\n",
       "      <th>SibSp</th>\n",
       "      <th>Parch</th>\n",
       "      <th>Ticket</th>\n",
       "      <th>Fare</th>\n",
       "      <th>Cabin</th>\n",
       "      <th>Embarked</th>\n",
       "    </tr>\n",
       "  </thead>\n",
       "  <tbody>\n",
       "    <tr>\n",
       "      <th>0</th>\n",
       "      <td>1</td>\n",
       "      <td>0</td>\n",
       "      <td>3</td>\n",
       "      <td>Braund, Mr. Owen Harris</td>\n",
       "      <td>male</td>\n",
       "      <td>22.0</td>\n",
       "      <td>1</td>\n",
       "      <td>0</td>\n",
       "      <td>A/5 21171</td>\n",
       "      <td>7.2500</td>\n",
       "      <td>NaN</td>\n",
       "      <td>S</td>\n",
       "    </tr>\n",
       "    <tr>\n",
       "      <th>1</th>\n",
       "      <td>2</td>\n",
       "      <td>1</td>\n",
       "      <td>1</td>\n",
       "      <td>Cumings, Mrs. John Bradley (Florence Briggs Th...</td>\n",
       "      <td>female</td>\n",
       "      <td>38.0</td>\n",
       "      <td>1</td>\n",
       "      <td>0</td>\n",
       "      <td>PC 17599</td>\n",
       "      <td>71.2833</td>\n",
       "      <td>C85</td>\n",
       "      <td>C</td>\n",
       "    </tr>\n",
       "    <tr>\n",
       "      <th>2</th>\n",
       "      <td>3</td>\n",
       "      <td>1</td>\n",
       "      <td>3</td>\n",
       "      <td>Heikkinen, Miss. Laina</td>\n",
       "      <td>female</td>\n",
       "      <td>26.0</td>\n",
       "      <td>0</td>\n",
       "      <td>0</td>\n",
       "      <td>STON/O2. 3101282</td>\n",
       "      <td>7.9250</td>\n",
       "      <td>NaN</td>\n",
       "      <td>S</td>\n",
       "    </tr>\n",
       "    <tr>\n",
       "      <th>3</th>\n",
       "      <td>4</td>\n",
       "      <td>1</td>\n",
       "      <td>1</td>\n",
       "      <td>Futrelle, Mrs. Jacques Heath (Lily May Peel)</td>\n",
       "      <td>female</td>\n",
       "      <td>35.0</td>\n",
       "      <td>1</td>\n",
       "      <td>0</td>\n",
       "      <td>113803</td>\n",
       "      <td>53.1000</td>\n",
       "      <td>C123</td>\n",
       "      <td>S</td>\n",
       "    </tr>\n",
       "    <tr>\n",
       "      <th>4</th>\n",
       "      <td>5</td>\n",
       "      <td>0</td>\n",
       "      <td>3</td>\n",
       "      <td>Allen, Mr. William Henry</td>\n",
       "      <td>male</td>\n",
       "      <td>35.0</td>\n",
       "      <td>0</td>\n",
       "      <td>0</td>\n",
       "      <td>373450</td>\n",
       "      <td>8.0500</td>\n",
       "      <td>NaN</td>\n",
       "      <td>S</td>\n",
       "    </tr>\n",
       "  </tbody>\n",
       "</table>\n",
       "</div>"
      ],
      "text/plain": [
       "   PassengerId  Survived  Pclass  \\\n",
       "0            1         0       3   \n",
       "1            2         1       1   \n",
       "2            3         1       3   \n",
       "3            4         1       1   \n",
       "4            5         0       3   \n",
       "\n",
       "                                                Name     Sex   Age  SibSp  \\\n",
       "0                            Braund, Mr. Owen Harris    male  22.0      1   \n",
       "1  Cumings, Mrs. John Bradley (Florence Briggs Th...  female  38.0      1   \n",
       "2                             Heikkinen, Miss. Laina  female  26.0      0   \n",
       "3       Futrelle, Mrs. Jacques Heath (Lily May Peel)  female  35.0      1   \n",
       "4                           Allen, Mr. William Henry    male  35.0      0   \n",
       "\n",
       "   Parch            Ticket     Fare Cabin Embarked  \n",
       "0      0         A/5 21171   7.2500   NaN        S  \n",
       "1      0          PC 17599  71.2833   C85        C  \n",
       "2      0  STON/O2. 3101282   7.9250   NaN        S  \n",
       "3      0            113803  53.1000  C123        S  \n",
       "4      0            373450   8.0500   NaN        S  "
      ]
     },
     "execution_count": 19,
     "metadata": {},
     "output_type": "execute_result"
    }
   ],
   "source": [
    "# 12. Use Pandas to load a CSV file and display its first 5 rows.\n",
    "\n",
    "df = pd.read_csv(\"https://raw.githubusercontent.com/datasciencedojo/datasets/master/titanic.csv\")\n",
    "df.head()"
   ]
  },
  {
   "cell_type": "code",
   "execution_count": 20,
   "id": "dfa5c295",
   "metadata": {},
   "outputs": [
    {
     "data": {
      "application/vnd.plotly.v1+json": {
       "config": {
        "plotlyServerURL": "https://plot.ly"
       },
       "data": [
        {
         "hovertemplate": "category=B<br>x=%{x}<br>y=%{y}<br>z=%{z}<extra></extra>",
         "legendgroup": "B",
         "marker": {
          "color": "#636efa",
          "symbol": "circle"
         },
         "mode": "markers",
         "name": "B",
         "scene": "scene",
         "showlegend": true,
         "type": "scatter3d",
         "x": {
          "bdata": "fDCpKCrK3z8qBd4FpbLBv2heJFDdueQ/QKZX37z4zb8723AmM/jNv4ueeUveC96/fS1q4aZc4T9wG8Guoqjdv+fvFiuEzt2/cPmepZ74zj++Ne6+y5z+v2M8oWpC/uG/eVGjZ4408L/ZmGbhPObMv8Y1sUaHSbE/YicNwcTL9r8o+spRlWvhvzUGMT9sZbw/FfXOPXhq8r/SOz2hbjjjv1f2GHPuov0/RsyHS2Ls8L8ceuJZk4jzv8MwUA/PWv+//1qwA0BA9b9AOvS8vzLJP76dSKqEoec/DC6kVWXvxT8npqi49gjnv2LC1/746fA/iEEAkdf91T8=",
          "dtype": "f8"
         },
         "y": {
          "bdata": "OFhtsMq91D9ADyomMKXYv005qFNYqeW/1Pz0Wvl+8D8enOD2C83tP4pMD4lrM9U/AGgYaqo37z9VZihsyqrevxNufWCsw8e/MG48TYyz8b/09ZqOqSPzv/3Ng74os/U/+iMrXUFvsr8gYBA7zJv4P1IZpWTKV6K/Mdc5yccI+T9fX8/rPPUEwL9YGXsGTeo/Ia5Ld7dItj84ikZeon23P9OJ6K/u2tY/MDy/bKuV4L+hdpfJZA7gv4DFIBhCCtU/9Nq8q8vz4L8DXOrSr2zgPzoroAMT2rg/U7x4xyP/7j8Q9Hamjmr3vxSBHSwhtdA/DTrIENnxdD8=",
          "dtype": "f8"
         },
         "z": {
          "bdata": "BCaNylul9r90hh9c2uvavws0Ft4I79W/wHN1nAKlxL8zHPwf+NvZP517TqK0e9A/YFWJNeMOs7/tciNySbP+vzhGxw90Jpu/rRjbe37Wrj+4CNpHuLQDQHIwYTmNTNM/CDJXt73Fob/8jTe4sxntvzTEh3LYcfY/GuRIYftt9r9LhymHiMfiP2mLYZkNhgFAafY9PHmy77/knA16wIK5P9YjgtZXjbE/LYVNoFZP3j/G7ccEiMz4P8bT2eennNS/r71qQlUI6j8RWw7InrHzv1U0IzpoHc0/04pNhQ7q9D8UjDFmsQTpPwa+Dx2XIPW/c+xXzL6z4D8=",
          "dtype": "f8"
         }
        },
        {
         "hovertemplate": "category=A<br>x=%{x}<br>y=%{y}<br>z=%{z}<extra></extra>",
         "legendgroup": "A",
         "marker": {
          "color": "#EF553B",
          "symbol": "circle"
         },
         "mode": "markers",
         "name": "A",
         "scene": "scene",
         "showlegend": true,
         "type": "scatter3d",
         "x": {
          "bdata": "K6oBjlRe+D8IdECodET5P/PX8EbTjug/EuTucEOZ+78fhhbYoBzUP/kDi4GIDu2/xxMUxMuY9r9BDZ8fTHP3P+jdfbNvC9g/oNLzQhyr0r+n/ak5LkHjv4aDsNZupIu/Ny4ftUlS6j+1ae/SCrzKP18xsjYgm72/4a9Qb0hF078GuLCsBqj3v9muIgobe92/ThUNmGk1/L8=",
          "dtype": "f8"
         },
         "y": {
          "bdata": "+ewJJ9qS4z9TFQ+13trqv88pc7QiytO/sNVKJzYA6j9qgA6DeA7wP0KkKG0LJdc/rwoBL9Kk5L+P6aQIGyHXP8Dt4LnvItO/4hzsDxXN/7/BbA5bNR7Mvzfj0Tl0pfc/S3Lu+S3f6b+QBsdh+UrtP3hIyAw4d+a/l5Lxpmr41L8apYzLTBjZvyMwa3ai89I/hE70gPMGzr8=",
          "dtype": "f8"
         },
         "z": {
          "bdata": "fDE0YUGs6b8bAn5E0S3+P5EnXNaQWMY/5IZhukifyL/PEfK957Lyv1xvV5MASfI/Vn8F3dUP6D/Qg9Q6IlDpP7MsjmocH+K/b1yY+Xgc4L/agzh1hM/4v6z3zS0y//C/j+MlX+xr7b/fMGI1aRDpv7jwFFdAuPm/cbUQEBWixz/Ow4Vx66HQP9jDH9SMyvO/Ncm8AMwB0z8=",
          "dtype": "f8"
         }
        }
       ],
       "layout": {
        "legend": {
         "title": {
          "text": "category"
         },
         "tracegroupgap": 0
        },
        "scene": {
         "domain": {
          "x": [
           0,
           1
          ],
          "y": [
           0,
           1
          ]
         },
         "xaxis": {
          "title": {
           "text": "x"
          }
         },
         "yaxis": {
          "title": {
           "text": "y"
          }
         },
         "zaxis": {
          "title": {
           "text": "z"
          }
         }
        },
        "template": {
         "data": {
          "bar": [
           {
            "error_x": {
             "color": "#2a3f5f"
            },
            "error_y": {
             "color": "#2a3f5f"
            },
            "marker": {
             "line": {
              "color": "#E5ECF6",
              "width": 0.5
             },
             "pattern": {
              "fillmode": "overlay",
              "size": 10,
              "solidity": 0.2
             }
            },
            "type": "bar"
           }
          ],
          "barpolar": [
           {
            "marker": {
             "line": {
              "color": "#E5ECF6",
              "width": 0.5
             },
             "pattern": {
              "fillmode": "overlay",
              "size": 10,
              "solidity": 0.2
             }
            },
            "type": "barpolar"
           }
          ],
          "carpet": [
           {
            "aaxis": {
             "endlinecolor": "#2a3f5f",
             "gridcolor": "white",
             "linecolor": "white",
             "minorgridcolor": "white",
             "startlinecolor": "#2a3f5f"
            },
            "baxis": {
             "endlinecolor": "#2a3f5f",
             "gridcolor": "white",
             "linecolor": "white",
             "minorgridcolor": "white",
             "startlinecolor": "#2a3f5f"
            },
            "type": "carpet"
           }
          ],
          "choropleth": [
           {
            "colorbar": {
             "outlinewidth": 0,
             "ticks": ""
            },
            "type": "choropleth"
           }
          ],
          "contour": [
           {
            "colorbar": {
             "outlinewidth": 0,
             "ticks": ""
            },
            "colorscale": [
             [
              0,
              "#0d0887"
             ],
             [
              0.1111111111111111,
              "#46039f"
             ],
             [
              0.2222222222222222,
              "#7201a8"
             ],
             [
              0.3333333333333333,
              "#9c179e"
             ],
             [
              0.4444444444444444,
              "#bd3786"
             ],
             [
              0.5555555555555556,
              "#d8576b"
             ],
             [
              0.6666666666666666,
              "#ed7953"
             ],
             [
              0.7777777777777778,
              "#fb9f3a"
             ],
             [
              0.8888888888888888,
              "#fdca26"
             ],
             [
              1,
              "#f0f921"
             ]
            ],
            "type": "contour"
           }
          ],
          "contourcarpet": [
           {
            "colorbar": {
             "outlinewidth": 0,
             "ticks": ""
            },
            "type": "contourcarpet"
           }
          ],
          "heatmap": [
           {
            "colorbar": {
             "outlinewidth": 0,
             "ticks": ""
            },
            "colorscale": [
             [
              0,
              "#0d0887"
             ],
             [
              0.1111111111111111,
              "#46039f"
             ],
             [
              0.2222222222222222,
              "#7201a8"
             ],
             [
              0.3333333333333333,
              "#9c179e"
             ],
             [
              0.4444444444444444,
              "#bd3786"
             ],
             [
              0.5555555555555556,
              "#d8576b"
             ],
             [
              0.6666666666666666,
              "#ed7953"
             ],
             [
              0.7777777777777778,
              "#fb9f3a"
             ],
             [
              0.8888888888888888,
              "#fdca26"
             ],
             [
              1,
              "#f0f921"
             ]
            ],
            "type": "heatmap"
           }
          ],
          "histogram": [
           {
            "marker": {
             "pattern": {
              "fillmode": "overlay",
              "size": 10,
              "solidity": 0.2
             }
            },
            "type": "histogram"
           }
          ],
          "histogram2d": [
           {
            "colorbar": {
             "outlinewidth": 0,
             "ticks": ""
            },
            "colorscale": [
             [
              0,
              "#0d0887"
             ],
             [
              0.1111111111111111,
              "#46039f"
             ],
             [
              0.2222222222222222,
              "#7201a8"
             ],
             [
              0.3333333333333333,
              "#9c179e"
             ],
             [
              0.4444444444444444,
              "#bd3786"
             ],
             [
              0.5555555555555556,
              "#d8576b"
             ],
             [
              0.6666666666666666,
              "#ed7953"
             ],
             [
              0.7777777777777778,
              "#fb9f3a"
             ],
             [
              0.8888888888888888,
              "#fdca26"
             ],
             [
              1,
              "#f0f921"
             ]
            ],
            "type": "histogram2d"
           }
          ],
          "histogram2dcontour": [
           {
            "colorbar": {
             "outlinewidth": 0,
             "ticks": ""
            },
            "colorscale": [
             [
              0,
              "#0d0887"
             ],
             [
              0.1111111111111111,
              "#46039f"
             ],
             [
              0.2222222222222222,
              "#7201a8"
             ],
             [
              0.3333333333333333,
              "#9c179e"
             ],
             [
              0.4444444444444444,
              "#bd3786"
             ],
             [
              0.5555555555555556,
              "#d8576b"
             ],
             [
              0.6666666666666666,
              "#ed7953"
             ],
             [
              0.7777777777777778,
              "#fb9f3a"
             ],
             [
              0.8888888888888888,
              "#fdca26"
             ],
             [
              1,
              "#f0f921"
             ]
            ],
            "type": "histogram2dcontour"
           }
          ],
          "mesh3d": [
           {
            "colorbar": {
             "outlinewidth": 0,
             "ticks": ""
            },
            "type": "mesh3d"
           }
          ],
          "parcoords": [
           {
            "line": {
             "colorbar": {
              "outlinewidth": 0,
              "ticks": ""
             }
            },
            "type": "parcoords"
           }
          ],
          "pie": [
           {
            "automargin": true,
            "type": "pie"
           }
          ],
          "scatter": [
           {
            "fillpattern": {
             "fillmode": "overlay",
             "size": 10,
             "solidity": 0.2
            },
            "type": "scatter"
           }
          ],
          "scatter3d": [
           {
            "line": {
             "colorbar": {
              "outlinewidth": 0,
              "ticks": ""
             }
            },
            "marker": {
             "colorbar": {
              "outlinewidth": 0,
              "ticks": ""
             }
            },
            "type": "scatter3d"
           }
          ],
          "scattercarpet": [
           {
            "marker": {
             "colorbar": {
              "outlinewidth": 0,
              "ticks": ""
             }
            },
            "type": "scattercarpet"
           }
          ],
          "scattergeo": [
           {
            "marker": {
             "colorbar": {
              "outlinewidth": 0,
              "ticks": ""
             }
            },
            "type": "scattergeo"
           }
          ],
          "scattergl": [
           {
            "marker": {
             "colorbar": {
              "outlinewidth": 0,
              "ticks": ""
             }
            },
            "type": "scattergl"
           }
          ],
          "scattermap": [
           {
            "marker": {
             "colorbar": {
              "outlinewidth": 0,
              "ticks": ""
             }
            },
            "type": "scattermap"
           }
          ],
          "scattermapbox": [
           {
            "marker": {
             "colorbar": {
              "outlinewidth": 0,
              "ticks": ""
             }
            },
            "type": "scattermapbox"
           }
          ],
          "scatterpolar": [
           {
            "marker": {
             "colorbar": {
              "outlinewidth": 0,
              "ticks": ""
             }
            },
            "type": "scatterpolar"
           }
          ],
          "scatterpolargl": [
           {
            "marker": {
             "colorbar": {
              "outlinewidth": 0,
              "ticks": ""
             }
            },
            "type": "scatterpolargl"
           }
          ],
          "scatterternary": [
           {
            "marker": {
             "colorbar": {
              "outlinewidth": 0,
              "ticks": ""
             }
            },
            "type": "scatterternary"
           }
          ],
          "surface": [
           {
            "colorbar": {
             "outlinewidth": 0,
             "ticks": ""
            },
            "colorscale": [
             [
              0,
              "#0d0887"
             ],
             [
              0.1111111111111111,
              "#46039f"
             ],
             [
              0.2222222222222222,
              "#7201a8"
             ],
             [
              0.3333333333333333,
              "#9c179e"
             ],
             [
              0.4444444444444444,
              "#bd3786"
             ],
             [
              0.5555555555555556,
              "#d8576b"
             ],
             [
              0.6666666666666666,
              "#ed7953"
             ],
             [
              0.7777777777777778,
              "#fb9f3a"
             ],
             [
              0.8888888888888888,
              "#fdca26"
             ],
             [
              1,
              "#f0f921"
             ]
            ],
            "type": "surface"
           }
          ],
          "table": [
           {
            "cells": {
             "fill": {
              "color": "#EBF0F8"
             },
             "line": {
              "color": "white"
             }
            },
            "header": {
             "fill": {
              "color": "#C8D4E3"
             },
             "line": {
              "color": "white"
             }
            },
            "type": "table"
           }
          ]
         },
         "layout": {
          "annotationdefaults": {
           "arrowcolor": "#2a3f5f",
           "arrowhead": 0,
           "arrowwidth": 1
          },
          "autotypenumbers": "strict",
          "coloraxis": {
           "colorbar": {
            "outlinewidth": 0,
            "ticks": ""
           }
          },
          "colorscale": {
           "diverging": [
            [
             0,
             "#8e0152"
            ],
            [
             0.1,
             "#c51b7d"
            ],
            [
             0.2,
             "#de77ae"
            ],
            [
             0.3,
             "#f1b6da"
            ],
            [
             0.4,
             "#fde0ef"
            ],
            [
             0.5,
             "#f7f7f7"
            ],
            [
             0.6,
             "#e6f5d0"
            ],
            [
             0.7,
             "#b8e186"
            ],
            [
             0.8,
             "#7fbc41"
            ],
            [
             0.9,
             "#4d9221"
            ],
            [
             1,
             "#276419"
            ]
           ],
           "sequential": [
            [
             0,
             "#0d0887"
            ],
            [
             0.1111111111111111,
             "#46039f"
            ],
            [
             0.2222222222222222,
             "#7201a8"
            ],
            [
             0.3333333333333333,
             "#9c179e"
            ],
            [
             0.4444444444444444,
             "#bd3786"
            ],
            [
             0.5555555555555556,
             "#d8576b"
            ],
            [
             0.6666666666666666,
             "#ed7953"
            ],
            [
             0.7777777777777778,
             "#fb9f3a"
            ],
            [
             0.8888888888888888,
             "#fdca26"
            ],
            [
             1,
             "#f0f921"
            ]
           ],
           "sequentialminus": [
            [
             0,
             "#0d0887"
            ],
            [
             0.1111111111111111,
             "#46039f"
            ],
            [
             0.2222222222222222,
             "#7201a8"
            ],
            [
             0.3333333333333333,
             "#9c179e"
            ],
            [
             0.4444444444444444,
             "#bd3786"
            ],
            [
             0.5555555555555556,
             "#d8576b"
            ],
            [
             0.6666666666666666,
             "#ed7953"
            ],
            [
             0.7777777777777778,
             "#fb9f3a"
            ],
            [
             0.8888888888888888,
             "#fdca26"
            ],
            [
             1,
             "#f0f921"
            ]
           ]
          },
          "colorway": [
           "#636efa",
           "#EF553B",
           "#00cc96",
           "#ab63fa",
           "#FFA15A",
           "#19d3f3",
           "#FF6692",
           "#B6E880",
           "#FF97FF",
           "#FECB52"
          ],
          "font": {
           "color": "#2a3f5f"
          },
          "geo": {
           "bgcolor": "white",
           "lakecolor": "white",
           "landcolor": "#E5ECF6",
           "showlakes": true,
           "showland": true,
           "subunitcolor": "white"
          },
          "hoverlabel": {
           "align": "left"
          },
          "hovermode": "closest",
          "mapbox": {
           "style": "light"
          },
          "paper_bgcolor": "white",
          "plot_bgcolor": "#E5ECF6",
          "polar": {
           "angularaxis": {
            "gridcolor": "white",
            "linecolor": "white",
            "ticks": ""
           },
           "bgcolor": "#E5ECF6",
           "radialaxis": {
            "gridcolor": "white",
            "linecolor": "white",
            "ticks": ""
           }
          },
          "scene": {
           "xaxis": {
            "backgroundcolor": "#E5ECF6",
            "gridcolor": "white",
            "gridwidth": 2,
            "linecolor": "white",
            "showbackground": true,
            "ticks": "",
            "zerolinecolor": "white"
           },
           "yaxis": {
            "backgroundcolor": "#E5ECF6",
            "gridcolor": "white",
            "gridwidth": 2,
            "linecolor": "white",
            "showbackground": true,
            "ticks": "",
            "zerolinecolor": "white"
           },
           "zaxis": {
            "backgroundcolor": "#E5ECF6",
            "gridcolor": "white",
            "gridwidth": 2,
            "linecolor": "white",
            "showbackground": true,
            "ticks": "",
            "zerolinecolor": "white"
           }
          },
          "shapedefaults": {
           "line": {
            "color": "#2a3f5f"
           }
          },
          "ternary": {
           "aaxis": {
            "gridcolor": "white",
            "linecolor": "white",
            "ticks": ""
           },
           "baxis": {
            "gridcolor": "white",
            "linecolor": "white",
            "ticks": ""
           },
           "bgcolor": "#E5ECF6",
           "caxis": {
            "gridcolor": "white",
            "linecolor": "white",
            "ticks": ""
           }
          },
          "title": {
           "x": 0.05
          },
          "xaxis": {
           "automargin": true,
           "gridcolor": "white",
           "linecolor": "white",
           "ticks": "",
           "title": {
            "standoff": 15
           },
           "zerolinecolor": "white",
           "zerolinewidth": 2
          },
          "yaxis": {
           "automargin": true,
           "gridcolor": "white",
           "linecolor": "white",
           "ticks": "",
           "title": {
            "standoff": 15
           },
           "zerolinecolor": "white",
           "zerolinewidth": 2
          }
         }
        },
        "title": {
         "text": "3D Scatter Plot Example"
        }
       }
      }
     },
     "metadata": {},
     "output_type": "display_data"
    }
   ],
   "source": [
    "# 13. Create a 3D scatter plot using Plotly.\n",
    "\n",
    "np.random.seed(42)\n",
    "df = pd.DataFrame({\n",
    "    'x': np.random.randn(50),\n",
    "    'y': np.random.randn(50),\n",
    "    'z': np.random.randn(50),\n",
    "    'category': np.random.choice(['A', 'B'], 50)\n",
    "})\n",
    "\n",
    "fig = px.scatter_3d(df, x='x', y='y', z='z', color='category', title=\"3D Scatter Plot Example\")\n",
    "\n",
    "fig.show()"
   ]
  },
  {
   "cell_type": "code",
   "execution_count": null,
   "id": "ac88fc0f",
   "metadata": {},
   "outputs": [],
   "source": []
  }
 ],
 "metadata": {
  "kernelspec": {
   "display_name": ".venv",
   "language": "python",
   "name": "python3"
  },
  "language_info": {
   "codemirror_mode": {
    "name": "ipython",
    "version": 3
   },
   "file_extension": ".py",
   "mimetype": "text/x-python",
   "name": "python",
   "nbconvert_exporter": "python",
   "pygments_lexer": "ipython3",
   "version": "3.13.3"
  }
 },
 "nbformat": 4,
 "nbformat_minor": 5
}
