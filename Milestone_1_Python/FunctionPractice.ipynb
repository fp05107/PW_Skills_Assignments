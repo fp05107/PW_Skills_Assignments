{
 "cells": [
  {
   "cell_type": "code",
   "execution_count": 28,
   "id": "6a4159b5",
   "metadata": {},
   "outputs": [],
   "source": [
    "class Car:\n",
    "    def __init__(self, name):\n",
    "        self.name = name\n",
    "    \n",
    "    def getName(self):\n",
    "        print(self)\n",
    "        print(self.name)\n"
   ]
  },
  {
   "cell_type": "code",
   "execution_count": 29,
   "id": "288969df",
   "metadata": {},
   "outputs": [
    {
     "name": "stdout",
     "output_type": "stream",
     "text": [
      "<__main__.Car object at 0x70ec706f1480>\n",
      "subham\n"
     ]
    }
   ],
   "source": [
    "c1 =  Car(\"subham\")\n",
    "# c1.name\n",
    "c1.getName()"
   ]
  },
  {
   "cell_type": "code",
   "execution_count": null,
   "id": "ae518c4d",
   "metadata": {},
   "outputs": [],
   "source": []
  }
 ],
 "metadata": {
  "kernelspec": {
   "display_name": "3.10.13",
   "language": "python",
   "name": "python3"
  },
  "language_info": {
   "codemirror_mode": {
    "name": "ipython",
    "version": 3
   },
   "file_extension": ".py",
   "mimetype": "text/x-python",
   "name": "python",
   "nbconvert_exporter": "python",
   "pygments_lexer": "ipython3",
   "version": "3.10.13"
  }
 },
 "nbformat": 4,
 "nbformat_minor": 5
}
