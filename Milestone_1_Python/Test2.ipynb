{
 "cells": [
  {
   "cell_type": "code",
   "execution_count": null,
   "id": "4c8a5679",
   "metadata": {},
   "outputs": [],
   "source": [
    "# Flatten a list\n",
    "l = [1, [2, [3, 4, 5, [6, 7]]]]\n",
    "\n",
    "#out put should be [1, 2,3, 4, 5,6,7]\n",
    "\n",
    "\n",
    "#RTB\n",
    "#Given a list nums = [1,2,3,4,5,6,7] and an integer k = 3, rotate the list to the right by k steps.\n",
    "\n",
    "#[1,2,3,4,5,6,7], k=3\n",
    "#result will be [5, 6, 7, 1, 2, 3, 4]\n",
    "\n",
    "\n",
    "#Flatten a Nested List Without Recursion"
   ]
  }
 ],
 "metadata": {
  "language_info": {
   "name": "python"
  }
 },
 "nbformat": 4,
 "nbformat_minor": 5
}
