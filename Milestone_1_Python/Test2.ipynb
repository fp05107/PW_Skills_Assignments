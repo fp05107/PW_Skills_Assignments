{
 "cells": [
  {
   "cell_type": "code",
   "execution_count": null,
   "id": "4c8a5679",
   "metadata": {},
   "outputs": [],
   "source": [
    "# Flatten a list\n",
    "l = [1, [2, [3, 4, 5, [6, 7]]]]\n",
    "\n",
    "#out put should be [1, 2,3, 4, 5,6,7]\n",
    "\n",
    "\n",
    "#RTB\n",
    "#Given a list nums = [1,2,3,4,5,6,7] and an integer k = 3, rotate the list to the right by k steps.\n",
    "\n",
    "#[1,2,3,4,5,6,7], k=3\n",
    "#result will be [5, 6, 7, 1, 2, 3, 4]\n",
    "\n",
    "\n",
    "#Flatten a Nested List Without Recursion"
   ]
  },
  {
   "cell_type": "code",
   "execution_count": null,
   "id": "c44376ef",
   "metadata": {},
   "outputs": [
    {
     "data": {
      "text/plain": [
       "'raw eht now aidnI'"
      ]
     },
     "execution_count": 5,
     "metadata": {},
     "output_type": "execute_result"
    }
   ],
   "source": [
    "s = \"India won the war\"\n",
    "# s[:5]\n",
    "s[-(len(s)):]\n",
    "s[::-1]\n",
    "#string s are immutable (can't be changed)"
   ]
  },
  {
   "cell_type": "code",
   "execution_count": null,
   "id": "0abb0f62",
   "metadata": {},
   "outputs": [],
   "source": [
    "# route = \"user=ajay&id=123&type=admin&redirect=true\"\n",
    "\n",
    "# l = route.split(\"&\")\n",
    "\n",
    "# dict = {}\n",
    "\n",
    "# for i in l:\n",
    "#     ss = i.split(\"=\")\n",
    "#     dict[ss[0]] = ss[1]\n",
    "\n",
    "# dict\n"
   ]
  },
  {
   "cell_type": "code",
   "execution_count": 26,
   "id": "41f6fe4b",
   "metadata": {},
   "outputs": [
    {
     "data": {
      "text/plain": [
       "{'user': 'ajay', 'id': '123', 'type': 'admin', 'redirect': 'true'}"
      ]
     },
     "execution_count": 26,
     "metadata": {},
     "output_type": "execute_result"
    }
   ],
   "source": [
    "route = \"user=ajay&id=123&type=admin&redirect=true\"\n",
    "\n",
    "# Split the route into key-value pairs\n",
    "dict(pair.split(\"=\") for pair in route.split(\"&\"))\n"
   ]
  },
  {
   "cell_type": "code",
   "execution_count": 29,
   "id": "9e1f76c7",
   "metadata": {},
   "outputs": [
    {
     "data": {
      "text/plain": [
       "'************5678'"
      ]
     },
     "execution_count": 29,
     "metadata": {},
     "output_type": "execute_result"
    }
   ],
   "source": [
    "card = \"1234567812345678\"\n",
    "\n",
    "mask_string = \"\"\n",
    "\n",
    "for i in range(len(card)):\n",
    "    if(i <= 11):\n",
    "      mask_string += \"*\"\n",
    "    else:\n",
    "       mask_string += card[i]\n",
    "\n",
    "mask_string"
   ]
  },
  {
   "cell_type": "code",
   "execution_count": 42,
   "id": "7a197cc2",
   "metadata": {},
   "outputs": [
    {
     "data": {
      "text/plain": [
       "{'gmail.com': 3, 'outlook.com': 1, 'yahoo.com': 1}"
      ]
     },
     "execution_count": 42,
     "metadata": {},
     "output_type": "execute_result"
    }
   ],
   "source": [
    "emails = [\n",
    "    \"Ajay@Gmail.com\", \"atul@GMAIL.COM\", \"meena@outlook.com\", \"raj@Gmail.com\", \"kumar@yahoo.com\"\n",
    "]\n",
    "\n",
    "lower_email = []\n",
    "\n",
    "for i in emails:\n",
    "    lower_email.append(i.lower())\n",
    "\n",
    "d = {}\n",
    "\n",
    "for i in lower_email:\n",
    "    for j in range(len(i)):\n",
    "        if(i[j] == \"@\"):\n",
    "                 d[i[j+1:]] = d.get(i[j+1:], 0) + 1\n",
    "\n",
    "\n",
    "d"
   ]
  },
  {
   "cell_type": "code",
   "execution_count": 8,
   "id": "f265aff1",
   "metadata": {},
   "outputs": [],
   "source": [
    "import time\n",
    "\n",
    "def timer_decorator(func):\n",
    "    def wrapper(*args, **kwargs):  # Accept any arguments\n",
    "        print(\"Start time:\", time.time())\n",
    "        func(*args, **kwargs)\n",
    "        print(\"End time:\", time.time())\n",
    "    return wrapper"
   ]
  },
  {
   "cell_type": "code",
   "execution_count": 9,
   "id": "bf19f24f",
   "metadata": {},
   "outputs": [
    {
     "name": "stdout",
     "output_type": "stream",
     "text": [
      "Start time: 1747329734.5545669\n",
      "6\n",
      "End time: 1747329734.5547183\n"
     ]
    }
   ],
   "source": [
    "@timer_decorator\n",
    "def calculate_sum(a, b):\n",
    "    print(a + b)\n",
    "\n",
    "calculate_sum(1, 5)"
   ]
  },
  {
   "cell_type": "code",
   "execution_count": 16,
   "id": "fc775f73",
   "metadata": {},
   "outputs": [],
   "source": [
    "class Student:\n",
    "    def __init__(self, name):\n",
    "        print(\"helloo....\")\n",
    "        self.name = name\n",
    "\n",
    "    @classmethod\n",
    "    def student_details(cls, name):\n",
    "        return cls(name)"
   ]
  },
  {
   "cell_type": "code",
   "execution_count": 17,
   "id": "f310682b",
   "metadata": {},
   "outputs": [
    {
     "name": "stdout",
     "output_type": "stream",
     "text": [
      "helloo....\n"
     ]
    },
    {
     "data": {
      "text/plain": [
       "'SUbu'"
      ]
     },
     "execution_count": 17,
     "metadata": {},
     "output_type": "execute_result"
    }
   ],
   "source": [
    "obj1 = Student.student_details(\"SUbu\")\n",
    "obj1.name"
   ]
  },
  {
   "cell_type": "code",
   "execution_count": 7,
   "id": "2148a1d0",
   "metadata": {},
   "outputs": [
    {
     "name": "stdout",
     "output_type": "stream",
     "text": [
      "iHH\n",
      "None\n"
     ]
    }
   ],
   "source": [
    "def check_palindrome(str):\n",
    "    str_reverse = str[::-1]\n",
    "    print(str[::-1])\n",
    "    if str == str_reverse:\n",
    "        return True\n",
    "    else:\n",
    "        False\n",
    "\n",
    "print(check_palindrome(\"HHi\"))"
   ]
  },
  {
   "cell_type": "code",
   "execution_count": 14,
   "id": "9b7b73f7",
   "metadata": {},
   "outputs": [
    {
     "name": "stdout",
     "output_type": "stream",
     "text": [
      "120\n"
     ]
    }
   ],
   "source": [
    "def factorial(n):\n",
    "    if(n == 1 or n == 0):\n",
    "        return 1\n",
    "    \n",
    "    return n * factorial(n - 1)\n",
    "\n",
    "print(factorial(5))"
   ]
  },
  {
   "cell_type": "code",
   "execution_count": 22,
   "id": "677ea08c",
   "metadata": {},
   "outputs": [
    {
     "name": "stdout",
     "output_type": "stream",
     "text": [
      "{'hello': 2, 'world': 1}\n"
     ]
    }
   ],
   "source": [
    "def calculate_frequency(s):\n",
    "    d = {}\n",
    "    words = s.lower().split(\" \")\n",
    "    for word in words:\n",
    "        if word in d:\n",
    "            d[word] += 1\n",
    "        else:\n",
    "            d[word] = 1\n",
    "    print(d)\n",
    "\n",
    "# Example usage\n",
    "str = \"Hello world hello\"\n",
    "calculate_frequency(str)\n"
   ]
  },
  {
   "cell_type": "code",
   "execution_count": 24,
   "id": "55912370",
   "metadata": {},
   "outputs": [
    {
     "name": "stdout",
     "output_type": "stream",
     "text": [
      "[(2, 1), (3, 2), (1, 5), (4, 8)]\n"
     ]
    }
   ],
   "source": [
    "data = [(1, 5), (3, 2), (4, 8), (2, 1)]\n",
    "\n",
    "# Lambda function to get the second element of a tuple\n",
    "get_second = lambda x: x[1]\n",
    "\n",
    "n = len(data)\n",
    "\n",
    "# Bubble sort using lambda\n",
    "for i in range(n):\n",
    "    for j in range(0, n - i - 1):\n",
    "        if get_second(data[j]) > get_second(data[j + 1]):\n",
    "            # Swap\n",
    "            data[j], data[j + 1] = data[j + 1], data[j]\n",
    "\n",
    "print(data)\n"
   ]
  },
  {
   "cell_type": "code",
   "execution_count": 29,
   "id": "8270cf91",
   "metadata": {},
   "outputs": [
    {
     "name": "stdout",
     "output_type": "stream",
     "text": [
      "AMA\n"
     ]
    },
    {
     "data": {
      "text/plain": [
       "True"
      ]
     },
     "execution_count": 29,
     "metadata": {},
     "output_type": "execute_result"
    }
   ],
   "source": [
    "str = \"AMA\"\n",
    "\n",
    "check_pallindrome = lambda string : string.lower()[::-1] == string\n",
    "\n",
    "check_palindrome(str)"
   ]
  },
  {
   "cell_type": "code",
   "execution_count": 33,
   "id": "6c871625",
   "metadata": {},
   "outputs": [
    {
     "data": {
      "text/plain": [
       "1"
      ]
     },
     "execution_count": 33,
     "metadata": {},
     "output_type": "execute_result"
    }
   ],
   "source": [
    "fibonaccci = lambda num : num if num <= 1  else fibonaccci(num - 2) + fibonaccci(num - 1)\n",
    "fibonaccci(2)"
   ]
  },
  {
   "cell_type": "code",
   "execution_count": 34,
   "id": "e59f39cf",
   "metadata": {},
   "outputs": [
    {
     "name": "stdout",
     "output_type": "stream",
     "text": [
      "Help on class map in module builtins:\n",
      "\n",
      "class map(object)\n",
      " |  map(function, iterable, /, *iterables)\n",
      " |\n",
      " |  Make an iterator that computes the function using arguments from\n",
      " |  each of the iterables.  Stops when the shortest iterable is exhausted.\n",
      " |\n",
      " |  Methods defined here:\n",
      " |\n",
      " |  __getattribute__(self, name, /)\n",
      " |      Return getattr(self, name).\n",
      " |\n",
      " |  __iter__(self, /)\n",
      " |      Implement iter(self).\n",
      " |\n",
      " |  __next__(self, /)\n",
      " |      Implement next(self).\n",
      " |\n",
      " |  __reduce__(self, /)\n",
      " |      Return state information for pickling.\n",
      " |\n",
      " |  ----------------------------------------------------------------------\n",
      " |  Static methods defined here:\n",
      " |\n",
      " |  __new__(*args, **kwargs)\n",
      " |      Create and return a new object.  See help(type) for accurate signature.\n",
      "\n"
     ]
    }
   ],
   "source": [
    "help(map)"
   ]
  },
  {
   "cell_type": "code",
   "execution_count": 38,
   "id": "fd0a4296",
   "metadata": {},
   "outputs": [
    {
     "data": {
      "text/plain": [
       "[32.0, 50.0, 68.0, 86.0, 122.0]"
      ]
     },
     "execution_count": 38,
     "metadata": {},
     "output_type": "execute_result"
    }
   ],
   "source": [
    "l = [0, 10, 20, 30, 50]\n",
    "list(map(lambda x: 9/5 * x + 32, l))\n"
   ]
  },
  {
   "cell_type": "code",
   "execution_count": 47,
   "id": "8d609941",
   "metadata": {},
   "outputs": [
    {
     "data": {
      "text/plain": [
       "29"
      ]
     },
     "execution_count": 47,
     "metadata": {},
     "output_type": "execute_result"
    }
   ],
   "source": [
    "from functools import reduce # applies rolling computation to sequential number\n",
    "l = [1, 2, 19, 3, 4]\n",
    "reduce(lambda x, y: x+y, l)\n",
    "\n",
    "# 1 + 2  ->n 3, 19 ->22, 3 ->25, 4 ->29\n"
   ]
  },
  {
   "cell_type": "code",
   "execution_count": 55,
   "id": "edc1faee",
   "metadata": {},
   "outputs": [
    {
     "data": {
      "text/plain": [
       "'Mathematics...........'"
      ]
     },
     "execution_count": 55,
     "metadata": {},
     "output_type": "execute_result"
    }
   ],
   "source": [
    "from functools import reduce \n",
    "# functinality of reduce function/module in python\n",
    "words = [\"Arithmetic....\", \"Mathematics...........\", \"statistics...\"]\n",
    "reduce(lambda x,y : x if len(x) > len(y) else y, words)\n"
   ]
  },
  {
   "cell_type": "code",
   "execution_count": 56,
   "id": "697fa60f",
   "metadata": {},
   "outputs": [
    {
     "name": "stdout",
     "output_type": "stream",
     "text": [
      "GCD: 12\n"
     ]
    }
   ],
   "source": [
    "from functools import reduce\n",
    "import math\n",
    "\n",
    "nums = [60, 48, 36]\n",
    "\n",
    "# Using lambda and reduce to calculate GCD\n",
    "gcd = reduce(lambda x, y: math.gcd(x, y), nums)\n",
    "\n",
    "print(\"GCD:\", gcd)\n"
   ]
  },
  {
   "cell_type": "code",
   "execution_count": 58,
   "id": "64443823",
   "metadata": {},
   "outputs": [
    {
     "data": {
      "text/plain": [
       "[2, 4, 6]"
      ]
     },
     "execution_count": 58,
     "metadata": {},
     "output_type": "execute_result"
    }
   ],
   "source": [
    "# filter\n",
    "numbers = [1, 2, 3, 4, 5, 6]\n",
    "list(filter(lambda x: x % 2 == 0, numbers))"
   ]
  },
  {
   "cell_type": "code",
   "execution_count": 61,
   "id": "ebada06f",
   "metadata": {},
   "outputs": [
    {
     "name": "stdout",
     "output_type": "stream",
     "text": [
      "0 s\n",
      "1 u\n",
      "2 b\n",
      "3 h\n",
      "4 a\n",
      "5 m\n"
     ]
    }
   ],
   "source": [
    "sum((1,2,3))\n",
    "# emumerate returns a tuple     \n",
    "text = \"subham\"\n",
    "for i, ch in enumerate(text):\n",
    "    print(i, ch)"
   ]
  },
  {
   "cell_type": "code",
   "execution_count": 3,
   "id": "c01520c8",
   "metadata": {},
   "outputs": [
    {
     "name": "stdout",
     "output_type": "stream",
     "text": [
      "[6, 7, 8, 9]\n"
     ]
    }
   ],
   "source": [
    "nums = list(map(int, input(\"Number Separated By Space...\").split(\" \"))) \n",
    "result = list(map(lambda x: x + 5, nums))\n",
    "print(result)"
   ]
  },
  {
   "cell_type": "code",
   "execution_count": 4,
   "id": "8a736480",
   "metadata": {},
   "outputs": [
    {
     "name": "stdout",
     "output_type": "stream",
     "text": [
      "Subu is pro\n"
     ]
    }
   ],
   "source": [
    "class Student: \n",
    "    def __init__(self, name):\n",
    "        self.name = name\n",
    "    \n",
    "    def pro_level(self):\n",
    "        print(f\"{self.name} is pro\")\n",
    "\n",
    "\n",
    "s = Student(\"Subu\")\n",
    "s.pro_level()"
   ]
  },
  {
   "cell_type": "code",
   "execution_count": 9,
   "id": "ba6c7c7f",
   "metadata": {},
   "outputs": [
    {
     "name": "stdout",
     "output_type": "stream",
     "text": [
      "100\n",
      "299\n"
     ]
    }
   ],
   "source": [
    "class Bank:\n",
    "    def __init__(self, name, balance , accountNo):\n",
    "        self.name = name\n",
    "        self.balance = balance or 0\n",
    "        self.accountNo = accountNo\n",
    "\n",
    "    def deposit(self, amount): \n",
    "        self.balance = self.balance + amount\n",
    "\n",
    "    def withdraw(self, amount):\n",
    "        self.balance = self.balance - amount\n",
    "\n",
    "    def check_balance(self):\n",
    "        print(self.balance)\n",
    "\n",
    "\n",
    "subham = Bank(\"subu\", 100, '123456789')\n",
    "subham.check_balance()\n",
    "subham.withdraw(1)\n",
    "subham.deposit(200)\n",
    "subham.check_balance()\n"
   ]
  },
  {
   "cell_type": "code",
   "execution_count": null,
   "id": "0e106012",
   "metadata": {},
   "outputs": [],
   "source": []
  }
 ],
 "metadata": {
  "kernelspec": {
   "display_name": "Python 3",
   "language": "python",
   "name": "python3"
  },
  "language_info": {
   "codemirror_mode": {
    "name": "ipython",
    "version": 3
   },
   "file_extension": ".py",
   "mimetype": "text/x-python",
   "name": "python",
   "nbconvert_exporter": "python",
   "pygments_lexer": "ipython3",
   "version": "3.13.3"
  }
 },
 "nbformat": 4,
 "nbformat_minor": 5
}
