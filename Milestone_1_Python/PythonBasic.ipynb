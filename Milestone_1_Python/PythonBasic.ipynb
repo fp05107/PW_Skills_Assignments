{
 "cells": [
  {
   "cell_type": "code",
   "execution_count": null,
   "id": "06fc787a",
   "metadata": {
    "vscode": {
     "languageId": "markdown"
    }
   },
   "outputs": [],
   "source": [
    "# 1. What is Python, and Why is it Popular?\n",
    "\n",
    "- Python is a high-level, interpreted programming language. It is designed to be easy to read, simple to write, and powerful enough to build all kinds of software - including websites, apps, artificial intelligence (AI), data analysis tools, automation scripts, and more.  \n",
    "Python = Human-friendly + Machine-powerful language.\n",
    "\n",
    "## Why is Python Popular?\n",
    "\n",
    "- Simple and Readable Syntax\n",
    "- Versatile (Web Development, Data Science, AI, Automation, etc.)\n",
    "- Huge Library Support and a Massive Community\n",
    "- Cross-Platform Compatibility\n"
   ]
  },
  {
   "cell_type": "code",
   "execution_count": null,
   "id": "e2a3227b",
   "metadata": {
    "vscode": {
     "languageId": "markdown"
    }
   },
   "outputs": [],
   "source": []
  }
 ],
 "metadata": {
  "kernelspec": {
   "display_name": "Python 3",
   "language": "python",
   "name": "python3"
  },
  "language_info": {
   "codemirror_mode": {
    "name": "ipython",
    "version": 3
   },
   "file_extension": ".py",
   "mimetype": "text/x-python",
   "name": "python",
   "nbconvert_exporter": "python",
   "pygments_lexer": "ipython3",
   "version": "3.12.3"
  }
 },
 "nbformat": 4,
 "nbformat_minor": 5
}
