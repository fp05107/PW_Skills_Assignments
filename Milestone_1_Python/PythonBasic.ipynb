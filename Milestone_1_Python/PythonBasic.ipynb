{
 "cells": [
  {
   "cell_type": "markdown",
   "id": "80124d39",
   "metadata": {},
   "source": [
    "# 1. What is Python, and Why is it Popular?\n",
    "\n",
    "- Python is a high-level, interpreted programming language. It is designed to be easy to read, simple to write, and powerful enough to build all kinds of software - including websites, apps, artificial intelligence (AI), data analysis tools, automation scripts, and more.  \n",
    "Python = Human-friendly + Machine-powerful language.\n",
    "\n",
    "## Why is Python Popular?\n",
    "\n",
    "- Simple and Readable Syntax\n",
    "- Versatile (Web Development, Data Science, AI, Automation, etc.)\n",
    "- Huge Library Support and a Massive Community\n",
    "- Cross-Platform Compatibility\n"
   ]
  },
  {
   "cell_type": "markdown",
   "id": "d16c06ee",
   "metadata": {},
   "source": [
    "# 2. What is an Interpreter in Python?\n",
    "\n",
    "An interpreter in Python reads and executes code line by line, converting it into machine code at runtime.  \n",
    "It allows Python programs to run directly without prior compilation."
   ]
  },
  {
   "cell_type": "markdown",
   "id": "55dd5902",
   "metadata": {},
   "source": [
    "# 3. What are Pre-defined Keywords in Python?\n",
    "\n",
    "Pre-defined keywords in Python are reserved words that have special meaning and cannot be used as variable names.  \n",
    "They define the syntax and structure of Python programs (e.g., `if`, `else`, `while`, `class`, `import`)."
   ]
  },
  {
   "cell_type": "markdown",
   "id": "e6c8859c",
   "metadata": {},
   "source": [
    "# 4. Can Keywords Be Used as Variable Names?\n",
    "\n",
    "No, keywords cannot be used as variable names in Python.  \n",
    "They are reserved for specific language functions and using them as variable names will cause a syntax error."
   ]
  },
  {
   "cell_type": "markdown",
   "id": "62e227a5",
   "metadata": {},
   "source": [
    "# 5. What is Mutability in Python?\n",
    "\n",
    "Mutability in Python refers to whether an object's value can be changed after it is created.  \n",
    "Mutable objects (like lists and dictionaries) can be modified, while immutable objects (like strings and tuples) cannot."
   ]
  },
  {
   "cell_type": "markdown",
   "id": "335cd383",
   "metadata": {},
   "source": [
    "# 6. Why Are Lists Mutable, but Tuples Are Immutable?\n",
    "\n",
    "Lists are mutable because their elements can be changed, added, or removed after creation.  \n",
    "Tuples are immutable to ensure that their contents remain fixed, providing data integrity and better performance."
   ]
  },
  {
   "cell_type": "markdown",
   "id": "67b25086",
   "metadata": {},
   "source": [
    "# 7. What is the Difference Between \"==\" and \"is\" Operators in Python?\n",
    "\n",
    "- `==` checks if two values are equal (value comparison).\n",
    "- `is` checks if two variables point to the same object in memory (identity comparison)."
   ]
  },
  {
   "cell_type": "markdown",
   "id": "5442f581",
   "metadata": {},
   "source": [
    "### 8. What are Logical Operators in Python?\n",
    "\n",
    "Logical operators are used to perform logical operations on boolean values (True/False). They are primarily used to combine conditional statements.\n",
    "\n",
    "- **`and`**: Returns `True` if both conditions are `True`, otherwise returns `False`.\n",
    "  ```python\n",
    "  a = True\n",
    "  b = False\n",
    "  result = a and b  # False"
   ]
  },
  {
   "cell_type": "markdown",
   "id": "f882e6ec",
   "metadata": {},
   "source": [
    "### 9. What is Type Casting in Python?\n",
    "\n",
    "Type casting in Python refers to converting one data type into another. This can be done explicitly (manual type conversion) or implicitly (automatic type conversion).\n",
    "\n",
    "- **Explicit Type Casting (Type Conversion)**: This is when you manually convert one data type into another using built-in functions like `int()`, `float()`, `str()`, etc.\n",
    "  ```python\n",
    "  # Convert float to integer\n",
    "  num = 3.14\n",
    "  int_num = int(num)  # 3\n",
    "\n",
    "  # Convert integer to string\n",
    "  num = 10\n",
    "  str_num = str(num)  # '10'\n",
    "\n",
    "  # Convert string to float\n",
    "  num_str = \"5.67\"\n",
    "  float_num = float(num_str)  # 5.67"
   ]
  },
  {
   "cell_type": "markdown",
   "id": "058f8724",
   "metadata": {},
   "source": [
    "### 10. What is the Difference Between Implicit and Explicit Type Casting in Python?\n",
    "\n",
    "Type casting refers to converting one data type to another. There are two types of type casting in Python: **implicit** and **explicit**.\n",
    "\n",
    "- **Implicit Type Casting (Automatic Type Conversion)**:\n",
    "  - Python automatically converts one data type to another when required, without any explicit instruction from the programmer.\n",
    "  - This usually happens when a smaller data type is assigned to a larger data type, or in operations between different data types.\n",
    "  - Example:\n",
    "    ```python\n",
    "    a = 5        # integer\n",
    "    b = 2.5      # float\n",
    "    result = a + b  # Python automatically converts 'a' (int) to float\n",
    "    print(result)   # 7.5\n",
    "    ```\n",
    "\n",
    "- **Explicit Type Casting (Manual Type Conversion)**:\n",
    "  - This is when the programmer manually converts one data type to another using built-in functions like `int()`, `float()`, `str()`, etc.\n",
    "  - Example:\n",
    "    ```python\n",
    "    # Convert float to integer\n",
    "    num = 3.14\n",
    "    int_num = int(num)  # 3\n",
    "\n",
    "    # Convert string to float\n",
    "    num_str = \"5.67\"\n",
    "    float_num = float(num_str)  # 5.67\n",
    "    ```\n",
    "\n",
    "### Key Differences:\n",
    "- **Implicit Casting** is done automatically by Python, whereas **Explicit Casting** requires the programmer to explicitly tell Python what conversion to make.\n",
    "- **Implicit Casting** is safe and done when there's no risk of data loss (e.g., converting an integer to a float). **Explicit Casting** may cause data loss or errors if the conversion is not valid (e.g., converting a non-numeric string to an integer).\n"
   ]
  },
  {
   "cell_type": "markdown",
   "id": "433806a9",
   "metadata": {},
   "source": [
    "### 11. What is the Purpose of Conditional Statements in Python?\n",
    "\n",
    "Conditional statements in Python are used to execute certain blocks of code based on whether a condition is `True` or `False`. They allow the program to make decisions and follow different paths depending on the input or state of the program.\n",
    "\n",
    "The main conditional statements in Python are:\n",
    "\n",
    "- **`if`**: Executes a block of code if the condition is `True`.\n",
    "  ```python\n",
    "  a = 10\n",
    "  if a > 5:\n",
    "      print(\"a is greater than 5\")  # This will be executed"
   ]
  },
  {
   "cell_type": "markdown",
   "id": "bc416a4e",
   "metadata": {},
   "source": [
    "### 12. How Does the `elif` Statement Work in Python?\n",
    "\n",
    "The `elif` (short for \"else if\") statement in Python is used to check multiple conditions in an `if-else` chain. It allows you to test several conditions in sequence. If the condition in the `if` statement is `False`, the program moves on to the `elif` statements, and if none of them are `True`, it will finally check the `else` block (if provided).\n",
    "\n",
    "### Syntax:\n",
    "```python\n",
    "if condition1:\n",
    "    # Block of code if condition1 is True\n",
    "elif condition2:\n",
    "    # Block of code if condition2 is True\n",
    "elif condition3:\n",
    "    # Block of code if condition3 is True\n",
    "else:\n",
    "    # Block of code if no conditions are True"
   ]
  },
  {
   "cell_type": "markdown",
   "id": "ee94f6e0",
   "metadata": {},
   "source": [
    "### 13. What is the Difference Between `for` and `while` Loops in Python?\n",
    "\n",
    "Both `for` and `while` loops are used to repeat a block of code multiple times, but they have different use cases and control mechanisms.\n",
    "\n",
    "### `for` Loop:\n",
    "- The `for` loop is used when you know in advance how many times you want to execute a statement or a block of statements.\n",
    "- It is typically used to iterate over a sequence (like a list, tuple, dictionary, or string) or a range of values.\n",
    "- The loop will automatically iterate through each item in the sequence or each value in the range.\n",
    "\n",
    "#### Syntax:\n",
    "```python\n",
    "for item in iterable:\n",
    "    # Block of code to be executed for each item in the iterable\n"
   ]
  },
  {
   "cell_type": "markdown",
   "id": "6de27be6",
   "metadata": {},
   "source": [
    "### 14. Describe a Scenario Where a `while` Loop is More Suitable Than a `for` Loop\n",
    "\n",
    "A `while` loop is more suitable than a `for` loop in situations where you don't know the exact number of iterations in advance, but the loop should continue as long as a specific condition remains true.\n",
    "\n",
    "#### Scenario: User Input Validation\n",
    "\n",
    "Imagine you are building a program that repeatedly asks the user for a valid password. You don't know how many times the user will enter a password, but you want to keep asking them until they provide the correct password.\n",
    "\n",
    "In this case, a `while` loop is ideal because you want to continue asking the user until the condition (`entered password == correct password`) is satisfied, but the number of iterations (password attempts) is unknown.\n",
    "\n",
    "#### Example:\n",
    "```python\n",
    "correct_password = \"secure123\"\n",
    "entered_password = \"\"\n",
    "\n",
    "while entered_password != correct_password:\n",
    "    entered_password = input(\"Please enter the correct password: \")\n",
    "\n",
    "print(\"Password accepted!\")"
   ]
  },
  {
   "cell_type": "markdown",
   "id": "3104fc7a",
   "metadata": {},
   "source": [
    "# Practical Questions"
   ]
  },
  {
   "cell_type": "code",
   "execution_count": null,
   "id": "22441b4e",
   "metadata": {},
   "outputs": [
    {
     "name": "stdout",
     "output_type": "stream",
     "text": [
      "Hello, World!\n"
     ]
    }
   ],
   "source": [
    "# 1. Write a Python program to print \"Hello, World!\"\n",
    "print(\"Hello, World!\")"
   ]
  },
  {
   "cell_type": "code",
   "execution_count": null,
   "id": "3223edd5",
   "metadata": {},
   "outputs": [
    {
     "name": "stdout",
     "output_type": "stream",
     "text": [
      "My name is Subham Sahoo and I am 22 years old.\n"
     ]
    }
   ],
   "source": [
    "# 2. Write a Python program that displays your name and age?\n",
    "name = \"Subham Sahoo\"\n",
    "age = 22\n",
    "print(f\"My name is {name} and I am {age} years old.\")\n"
   ]
  },
  {
   "cell_type": "code",
   "execution_count": 3,
   "id": "0b48d6dd",
   "metadata": {},
   "outputs": [
    {
     "name": "stdout",
     "output_type": "stream",
     "text": [
      "Python Keywords: ['False', 'None', 'True', 'and', 'as', 'assert', 'async', 'await', 'break', 'class', 'continue', 'def', 'del', 'elif', 'else', 'except', 'finally', 'for', 'from', 'global', 'if', 'import', 'in', 'is', 'lambda', 'nonlocal', 'not', 'or', 'pass', 'raise', 'return', 'try', 'while', 'with', 'yield']\n"
     ]
    }
   ],
   "source": [
    "# 3.  Write code to print all the pre-defined keywords in Python using the keyword library\n",
    "import keyword\n",
    "print(\"Python Keywords:\", keyword.kwlist)\n"
   ]
  },
  {
   "cell_type": "code",
   "execution_count": 5,
   "id": "0aa700b6",
   "metadata": {},
   "outputs": [
    {
     "name": "stdout",
     "output_type": "stream",
     "text": [
      "'for' is a Python keyword.\n"
     ]
    }
   ],
   "source": [
    "# 4. Write a program that checks if a given word is a Python keyword.\n",
    "import keyword\n",
    "\n",
    "word = input(\"Enter a word: \")\n",
    "if keyword.iskeyword(word):\n",
    "    print(f\"'{word}' is a Python keyword.\")\n",
    "else:\n",
    "    print(f\"'{word}' is not a Python keyword.\")\n",
    "\n"
   ]
  },
  {
   "cell_type": "code",
   "execution_count": 6,
   "id": "768ac5e7",
   "metadata": {},
   "outputs": [
    {
     "name": "stdout",
     "output_type": "stream",
     "text": [
      "Original list: [10, 20, 30]\n",
      "Modified list: [100, 20, 30]\n",
      "Original tuple: (10, 20, 30)\n",
      "Error when modifying tuple: 'tuple' object does not support item assignment\n"
     ]
    }
   ],
   "source": [
    "# 5.  Create a list and tuple in Python, and demonstrate how attempting to change an element works differently for each.\n",
    "# Create a list and a tuple\n",
    "my_list = [10, 20, 30]\n",
    "my_tuple = (10, 20, 30)\n",
    "\n",
    "print(\"Original list:\", my_list)\n",
    "my_list[0] = 100\n",
    "print(\"Modified list:\", my_list)\n",
    "\n",
    "print(\"Original tuple:\", my_tuple)\n",
    "try:\n",
    "    my_tuple[0] = 100  \n",
    "except TypeError as e:\n",
    "    print(\"Error when modifying tuple:\", e)\n",
    "\n"
   ]
  },
  {
   "cell_type": "code",
   "execution_count": null,
   "id": "177d33c3",
   "metadata": {},
   "outputs": [
    {
     "name": "stdout",
     "output_type": "stream",
     "text": [
      "Original x: 5\n",
      "Modified x: 10\n",
      "Original list: [1, 2, 3]\n",
      "Modified list: [1, 2, 3, 4]\n"
     ]
    }
   ],
   "source": [
    "# 6. Write a function to demonstrate the behavior of mutable and immutable arguments.\n",
    "# Immutable Argument (Integer)\n",
    "def demo_immutable(x):\n",
    "    print(f\"Original x: {x}\")\n",
    "    x = 10  # Reassigning value\n",
    "    print(f\"Modified x: {x}\")\n",
    "\n",
    "# Mutable Argument (List)\n",
    "def demo_mutable(lst):\n",
    "    print(f\"Original list: {lst}\")\n",
    "    lst.append(4)  # Modifying list\n",
    "    print(f\"Modified list: {lst}\")\n",
    "\n",
    "# Testing the functions\n",
    "x = 5\n",
    "demo_immutable(x)  # x remains unchanged after function call\n",
    "\n",
    "lst = [1, 2, 3]\n",
    "demo_mutable(lst)  # lst is modified inside the function\n"
   ]
  },
  {
   "cell_type": "code",
   "execution_count": 10,
   "id": "559d0062",
   "metadata": {},
   "outputs": [
    {
     "name": "stdout",
     "output_type": "stream",
     "text": [
      "Addition: 3.0\n",
      "Subtraction: -1.0\n",
      "Multiplication: 2.0\n",
      "Division: 0.5\n"
     ]
    }
   ],
   "source": [
    "# 7. Write a program that performs basic arithmetic operations on two user-input numbers.\n",
    "num1 = float(input(\"Enter first number: \"))\n",
    "num2 = float(input(\"Enter second number: \"))\n",
    "\n",
    "print(f\"Addition: {num1 + num2}\")\n",
    "print(f\"Subtraction: {num1 - num2}\")\n",
    "print(f\"Multiplication: {num1 * num2}\")\n",
    "print(f\"Division: {num1 / num2}\")\n"
   ]
  },
  {
   "cell_type": "code",
   "execution_count": 11,
   "id": "0b2f3b5b",
   "metadata": {},
   "outputs": [
    {
     "name": "stdout",
     "output_type": "stream",
     "text": [
      "a and b: False\n",
      "a or b: True\n",
      "not a: False\n"
     ]
    }
   ],
   "source": [
    "# 8. Write a program to demonstrate the use of logical operators.\n",
    "a = True\n",
    "b = False\n",
    "\n",
    "print(f\"a and b: {a and b}\")\n",
    "print(f\"a or b: {a or b}\")\n",
    "print(f\"not a: {not a}\")\n"
   ]
  },
  {
   "cell_type": "code",
   "execution_count": 12,
   "id": "b3ffaff6",
   "metadata": {},
   "outputs": [
    {
     "name": "stdout",
     "output_type": "stream",
     "text": [
      "Integer: 12\n",
      "Float: 12.0\n",
      "Boolean: True\n"
     ]
    }
   ],
   "source": [
    "# 9.  Write a Python program to convert user input from string to integer, float, and boolean types.\n",
    "user_input = input(\"Enter a value: \")\n",
    "\n",
    "# Convert to integer\n",
    "try:\n",
    "    int_value = int(user_input)\n",
    "    print(f\"Integer: {int_value}\")\n",
    "except ValueError:\n",
    "    print(\"Not a valid integer.\")\n",
    "\n",
    "# Convert to float\n",
    "try:\n",
    "    float_value = float(user_input)\n",
    "    print(f\"Float: {float_value}\")\n",
    "except ValueError:\n",
    "    print(\"Not a valid float.\")\n",
    "\n",
    "# Convert to boolean\n",
    "bool_value = bool(user_input)\n",
    "print(f\"Boolean: {bool_value}\")\n"
   ]
  },
  {
   "cell_type": "code",
   "execution_count": 13,
   "id": "636d4470",
   "metadata": {},
   "outputs": [
    {
     "name": "stdout",
     "output_type": "stream",
     "text": [
      "List with elements converted to strings: ['1', '2.5', 'Hello', 'True']\n",
      "List with elements converted to floats: [1.0, 2.5, None, 1.0]\n"
     ]
    }
   ],
   "source": [
    "# 10. Write code to demonstrate type casting with list elements.\n",
    "my_list = [1, 2.5, \"Hello\", True]\n",
    "\n",
    "# Convert all elements to string\n",
    "string_list = [str(item) for item in my_list]\n",
    "print(\"List with elements converted to strings:\", string_list)\n",
    "\n",
    "# Convert all elements to float (if possible)\n",
    "float_list = []\n",
    "for item in my_list:\n",
    "    try:\n",
    "        float_list.append(float(item))\n",
    "    except ValueError:\n",
    "        float_list.append(None)  # If conversion fails, add None\n",
    "\n",
    "print(\"List with elements converted to floats:\", float_list)\n"
   ]
  },
  {
   "cell_type": "code",
   "execution_count": 14,
   "id": "0df0d167",
   "metadata": {},
   "outputs": [
    {
     "name": "stdout",
     "output_type": "stream",
     "text": [
      "The number is positive.\n"
     ]
    }
   ],
   "source": [
    "# 11. Write a program that checks if a number is positive, negative, or zero.\n",
    "num = float(input(\"Enter a number: \"))\n",
    "\n",
    "if num > 0:\n",
    "    print(\"The number is positive.\")\n",
    "elif num < 0:\n",
    "    print(\"The number is negative.\")\n",
    "else:\n",
    "    print(\"The number is zero.\")\n"
   ]
  },
  {
   "cell_type": "code",
   "execution_count": 15,
   "id": "0399e2ac",
   "metadata": {},
   "outputs": [
    {
     "name": "stdout",
     "output_type": "stream",
     "text": [
      "1\n",
      "2\n",
      "3\n",
      "4\n",
      "5\n",
      "6\n",
      "7\n",
      "8\n",
      "9\n",
      "10\n"
     ]
    }
   ],
   "source": [
    "# 12. Write a for loop to print numbers from 1 to 10.\n",
    "for i in range(1, 11):\n",
    "    print(i)  # Print numbers from 1 to 10\n"
   ]
  },
  {
   "cell_type": "code",
   "execution_count": null,
   "id": "d20f3486",
   "metadata": {},
   "outputs": [
    {
     "name": "stdout",
     "output_type": "stream",
     "text": [
      "Sum of all even numbers between 1 and 50: 650\n"
     ]
    }
   ],
   "source": [
    "# 13. Write a Python program to find the sum of all even numbers between 1 and 50.\n",
    "sum_even = sum(i for i in range(1, 51) if i % 2 == 0)\n",
    "print(\"Sum of all even numbers between 1 and 50:\", sum_even)\n"
   ]
  },
  {
   "cell_type": "code",
   "execution_count": 19,
   "id": "53daae2a",
   "metadata": {},
   "outputs": [
    {
     "name": "stdout",
     "output_type": "stream",
     "text": [
      "Reversed String: utuR\n"
     ]
    }
   ],
   "source": [
    "# 14. Write a program to reverse a string using a while loop.\n",
    "string = input(\"Enter a string: \")\n",
    "reversed_string = \"\"\n",
    "index = len(string) - 1\n",
    "\n",
    "while index >= 0:\n",
    "    reversed_string += string[index]\n",
    "    index -= 1\n",
    "\n",
    "print(\"Reversed String:\", reversed_string)\n"
   ]
  },
  {
   "cell_type": "code",
   "execution_count": 22,
   "id": "117dde65",
   "metadata": {},
   "outputs": [
    {
     "name": "stdout",
     "output_type": "stream",
     "text": [
      "The factorial is: 120\n"
     ]
    }
   ],
   "source": [
    "# 15. Write a Python program to calculate the factorial of a number provided by the user using a while loop.\n",
    "num = int(input(\"Enter a number: \"))\n",
    "factorial = 1\n",
    "while num > 1:\n",
    "    factorial *= num\n",
    "    num -= 1\n",
    "\n",
    "print(f\"The factorial is: {factorial}\")\n"
   ]
  },
  {
   "cell_type": "code",
   "id": "a518f520",
   "metadata": {
    "ExecuteTime": {
     "end_time": "2025-05-04T10:17:50.878725Z",
     "start_time": "2025-05-04T10:17:50.868398Z"
    }
   },
   "source": [
    "print(\"End of the program.\")"
   ],
   "outputs": [
    {
     "name": "stdout",
     "output_type": "stream",
     "text": [
      "End of the program.\n"
     ]
    }
   ],
   "execution_count": 1
  }
 ],
 "metadata": {
  "kernelspec": {
   "display_name": "Python 3",
   "language": "python",
   "name": "python3"
  },
  "language_info": {
   "codemirror_mode": {
    "name": "ipython",
    "version": 3
   },
   "file_extension": ".py",
   "mimetype": "text/x-python",
   "name": "python",
   "nbconvert_exporter": "python",
   "pygments_lexer": "ipython3",
   "version": "3.13.3"
  }
 },
 "nbformat": 4,
 "nbformat_minor": 5
}
