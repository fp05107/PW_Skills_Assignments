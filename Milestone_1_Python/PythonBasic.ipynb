{
 "cells": [
  {
   "cell_type": "code",
   "execution_count": null,
   "id": "06fc787a",
   "metadata": {
    "vscode": {
     "languageId": "markdown"
    }
   },
   "outputs": [],
   "source": [
    "1. What is Python, and why is it popular \n",
    "   - Python is a high-level, interpreted programming language. Its designed to be easy to read, \n",
    "   easy to write, and very powerful for building all kinds of software  websites, apps, AI, \n",
    "   data analysis, automation, and more.\n",
    "   Python = Human-friendly + Machine-powerful language.\n",
    "\n",
    "   Python is popular because of the below things:\n",
    "    - Simple and Readable Syntax\n",
    "    - Versatile (Web dev, Data science, AI, Automation etc.)\n",
    "    - Huge Library Support and Massive Community\n",
    "    - Cross Platform"
   ]
  },
  {
   "cell_type": "code",
   "execution_count": null,
   "id": "829df1bc",
   "metadata": {
    "vscode": {
     "languageId": "markdown"
    }
   },
   "outputs": [],
   "source": []
  }
 ],
 "metadata": {
  "kernelspec": {
   "display_name": "Python 3",
   "language": "python",
   "name": "python3"
  },
  "language_info": {
   "codemirror_mode": {
    "name": "ipython",
    "version": 3
   },
   "file_extension": ".py",
   "mimetype": "text/x-python",
   "name": "python",
   "nbconvert_exporter": "python",
   "pygments_lexer": "ipython3",
   "version": "3.12.3"
  }
 },
 "nbformat": 4,
 "nbformat_minor": 5
}
