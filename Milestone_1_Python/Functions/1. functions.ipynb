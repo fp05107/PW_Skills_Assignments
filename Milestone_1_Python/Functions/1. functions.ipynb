{
 "cells": [
  {
   "cell_type": "code",
   "execution_count": 1,
   "id": "a3dc6c57-6890-41de-82b7-998bd0d89f59",
   "metadata": {},
   "outputs": [
    {
     "name": "stdout",
     "output_type": "stream",
     "text": [
      "hello world\n"
     ]
    }
   ],
   "source": [
    "print(\"hello world\")"
   ]
  },
  {
   "cell_type": "code",
   "execution_count": 2,
   "id": "0dd1ba3a-0e58-4cbd-9f20-f8065364d88a",
   "metadata": {},
   "outputs": [
    {
     "data": {
      "text/plain": [
       "8"
      ]
     },
     "execution_count": 2,
     "metadata": {},
     "output_type": "execute_result"
    }
   ],
   "source": [
    "len(\"pwskills\")"
   ]
  },
  {
   "cell_type": "code",
   "execution_count": 3,
   "id": "0db0665b-328e-4875-b17c-7f3f666fbc24",
   "metadata": {},
   "outputs": [
    {
     "data": {
      "text/plain": [
       "int"
      ]
     },
     "execution_count": 3,
     "metadata": {},
     "output_type": "execute_result"
    }
   ],
   "source": [
    "type(7)"
   ]
  },
  {
   "cell_type": "code",
   "execution_count": 4,
   "id": "f5da71b9-edb7-4923-80c2-b0059d369e82",
   "metadata": {},
   "outputs": [
    {
     "data": {
      "text/plain": [
       "float"
      ]
     },
     "execution_count": 4,
     "metadata": {},
     "output_type": "execute_result"
    }
   ],
   "source": [
    "type(6.7)"
   ]
  },
  {
   "cell_type": "code",
   "execution_count": 5,
   "id": "59e5dd13-7e5a-4d3c-bf16-cf3dbdbaf726",
   "metadata": {},
   "outputs": [],
   "source": [
    "#functions>> print, len, type>>inbuilt python function\n",
    "#ceil >> roof>>nearest highest whole no value\n",
    "#floor >> grund>> nearest lowest whole no values"
   ]
  },
  {
   "cell_type": "code",
   "execution_count": 7,
   "id": "e03af12d-5900-4a33-845d-2c3e17f7db98",
   "metadata": {},
   "outputs": [],
   "source": [
    "import math as m #math(library) is a collection of function"
   ]
  },
  {
   "cell_type": "code",
   "execution_count": 8,
   "id": "0f91737c-7dc2-402d-a3cc-92cd91695fca",
   "metadata": {},
   "outputs": [
    {
     "data": {
      "text/plain": [
       "7"
      ]
     },
     "execution_count": 8,
     "metadata": {},
     "output_type": "execute_result"
    }
   ],
   "source": [
    "m.ceil(6.5)"
   ]
  },
  {
   "cell_type": "code",
   "execution_count": 9,
   "id": "a226ee9c-4161-4295-85e8-b8eb262a1e75",
   "metadata": {},
   "outputs": [
    {
     "data": {
      "text/plain": [
       "6"
      ]
     },
     "execution_count": 9,
     "metadata": {},
     "output_type": "execute_result"
    }
   ],
   "source": [
    "m.floor(6.5)"
   ]
  },
  {
   "cell_type": "code",
   "execution_count": 11,
   "id": "57caeb5b-0b85-4d07-ab40-28cba03a01f7",
   "metadata": {},
   "outputs": [
    {
     "data": {
      "text/plain": [
       "7"
      ]
     },
     "execution_count": 11,
     "metadata": {},
     "output_type": "execute_result"
    }
   ],
   "source": [
    "m.floor(7.8)"
   ]
  },
  {
   "cell_type": "code",
   "execution_count": 12,
   "id": "dbdbe93a-bdbc-4eef-a7d8-ebb9aa426d8f",
   "metadata": {},
   "outputs": [
    {
     "data": {
      "text/plain": [
       "100"
      ]
     },
     "execution_count": 12,
     "metadata": {},
     "output_type": "execute_result"
    }
   ],
   "source": [
    "m.floor(100.1)"
   ]
  },
  {
   "cell_type": "code",
   "execution_count": 10,
   "id": "b45b9fbb-412b-447c-a3c3-3d6be5115d7e",
   "metadata": {},
   "outputs": [],
   "source": [
    "#function>> inbuilt function\n",
    "#user defined function"
   ]
  },
  {
   "cell_type": "code",
   "execution_count": null,
   "id": "8f9bf618-1a59-4577-b3bc-32a13f72d36d",
   "metadata": {},
   "outputs": [],
   "source": [
    "#function is a block of code which performs some specific task/computation\n",
    "#why function?>> functions are reusable, neat, clean and organised, saves your time"
   ]
  },
  {
   "cell_type": "code",
   "execution_count": 13,
   "id": "22a65490-0630-4d81-bbaf-e6b6b8aa8f90",
   "metadata": {},
   "outputs": [],
   "source": [
    "#syntax of function\n",
    "#def func():\n",
    "    #do something>> body of function"
   ]
  },
  {
   "cell_type": "code",
   "execution_count": 14,
   "id": "094594bc-c29f-4be0-94c4-cf6a7276cdb8",
   "metadata": {},
   "outputs": [
    {
     "name": "stdout",
     "output_type": "stream",
     "text": [
      "Welcome to the office Rahul\n",
      "Welcome to the office Shyam\n",
      "Welcome to the office Anshika\n"
     ]
    }
   ],
   "source": [
    "print(\"Welcome to the office Rahul\")\n",
    "print(\"Welcome to the office Shyam\")\n",
    "print(\"Welcome to the office Anshika\")"
   ]
  },
  {
   "cell_type": "code",
   "execution_count": null,
   "id": "08308041-9569-4cfa-8608-4ade23d3f422",
   "metadata": {},
   "outputs": [],
   "source": [
    "print(\"hello world\") #in print, you call function by name, prin() and provide a value inside paranthesis"
   ]
  },
  {
   "cell_type": "code",
   "execution_count": 15,
   "id": "58cf72c2-62e8-4279-81d3-226763314cfc",
   "metadata": {},
   "outputs": [],
   "source": [
    "def greetings(): \n",
    "    print(\"Welcome to the office\")"
   ]
  },
  {
   "cell_type": "code",
   "execution_count": 16,
   "id": "65d641c0-aea1-4c91-b5de-ff85232e9e34",
   "metadata": {},
   "outputs": [
    {
     "name": "stdout",
     "output_type": "stream",
     "text": [
      "Welcome to the office\n"
     ]
    }
   ],
   "source": [
    "greetings()"
   ]
  },
  {
   "cell_type": "code",
   "execution_count": 17,
   "id": "cf653a24-36b8-4c6d-9248-188c777d8868",
   "metadata": {},
   "outputs": [
    {
     "name": "stdout",
     "output_type": "stream",
     "text": [
      "Welcome to the office\n"
     ]
    }
   ],
   "source": [
    "greetings()"
   ]
  },
  {
   "cell_type": "code",
   "execution_count": 18,
   "id": "fd907ba0-4e86-4037-aa30-498b768af950",
   "metadata": {},
   "outputs": [
    {
     "name": "stdout",
     "output_type": "stream",
     "text": [
      "Welcome to the office\n"
     ]
    }
   ],
   "source": [
    "greetings()"
   ]
  },
  {
   "cell_type": "code",
   "execution_count": 19,
   "id": "4441c60b-5bf1-44a5-b597-76cc04bfcf92",
   "metadata": {},
   "outputs": [
    {
     "name": "stdout",
     "output_type": "stream",
     "text": [
      "Welcome to the office\n"
     ]
    }
   ],
   "source": [
    "greetings()"
   ]
  },
  {
   "cell_type": "code",
   "execution_count": 21,
   "id": "b69fb3aa-5d64-4a69-aa3a-2fd549367b92",
   "metadata": {},
   "outputs": [],
   "source": [
    "def greetings(name): #passing a variable inside a function >> name is positional arguement\n",
    "    print(\"Welcome to the office\", name)"
   ]
  },
  {
   "cell_type": "code",
   "execution_count": 22,
   "id": "c73904e4-7d55-4dd1-96c2-1b8c5f81c859",
   "metadata": {},
   "outputs": [
    {
     "name": "stdout",
     "output_type": "stream",
     "text": [
      "Welcome to the office Ajay\n"
     ]
    }
   ],
   "source": [
    "greetings(\"Ajay\")"
   ]
  },
  {
   "cell_type": "code",
   "execution_count": 23,
   "id": "591d921f-9a83-4bde-8f1e-4149cd9ea91c",
   "metadata": {},
   "outputs": [
    {
     "name": "stdout",
     "output_type": "stream",
     "text": [
      "Welcome to the office Bijay\n"
     ]
    }
   ],
   "source": [
    "greetings(\"Bijay\")"
   ]
  },
  {
   "cell_type": "code",
   "execution_count": 24,
   "id": "4c36685f-13dd-4607-92ac-5aad52d5401c",
   "metadata": {},
   "outputs": [
    {
     "name": "stdout",
     "output_type": "stream",
     "text": [
      "Welcome to the office Sanjay\n"
     ]
    }
   ],
   "source": [
    "greetings(\"Sanjay\")"
   ]
  },
  {
   "cell_type": "code",
   "execution_count": 25,
   "id": "d8b29ece-2532-409f-9488-a88b7c8d57e5",
   "metadata": {},
   "outputs": [
    {
     "ename": "TypeError",
     "evalue": "greetings() missing 1 required positional argument: 'name'",
     "output_type": "error",
     "traceback": [
      "\u001b[0;31m---------------------------------------------------------------------------\u001b[0m",
      "\u001b[0;31mTypeError\u001b[0m                                 Traceback (most recent call last)",
      "Cell \u001b[0;32mIn[25], line 1\u001b[0m\n\u001b[0;32m----> 1\u001b[0m \u001b[43mgreetings\u001b[49m\u001b[43m(\u001b[49m\u001b[43m)\u001b[49m \u001b[38;5;66;03m#it will throw an error\u001b[39;00m\n",
      "\u001b[0;31mTypeError\u001b[0m: greetings() missing 1 required positional argument: 'name'"
     ]
    }
   ],
   "source": [
    "greetings() #it will throw an error"
   ]
  },
  {
   "cell_type": "code",
   "execution_count": 29,
   "id": "7a5a34f5-071a-45a9-b884-743603885e24",
   "metadata": {},
   "outputs": [],
   "source": [
    "def greet(ajay):\n",
    "    print(\"Welcome to the office\", ajay)"
   ]
  },
  {
   "cell_type": "code",
   "execution_count": 30,
   "id": "37bf0d17-f889-4f15-b509-7abd8a3a72fc",
   "metadata": {},
   "outputs": [
    {
     "name": "stdout",
     "output_type": "stream",
     "text": [
      "Welcome to the office Bijay\n"
     ]
    }
   ],
   "source": [
    "greet(\"Bijay\")"
   ]
  },
  {
   "cell_type": "code",
   "execution_count": 31,
   "id": "f83dd054-63ab-4205-b11c-6297be1892c7",
   "metadata": {},
   "outputs": [
    {
     "name": "stdout",
     "output_type": "stream",
     "text": [
      "Welcome to the office Sanjay\n"
     ]
    }
   ],
   "source": [
    "greet(\"Sanjay\")"
   ]
  },
  {
   "cell_type": "code",
   "execution_count": 32,
   "id": "58813470-1400-45a8-a50e-f11c09f26877",
   "metadata": {},
   "outputs": [
    {
     "name": "stdout",
     "output_type": "stream",
     "text": [
      "This is my first function\n"
     ]
    }
   ],
   "source": [
    "def func():\n",
    "    print(\"This is my first function\")\n",
    "    \n",
    "func()"
   ]
  },
  {
   "cell_type": "code",
   "execution_count": 33,
   "id": "2606170d-c001-43b2-b393-fe5a2c23596f",
   "metadata": {},
   "outputs": [
    {
     "data": {
      "text/plain": [
       "'This is my first function in Python'"
      ]
     },
     "execution_count": 33,
     "metadata": {},
     "output_type": "execute_result"
    }
   ],
   "source": [
    "\"This is my first function\" + \" in Python\""
   ]
  },
  {
   "cell_type": "code",
   "execution_count": 35,
   "id": "efd46533-8d42-47ba-afa8-668dd0eb64fe",
   "metadata": {},
   "outputs": [
    {
     "name": "stdout",
     "output_type": "stream",
     "text": [
      "This is my first function\n"
     ]
    },
    {
     "ename": "TypeError",
     "evalue": "unsupported operand type(s) for +: 'NoneType' and 'str'",
     "output_type": "error",
     "traceback": [
      "\u001b[0;31m---------------------------------------------------------------------------\u001b[0m",
      "\u001b[0;31mTypeError\u001b[0m                                 Traceback (most recent call last)",
      "Cell \u001b[0;32mIn[35], line 1\u001b[0m\n\u001b[0;32m----> 1\u001b[0m \u001b[43mfunc\u001b[49m\u001b[43m(\u001b[49m\u001b[43m)\u001b[49m\u001b[43m \u001b[49m\u001b[38;5;241;43m+\u001b[39;49m\u001b[43m \u001b[49m\u001b[38;5;124;43m\"\u001b[39;49m\u001b[38;5;124;43m in Python\u001b[39;49m\u001b[38;5;124;43m\"\u001b[39;49m \u001b[38;5;66;03m#throw an error\u001b[39;00m\n",
      "\u001b[0;31mTypeError\u001b[0m: unsupported operand type(s) for +: 'NoneType' and 'str'"
     ]
    }
   ],
   "source": [
    "func() + \" in Python\" #throw an error"
   ]
  },
  {
   "cell_type": "code",
   "execution_count": 36,
   "id": "b7475b69-e419-4f1b-9ab9-e40807f43cad",
   "metadata": {},
   "outputs": [
    {
     "name": "stdout",
     "output_type": "stream",
     "text": [
      "This is my first function\n",
      "<class 'NoneType'>\n"
     ]
    }
   ],
   "source": [
    "print(type(func()))"
   ]
  },
  {
   "cell_type": "code",
   "execution_count": 38,
   "id": "2aadfe00-c9e7-4765-a63f-b3504c99d131",
   "metadata": {},
   "outputs": [
    {
     "data": {
      "text/plain": [
       "'This is my first function in Python'"
      ]
     },
     "execution_count": 38,
     "metadata": {},
     "output_type": "execute_result"
    }
   ],
   "source": [
    "def func():#return>> output of a function\n",
    "    #do something\n",
    "    return \"This is my first function\"\n",
    "\n",
    "func() + \" in Python\""
   ]
  },
  {
   "cell_type": "code",
   "execution_count": 39,
   "id": "f12a2c3c-582e-4231-8284-b6f6442c9a44",
   "metadata": {},
   "outputs": [],
   "source": [
    "def func():\n",
    "    return \"this is my first function\", 1, 2.2, True, 3+7j"
   ]
  },
  {
   "cell_type": "code",
   "execution_count": 40,
   "id": "d64943d1-8d44-45f9-9e42-e4f92e98092d",
   "metadata": {},
   "outputs": [
    {
     "data": {
      "text/plain": [
       "('this is my first function', 1, 2.2, True, (3+7j))"
      ]
     },
     "execution_count": 40,
     "metadata": {},
     "output_type": "execute_result"
    }
   ],
   "source": [
    "func()"
   ]
  },
  {
   "cell_type": "code",
   "execution_count": 41,
   "id": "b57836b4-13f0-4bbc-825c-2561ded56caf",
   "metadata": {},
   "outputs": [
    {
     "data": {
      "text/plain": [
       "tuple"
      ]
     },
     "execution_count": 41,
     "metadata": {},
     "output_type": "execute_result"
    }
   ],
   "source": [
    "a = func()\n",
    "type(a)"
   ]
  },
  {
   "cell_type": "code",
   "execution_count": 43,
   "id": "0da98082-d6df-4ce8-b285-554273c62c7f",
   "metadata": {},
   "outputs": [],
   "source": [
    "a, b, c, d, e = func()"
   ]
  },
  {
   "cell_type": "code",
   "execution_count": 44,
   "id": "45d43036-ee14-4b98-935a-ef738e464614",
   "metadata": {},
   "outputs": [
    {
     "data": {
      "text/plain": [
       "'this is my first function'"
      ]
     },
     "execution_count": 44,
     "metadata": {},
     "output_type": "execute_result"
    }
   ],
   "source": [
    "a"
   ]
  },
  {
   "cell_type": "code",
   "execution_count": 45,
   "id": "94347889-571d-42b3-8ec0-46ab036da7e6",
   "metadata": {},
   "outputs": [
    {
     "data": {
      "text/plain": [
       "1"
      ]
     },
     "execution_count": 45,
     "metadata": {},
     "output_type": "execute_result"
    }
   ],
   "source": [
    "b"
   ]
  },
  {
   "cell_type": "code",
   "execution_count": 46,
   "id": "dc9ccff3-8d1b-4424-a54f-a9a4317901f8",
   "metadata": {},
   "outputs": [
    {
     "data": {
      "text/plain": [
       "2.2"
      ]
     },
     "execution_count": 46,
     "metadata": {},
     "output_type": "execute_result"
    }
   ],
   "source": [
    "c"
   ]
  },
  {
   "cell_type": "code",
   "execution_count": 47,
   "id": "49e8cf0d-4fec-4f59-85e9-477ceff11aa5",
   "metadata": {},
   "outputs": [
    {
     "data": {
      "text/plain": [
       "True"
      ]
     },
     "execution_count": 47,
     "metadata": {},
     "output_type": "execute_result"
    }
   ],
   "source": [
    "d"
   ]
  },
  {
   "cell_type": "code",
   "execution_count": 48,
   "id": "5ddeeacb-6b0f-432a-b6b3-2f5efa19d824",
   "metadata": {},
   "outputs": [
    {
     "data": {
      "text/plain": [
       "(3+7j)"
      ]
     },
     "execution_count": 48,
     "metadata": {},
     "output_type": "execute_result"
    }
   ],
   "source": [
    "e"
   ]
  },
  {
   "cell_type": "code",
   "execution_count": 49,
   "id": "900ce58d-dab1-4c58-8fde-380c03c9defb",
   "metadata": {},
   "outputs": [
    {
     "ename": "ValueError",
     "evalue": "too many values to unpack (expected 4)",
     "output_type": "error",
     "traceback": [
      "\u001b[0;31m---------------------------------------------------------------------------\u001b[0m",
      "\u001b[0;31mValueError\u001b[0m                                Traceback (most recent call last)",
      "Cell \u001b[0;32mIn[49], line 1\u001b[0m\n\u001b[0;32m----> 1\u001b[0m a, b, c, d,  \u001b[38;5;241m=\u001b[39m func()\n",
      "\u001b[0;31mValueError\u001b[0m: too many values to unpack (expected 4)"
     ]
    }
   ],
   "source": [
    "a, b, c, d,  = func()"
   ]
  },
  {
   "cell_type": "code",
   "execution_count": 50,
   "id": "569dbbff-32ae-4a77-8be4-1653810a2113",
   "metadata": {},
   "outputs": [
    {
     "data": {
      "text/plain": [
       "('this is my first function', 1, 2.2, True, (3+7j))"
      ]
     },
     "execution_count": 50,
     "metadata": {},
     "output_type": "execute_result"
    }
   ],
   "source": [
    "a = func()\n",
    "a"
   ]
  },
  {
   "cell_type": "code",
   "execution_count": 51,
   "id": "8b37afe6-abdc-4f52-9a6b-cbdce8e8e702",
   "metadata": {},
   "outputs": [
    {
     "data": {
      "text/plain": [
       "'this is my first function'"
      ]
     },
     "execution_count": 51,
     "metadata": {},
     "output_type": "execute_result"
    }
   ],
   "source": [
    "a[0]"
   ]
  },
  {
   "cell_type": "code",
   "execution_count": 52,
   "id": "5bb8dc0c-e7a6-440a-8519-3c9342ec2dfc",
   "metadata": {},
   "outputs": [
    {
     "data": {
      "text/plain": [
       "1"
      ]
     },
     "execution_count": 52,
     "metadata": {},
     "output_type": "execute_result"
    }
   ],
   "source": [
    "a[1]"
   ]
  },
  {
   "cell_type": "code",
   "execution_count": 53,
   "id": "9d9e21d9-217e-4c2a-b926-3dd3c2d764df",
   "metadata": {},
   "outputs": [],
   "source": [
    "def func():\n",
    "    calc = 2+3+6*5\n",
    "    return calc"
   ]
  },
  {
   "cell_type": "code",
   "execution_count": 55,
   "id": "39640743-6492-4294-aa4a-1b4be1c9e04f",
   "metadata": {},
   "outputs": [
    {
     "data": {
      "text/plain": [
       "35"
      ]
     },
     "execution_count": 55,
     "metadata": {},
     "output_type": "execute_result"
    }
   ],
   "source": [
    "func()"
   ]
  },
  {
   "cell_type": "code",
   "execution_count": 56,
   "id": "eec41e72-7262-4d33-b37e-a0f9e1863f75",
   "metadata": {},
   "outputs": [
    {
     "data": {
      "text/plain": [
       "int"
      ]
     },
     "execution_count": 56,
     "metadata": {},
     "output_type": "execute_result"
    }
   ],
   "source": [
    "type(func())"
   ]
  },
  {
   "cell_type": "code",
   "execution_count": 57,
   "id": "3947922a-609f-45d9-9b74-54953fd2f8c3",
   "metadata": {},
   "outputs": [],
   "source": [
    "def square_no(a): #a is called as an arguement\n",
    "    return a*a"
   ]
  },
  {
   "cell_type": "code",
   "execution_count": 58,
   "id": "e32e2ebb-0330-4e61-86b9-7bacf014ee0b",
   "metadata": {},
   "outputs": [
    {
     "data": {
      "text/plain": [
       "25"
      ]
     },
     "execution_count": 58,
     "metadata": {},
     "output_type": "execute_result"
    }
   ],
   "source": [
    "square_no(5)"
   ]
  },
  {
   "cell_type": "code",
   "execution_count": 59,
   "id": "59253082-0953-4df4-85d6-87311621686e",
   "metadata": {},
   "outputs": [
    {
     "data": {
      "text/plain": [
       "1000000"
      ]
     },
     "execution_count": 59,
     "metadata": {},
     "output_type": "execute_result"
    }
   ],
   "source": [
    "square_no(1000)"
   ]
  },
  {
   "cell_type": "code",
   "execution_count": 60,
   "id": "f20d0cac-7d56-4a08-8659-e2c674c837f7",
   "metadata": {},
   "outputs": [
    {
     "data": {
      "text/plain": [
       "11236"
      ]
     },
     "execution_count": 60,
     "metadata": {},
     "output_type": "execute_result"
    }
   ],
   "source": [
    "def square_no(args):\n",
    "    return args*args\n",
    "\n",
    "square_no(106)"
   ]
  },
  {
   "cell_type": "code",
   "execution_count": 61,
   "id": "70660081-1469-46df-bf25-9ff73b7202ee",
   "metadata": {},
   "outputs": [],
   "source": [
    "def addition(a, b):\n",
    "    return a+b"
   ]
  },
  {
   "cell_type": "code",
   "execution_count": 62,
   "id": "ed9663a0-4242-4796-a1fc-388e9c41d8b9",
   "metadata": {},
   "outputs": [
    {
     "data": {
      "text/plain": [
       "11"
      ]
     },
     "execution_count": 62,
     "metadata": {},
     "output_type": "execute_result"
    }
   ],
   "source": [
    "addition(5, 6)"
   ]
  },
  {
   "cell_type": "code",
   "execution_count": 63,
   "id": "7e73cb68-9233-46a6-9a01-a832bba390ae",
   "metadata": {},
   "outputs": [
    {
     "data": {
      "text/plain": [
       "31"
      ]
     },
     "execution_count": 63,
     "metadata": {},
     "output_type": "execute_result"
    }
   ],
   "source": [
    "addition(11, 20)"
   ]
  },
  {
   "cell_type": "code",
   "execution_count": 64,
   "id": "254e9278-485d-4514-a3b8-a7193d83276a",
   "metadata": {},
   "outputs": [
    {
     "data": {
      "text/plain": [
       "'pwskills'"
      ]
     },
     "execution_count": 64,
     "metadata": {},
     "output_type": "execute_result"
    }
   ],
   "source": [
    "addition(\"pw\", \"skills\")"
   ]
  },
  {
   "cell_type": "code",
   "execution_count": 65,
   "id": "8cc8e1c3-7dec-4813-805b-929456467cef",
   "metadata": {},
   "outputs": [
    {
     "data": {
      "text/plain": [
       "'pwskills'"
      ]
     },
     "execution_count": 65,
     "metadata": {},
     "output_type": "execute_result"
    }
   ],
   "source": [
    "\"pw\"+\"skills\""
   ]
  },
  {
   "cell_type": "code",
   "execution_count": 66,
   "id": "21f595f6-817a-49ba-817e-3c53e736fc8a",
   "metadata": {},
   "outputs": [
    {
     "data": {
      "text/plain": [
       "[1, 2, 3, 4, 5, 6]"
      ]
     },
     "execution_count": 66,
     "metadata": {},
     "output_type": "execute_result"
    }
   ],
   "source": [
    "addition([1, 2, 3], [4, 5, 6])"
   ]
  },
  {
   "cell_type": "code",
   "execution_count": 67,
   "id": "a60e8e13-4ba7-4bad-ae2a-7a61e1f8a26e",
   "metadata": {},
   "outputs": [
    {
     "data": {
      "text/plain": [
       "[1, 2, 3, 4, 5, 6]"
      ]
     },
     "execution_count": 67,
     "metadata": {},
     "output_type": "execute_result"
    }
   ],
   "source": [
    "[1, 2, 3] + [4, 5, 6]"
   ]
  },
  {
   "cell_type": "code",
   "execution_count": 70,
   "id": "482a5b82-54e9-4da5-b293-941c3a9ea880",
   "metadata": {},
   "outputs": [],
   "source": [
    "def addition(a, b):\n",
    "    return a+b"
   ]
  },
  {
   "cell_type": "code",
   "execution_count": 71,
   "id": "2ce103dc-9cf2-4272-836f-e39cff690957",
   "metadata": {},
   "outputs": [
    {
     "data": {
      "text/plain": [
       "'pwskills'"
      ]
     },
     "execution_count": 71,
     "metadata": {},
     "output_type": "execute_result"
    }
   ],
   "source": [
    "addition(\"pw\", \"skills\")"
   ]
  },
  {
   "cell_type": "code",
   "execution_count": 69,
   "id": "bfd9681c-7b07-46d2-a766-2d6c415f83f8",
   "metadata": {},
   "outputs": [
    {
     "data": {
      "text/plain": [
       "'skillspw'"
      ]
     },
     "execution_count": 69,
     "metadata": {},
     "output_type": "execute_result"
    }
   ],
   "source": [
    "addition(\"skills\", \"pw\") "
   ]
  },
  {
   "cell_type": "code",
   "execution_count": 72,
   "id": "66b4f2a3-21f5-4d8b-adc8-8013de3e097a",
   "metadata": {},
   "outputs": [
    {
     "data": {
      "text/plain": [
       "'pwskills'"
      ]
     },
     "execution_count": 72,
     "metadata": {},
     "output_type": "execute_result"
    }
   ],
   "source": [
    "# a and b are positional arguements>> it maintains order\n",
    "\n",
    "\n",
    "addition(b=\"skills\", a=\"pw\") "
   ]
  },
  {
   "cell_type": "code",
   "execution_count": 73,
   "id": "09798826-116f-4876-a76c-f6632115b80f",
   "metadata": {},
   "outputs": [],
   "source": [
    "def sum1(a, b, c):\n",
    "    return a+b+c"
   ]
  },
  {
   "cell_type": "code",
   "execution_count": 74,
   "id": "82ade9a7-aa5b-45b9-9530-9ea869de9cf3",
   "metadata": {},
   "outputs": [
    {
     "data": {
      "text/plain": [
       "6"
      ]
     },
     "execution_count": 74,
     "metadata": {},
     "output_type": "execute_result"
    }
   ],
   "source": [
    "sum1(1, 2, 3)"
   ]
  },
  {
   "cell_type": "code",
   "execution_count": 76,
   "id": "c1b0dc01-da3d-4beb-abd6-fd962bbce735",
   "metadata": {},
   "outputs": [],
   "source": [
    "#default argement\n",
    "def sum1(b, c, a=0):\n",
    "    return a+b+c"
   ]
  },
  {
   "cell_type": "code",
   "execution_count": 78,
   "id": "b15f0cea-9082-4c09-b38e-e66383782311",
   "metadata": {},
   "outputs": [
    {
     "data": {
      "text/plain": [
       "8"
      ]
     },
     "execution_count": 78,
     "metadata": {},
     "output_type": "execute_result"
    }
   ],
   "source": [
    "sum1(b=3, c=5)"
   ]
  },
  {
   "cell_type": "code",
   "execution_count": 79,
   "id": "2ef96620-966f-4e05-9c8e-ad26a127388c",
   "metadata": {},
   "outputs": [],
   "source": [
    "def sum1(a, b, c):\n",
    "    return a+b+c"
   ]
  },
  {
   "cell_type": "code",
   "execution_count": 81,
   "id": "955c7a14-705f-433c-af6e-7e24885c8f83",
   "metadata": {},
   "outputs": [
    {
     "ename": "TypeError",
     "evalue": "sum1() missing 1 required positional argument: 'c'",
     "output_type": "error",
     "traceback": [
      "\u001b[0;31m---------------------------------------------------------------------------\u001b[0m",
      "\u001b[0;31mTypeError\u001b[0m                                 Traceback (most recent call last)",
      "Cell \u001b[0;32mIn[81], line 1\u001b[0m\n\u001b[0;32m----> 1\u001b[0m \u001b[43msum1\u001b[49m\u001b[43m(\u001b[49m\u001b[38;5;241;43m1\u001b[39;49m\u001b[43m,\u001b[49m\u001b[43m \u001b[49m\u001b[38;5;241;43m2\u001b[39;49m\u001b[43m)\u001b[49m\n",
      "\u001b[0;31mTypeError\u001b[0m: sum1() missing 1 required positional argument: 'c'"
     ]
    }
   ],
   "source": [
    "sum1(1, 2)"
   ]
  },
  {
   "cell_type": "code",
   "execution_count": 82,
   "id": "38fe1f3d-d69c-4782-8d14-a384321fbf0a",
   "metadata": {},
   "outputs": [],
   "source": [
    "def sum1(a, b, c=0): #non-default argument follows default argument\n",
    "    return a+b+c"
   ]
  },
  {
   "cell_type": "code",
   "execution_count": 83,
   "id": "faf21d8f-6709-49b6-9492-fd65966fbe99",
   "metadata": {},
   "outputs": [
    {
     "data": {
      "text/plain": [
       "11"
      ]
     },
     "execution_count": 83,
     "metadata": {},
     "output_type": "execute_result"
    }
   ],
   "source": [
    "sum1(5, 6)"
   ]
  },
  {
   "cell_type": "code",
   "execution_count": 85,
   "id": "25a6db56-7ace-400a-a188-d82244f1dde0",
   "metadata": {},
   "outputs": [],
   "source": [
    "def sum1( b, c, a=0):\n",
    "    return a+b+c"
   ]
  },
  {
   "cell_type": "code",
   "execution_count": 86,
   "id": "ae769168-3b7b-4c5e-a70d-682c0fc3e3bc",
   "metadata": {},
   "outputs": [
    {
     "data": {
      "text/plain": [
       "5"
      ]
     },
     "execution_count": 86,
     "metadata": {},
     "output_type": "execute_result"
    }
   ],
   "source": [
    "sum1(2, 3)"
   ]
  },
  {
   "cell_type": "code",
   "execution_count": 87,
   "id": "85db26ff-0bba-4f8d-b6d1-83092883b665",
   "metadata": {},
   "outputs": [],
   "source": [
    "def sum1(b=0, c=0, a=0):\n",
    "    return a+b+c"
   ]
  },
  {
   "cell_type": "code",
   "execution_count": 90,
   "id": "4565150b-cf84-4572-bb2e-b9e9f2e06fe9",
   "metadata": {},
   "outputs": [
    {
     "data": {
      "text/plain": [
       "6"
      ]
     },
     "execution_count": 90,
     "metadata": {},
     "output_type": "execute_result"
    }
   ],
   "source": [
    "sum1(1, 2, 3)"
   ]
  },
  {
   "cell_type": "code",
   "execution_count": 91,
   "id": "f3642f34-2e52-49fb-8538-7ad61805743a",
   "metadata": {},
   "outputs": [],
   "source": [
    "def sum1(b=5, c=0, a=0):\n",
    "    return a+b+c"
   ]
  },
  {
   "cell_type": "code",
   "execution_count": 92,
   "id": "e249f9ea-6223-4855-9b0e-5f73dc976f44",
   "metadata": {},
   "outputs": [
    {
     "data": {
      "text/plain": [
       "5"
      ]
     },
     "execution_count": 92,
     "metadata": {},
     "output_type": "execute_result"
    }
   ],
   "source": [
    "sum1()"
   ]
  },
  {
   "cell_type": "code",
   "execution_count": 94,
   "id": "ed643aff-08d4-4a42-9dc8-60e77fcd362d",
   "metadata": {},
   "outputs": [
    {
     "data": {
      "text/plain": [
       "6"
      ]
     },
     "execution_count": 94,
     "metadata": {},
     "output_type": "execute_result"
    }
   ],
   "source": [
    "sum1(c=1)"
   ]
  },
  {
   "cell_type": "code",
   "execution_count": 95,
   "id": "957e008c-a67f-4f15-a8f7-61363edb2f94",
   "metadata": {},
   "outputs": [
    {
     "data": {
      "text/plain": [
       "6"
      ]
     },
     "execution_count": 95,
     "metadata": {},
     "output_type": "execute_result"
    }
   ],
   "source": [
    "sum1(a=1)"
   ]
  },
  {
   "cell_type": "code",
   "execution_count": 96,
   "id": "64f94c84-6f65-4dcf-b2b7-9e751426d136",
   "metadata": {},
   "outputs": [],
   "source": [
    "def add_two_number():\n",
    "    a = int(input(\"enter the first no\"))\n",
    "    b = int(input(\"enter the second no\"))\n",
    "    return a+b"
   ]
  },
  {
   "cell_type": "code",
   "execution_count": 97,
   "id": "c96107fa-ea25-4854-827c-45cddf4ea309",
   "metadata": {},
   "outputs": [
    {
     "name": "stdin",
     "output_type": "stream",
     "text": [
      "enter the first no 7\n",
      "enter the second no 8\n"
     ]
    },
    {
     "data": {
      "text/plain": [
       "15"
      ]
     },
     "execution_count": 97,
     "metadata": {},
     "output_type": "execute_result"
    }
   ],
   "source": [
    "add_two_number()"
   ]
  },
  {
   "cell_type": "code",
   "execution_count": 98,
   "id": "c1eab3ef-2a2f-4e08-b619-adb1ddfa527d",
   "metadata": {},
   "outputs": [],
   "source": [
    "#write a function that takes list as input and return all numeric values in a list"
   ]
  },
  {
   "cell_type": "code",
   "execution_count": 101,
   "id": "25651cb4-faa4-4033-aa57-fc232cb112a5",
   "metadata": {},
   "outputs": [],
   "source": [
    "def only_numeric(a):\n",
    "    n = []\n",
    "    for i in a:\n",
    "        if type(i) == int or type(i) == float:\n",
    "            n.append(i)\n",
    "    return n"
   ]
  },
  {
   "cell_type": "code",
   "execution_count": 104,
   "id": "4d8ff517-46f6-4130-a714-9880c9c5add3",
   "metadata": {},
   "outputs": [
    {
     "data": {
      "text/plain": [
       "[1, 2.2, 5, 6]"
      ]
     },
     "execution_count": 104,
     "metadata": {},
     "output_type": "execute_result"
    }
   ],
   "source": [
    "only_numeric([1, 2.2, \"Ajay\", True, 3+7j, \"pwskills\", 5, 6])"
   ]
  },
  {
   "cell_type": "code",
   "execution_count": 105,
   "id": "cd56a2a7-839d-4b97-a2cb-680c9885030c",
   "metadata": {},
   "outputs": [],
   "source": [
    "#now in input take nested list\n",
    "#only_numeric([1, 2.2, \"Ajay\", True, 3+7j, \"pwskills\", 5, 6, [100, 101, \"Ajay\"]])"
   ]
  },
  {
   "cell_type": "code",
   "execution_count": 106,
   "id": "40954ef4-8a20-41b4-ae05-cbb7a335b11d",
   "metadata": {},
   "outputs": [],
   "source": [
    "def only_numeric(a):\n",
    "    n = []\n",
    "    for i in a:\n",
    "        if type(i) == list:\n",
    "            for j in i:\n",
    "                if type(j) == int or type(j) == float:\n",
    "                    n.append(j)\n",
    "        else:\n",
    "            if type(i) == int or type(i) == float:\n",
    "                n.append(i)\n",
    "    return n"
   ]
  },
  {
   "cell_type": "code",
   "execution_count": 107,
   "id": "32af1fc2-5898-4700-a3c5-bd8cf0d34fa6",
   "metadata": {},
   "outputs": [
    {
     "data": {
      "text/plain": [
       "[1, 2.2, 5, 6, 100, 101]"
      ]
     },
     "execution_count": 107,
     "metadata": {},
     "output_type": "execute_result"
    }
   ],
   "source": [
    "only_numeric([1, 2.2, \"Ajay\", True, 3+7j, \"pwskills\", 5, 6, [100, 101, \"Ajay\"]])"
   ]
  },
  {
   "cell_type": "code",
   "execution_count": 108,
   "id": "76f02609-3004-4dae-ae1e-c077500cdddc",
   "metadata": {},
   "outputs": [],
   "source": [
    "def sum1(a, b):\n",
    "    return a+b"
   ]
  },
  {
   "cell_type": "code",
   "execution_count": 109,
   "id": "713b96fe-888e-45dc-9e6d-9a3c43e75dc2",
   "metadata": {},
   "outputs": [
    {
     "data": {
      "text/plain": [
       "5"
      ]
     },
     "execution_count": 109,
     "metadata": {},
     "output_type": "execute_result"
    }
   ],
   "source": [
    "sum1(2, 3)"
   ]
  },
  {
   "cell_type": "code",
   "execution_count": 110,
   "id": "3310a649-461e-432a-b132-e1f8c8d8f2fc",
   "metadata": {},
   "outputs": [
    {
     "ename": "TypeError",
     "evalue": "sum1() takes 2 positional arguments but 3 were given",
     "output_type": "error",
     "traceback": [
      "\u001b[0;31m---------------------------------------------------------------------------\u001b[0m",
      "\u001b[0;31mTypeError\u001b[0m                                 Traceback (most recent call last)",
      "Cell \u001b[0;32mIn[110], line 1\u001b[0m\n\u001b[0;32m----> 1\u001b[0m \u001b[43msum1\u001b[49m\u001b[43m(\u001b[49m\u001b[38;5;241;43m2\u001b[39;49m\u001b[43m,\u001b[49m\u001b[43m \u001b[49m\u001b[38;5;241;43m3\u001b[39;49m\u001b[43m,\u001b[49m\u001b[43m \u001b[49m\u001b[38;5;241;43m4\u001b[39;49m\u001b[43m)\u001b[49m\n",
      "\u001b[0;31mTypeError\u001b[0m: sum1() takes 2 positional arguments but 3 were given"
     ]
    }
   ],
   "source": [
    "sum1(2, 3, 4)"
   ]
  },
  {
   "cell_type": "code",
   "execution_count": 111,
   "id": "da959b6c-65cc-44b8-9064-541151757d86",
   "metadata": {},
   "outputs": [],
   "source": [
    "#variable length arguement>>when you dont know the no of arguments"
   ]
  },
  {
   "cell_type": "code",
   "execution_count": 112,
   "id": "daf33a9c-2cd2-48a5-a35a-ef25b3d4e0e7",
   "metadata": {},
   "outputs": [],
   "source": [
    "def sum1(*args):\n",
    "    return args"
   ]
  },
  {
   "cell_type": "code",
   "execution_count": 113,
   "id": "391a2957-bdaf-40b1-96cd-92f5b18a4b7d",
   "metadata": {},
   "outputs": [
    {
     "data": {
      "text/plain": [
       "(1, 2)"
      ]
     },
     "execution_count": 113,
     "metadata": {},
     "output_type": "execute_result"
    }
   ],
   "source": [
    "sum1(1, 2)"
   ]
  },
  {
   "cell_type": "code",
   "execution_count": 114,
   "id": "dac2c2c7-647f-400a-adf2-f02ce6bd9455",
   "metadata": {},
   "outputs": [
    {
     "data": {
      "text/plain": [
       "(1, 2, 3)"
      ]
     },
     "execution_count": 114,
     "metadata": {},
     "output_type": "execute_result"
    }
   ],
   "source": [
    "sum1(1, 2, 3)"
   ]
  },
  {
   "cell_type": "code",
   "execution_count": 115,
   "id": "4af83025-ec82-44c4-b24e-cd700a2cf67e",
   "metadata": {},
   "outputs": [
    {
     "data": {
      "text/plain": [
       "(1, 2, 3, 4, 5, 6, 7)"
      ]
     },
     "execution_count": 115,
     "metadata": {},
     "output_type": "execute_result"
    }
   ],
   "source": [
    "sum1(1, 2, 3, 4, 5, 6, 7)"
   ]
  },
  {
   "cell_type": "code",
   "execution_count": 116,
   "id": "cccc3477-f49b-4f54-b58f-62858369bf16",
   "metadata": {},
   "outputs": [
    {
     "name": "stdout",
     "output_type": "stream",
     "text": [
      "1\n",
      "2\n",
      "3\n",
      "4\n",
      "5\n",
      "6\n",
      "7\n"
     ]
    }
   ],
   "source": [
    "for i in (1, 2, 3, 4, 5, 6, 7):\n",
    "    print(i)"
   ]
  },
  {
   "cell_type": "code",
   "execution_count": 117,
   "id": "0653a5ca-27c4-4785-b13e-5f8d3f1d5192",
   "metadata": {},
   "outputs": [],
   "source": [
    "#A function which can take any no of values and return the sum\n",
    "\n",
    "def sum1(*args):\n",
    "    s = 0\n",
    "    for i in args:\n",
    "        s = s+i\n",
    "    return s"
   ]
  },
  {
   "cell_type": "code",
   "execution_count": 121,
   "id": "aa0e9fb7-2beb-4bc7-a304-d8d834251285",
   "metadata": {},
   "outputs": [
    {
     "data": {
      "text/plain": [
       "103"
      ]
     },
     "execution_count": 121,
     "metadata": {},
     "output_type": "execute_result"
    }
   ],
   "source": [
    "sum1(1, 2, 100)"
   ]
  },
  {
   "cell_type": "code",
   "execution_count": 122,
   "id": "0093a35c-7dee-4084-9e1e-64e941c6a5ae",
   "metadata": {},
   "outputs": [],
   "source": [
    "#variable arguement with default arguement\n",
    "def test(*args, a):\n",
    "    return args, a"
   ]
  },
  {
   "cell_type": "code",
   "execution_count": 125,
   "id": "f695c02c-2089-4563-8c80-966ce55dd93f",
   "metadata": {},
   "outputs": [
    {
     "data": {
      "text/plain": [
       "((1, 2, 3, 4), 100)"
      ]
     },
     "execution_count": 125,
     "metadata": {},
     "output_type": "execute_result"
    }
   ],
   "source": [
    "test(1, 2, 3, 4, a = 100)"
   ]
  },
  {
   "cell_type": "code",
   "execution_count": 126,
   "id": "4216e2c9-cf05-4989-9237-058a74084d28",
   "metadata": {},
   "outputs": [],
   "source": [
    "#variable arguement >> takes any no of argement\n",
    "#positional argement>> fixed argement"
   ]
  },
  {
   "cell_type": "code",
   "execution_count": 127,
   "id": "5e7e88bb-155a-45c8-aed7-5fe4c9992d8f",
   "metadata": {},
   "outputs": [],
   "source": [
    "#write a function can take any no of values and returns the list"
   ]
  },
  {
   "cell_type": "code",
   "execution_count": 128,
   "id": "aeb7f247-0da3-4df5-a751-134d3ff7039b",
   "metadata": {},
   "outputs": [],
   "source": [
    "def return_list(*args):\n",
    "    l = []\n",
    "    for i in args:\n",
    "        if type(i) == list:\n",
    "            l.append(i)\n",
    "    return l"
   ]
  },
  {
   "cell_type": "code",
   "execution_count": 130,
   "id": "08b086cc-f6df-4669-ae5e-8cb0e7aa77be",
   "metadata": {},
   "outputs": [
    {
     "data": {
      "text/plain": [
       "[[4, 5, [6, 7]], [1, 2, 3, 4]]"
      ]
     },
     "execution_count": 130,
     "metadata": {},
     "output_type": "execute_result"
    }
   ],
   "source": [
    "return_list(1, 2, 2.3, 5+7j, {2,3},[4, 5, [6, 7]], [1, 2, 3, 4], (2,3), True, \"Ajay\")"
   ]
  },
  {
   "cell_type": "code",
   "execution_count": 131,
   "id": "e9e3a5eb-ecbf-4c21-95e9-0f5791373ea4",
   "metadata": {},
   "outputs": [
    {
     "data": {
      "text/plain": [
       "'Ajay is working on CV.'"
      ]
     },
     "execution_count": 131,
     "metadata": {},
     "output_type": "execute_result"
    }
   ],
   "source": [
    "def team(name, project):\n",
    "    return f\"{name} is working on {project}.\"\n",
    "\n",
    "team(\"Ajay\", \"CV\")"
   ]
  },
  {
   "cell_type": "code",
   "execution_count": 132,
   "id": "5070c9a4-f11f-4241-929c-d93dde9733df",
   "metadata": {},
   "outputs": [],
   "source": [
    "#function should accept any no of arguments in form of key value pair\n",
    "#kwargs>key word argument\n",
    "def kwargs_function(**kwargs):\n",
    "    return kwargs"
   ]
  },
  {
   "cell_type": "code",
   "execution_count": 134,
   "id": "28bd7727-f1ad-4c41-8cb6-2b3536ed4d6d",
   "metadata": {},
   "outputs": [
    {
     "data": {
      "text/plain": [
       "{'a': 2, 'b': 3, 'c': [1, 2, 3], 'd': {1, 2}, 'e': (1, 2), 'f': [6, 7]}"
      ]
     },
     "execution_count": 134,
     "metadata": {},
     "output_type": "execute_result"
    }
   ],
   "source": [
    "kwargs_function(a = 2, b=3, c= [1, 2,3], d = {1, 2}, e = (1, 2), f = [6, 7])"
   ]
  },
  {
   "cell_type": "code",
   "execution_count": null,
   "id": "6b654c92-4263-4a64-97ef-a7dd69f23cea",
   "metadata": {},
   "outputs": [],
   "source": [
    "#function which takes any no of key value argument and return only list key value argement"
   ]
  },
  {
   "cell_type": "code",
   "execution_count": 135,
   "id": "acc99d9b-9040-4a06-9ee7-5e0906e9a4f9",
   "metadata": {},
   "outputs": [],
   "source": [
    "def test(**kwargs):\n",
    "    for i in kwargs.keys():\n",
    "        if type(kwargs[i]) == list:\n",
    "            return i, kwargs[i]"
   ]
  },
  {
   "cell_type": "code",
   "execution_count": 136,
   "id": "cfef8aa5-0a11-4520-853e-e54918ca2ddc",
   "metadata": {},
   "outputs": [
    {
     "data": {
      "text/plain": [
       "('c', [1, 2, 3])"
      ]
     },
     "execution_count": 136,
     "metadata": {},
     "output_type": "execute_result"
    }
   ],
   "source": [
    "test(a = 2, b=3, c= [1, 2,3], d = {1, 2}, e = (1, 2))"
   ]
  },
  {
   "cell_type": "code",
   "execution_count": 137,
   "id": "37f53b01-8617-4ae1-821d-ed6e6dd604cd",
   "metadata": {},
   "outputs": [],
   "source": [
    "#variable length argument and keyword arguement together\n",
    "\n",
    "def test1(*args, **args1):\n",
    "    return args,args1"
   ]
  },
  {
   "cell_type": "code",
   "execution_count": 140,
   "id": "53589b9b-0a5f-4eed-ac8b-b51e513aaa5c",
   "metadata": {},
   "outputs": [
    {
     "data": {
      "text/plain": [
       "((1, 2, 3, 4), {'a': 100, 'b': 50})"
      ]
     },
     "execution_count": 140,
     "metadata": {},
     "output_type": "execute_result"
    }
   ],
   "source": [
    "test1(1, 2, 3, 4, a=100, b=50)"
   ]
  },
  {
   "cell_type": "code",
   "execution_count": 142,
   "id": "3fda3c4d-de60-4acb-b14e-b0ae784a54ea",
   "metadata": {},
   "outputs": [
    {
     "data": {
      "text/plain": [
       "((), {})"
      ]
     },
     "execution_count": 142,
     "metadata": {},
     "output_type": "execute_result"
    }
   ],
   "source": [
    "test1()"
   ]
  },
  {
   "cell_type": "code",
   "execution_count": 143,
   "id": "03265af8-9880-4253-a784-b845e73322a6",
   "metadata": {},
   "outputs": [
    {
     "data": {
      "text/plain": [
       "((1, 2, 3, 4), {'a': 100, 'b': 50})"
      ]
     },
     "execution_count": 143,
     "metadata": {},
     "output_type": "execute_result"
    }
   ],
   "source": [
    "def test1(*ajay, **bijay):\n",
    "    return ajay, bijay\n",
    "\n",
    "test1(1, 2, 3, 4, a=100, b=50)"
   ]
  },
  {
   "cell_type": "code",
   "execution_count": 144,
   "id": "16e6e7fd-8722-4999-b4e4-ca13b99a678b",
   "metadata": {},
   "outputs": [],
   "source": [
    "#python namesapce\n",
    "\n",
    "def greet():\n",
    "    message = \"hello, welcome!\" #message variable is a local variable(scope is only inside function)\n",
    "    print(message)"
   ]
  },
  {
   "cell_type": "code",
   "execution_count": 145,
   "id": "a5498cca-406c-4720-ab42-8799c245e52a",
   "metadata": {},
   "outputs": [
    {
     "name": "stdout",
     "output_type": "stream",
     "text": [
      "hello, welcome!\n"
     ]
    }
   ],
   "source": [
    "greet()"
   ]
  },
  {
   "cell_type": "code",
   "execution_count": 146,
   "id": "1f180f7a-b282-4b64-bc0d-2ddde7550253",
   "metadata": {},
   "outputs": [
    {
     "ename": "NameError",
     "evalue": "name 'message' is not defined",
     "output_type": "error",
     "traceback": [
      "\u001b[0;31m---------------------------------------------------------------------------\u001b[0m",
      "\u001b[0;31mNameError\u001b[0m                                 Traceback (most recent call last)",
      "Cell \u001b[0;32mIn[146], line 1\u001b[0m\n\u001b[0;32m----> 1\u001b[0m \u001b[38;5;28mprint\u001b[39m(\u001b[43mmessage\u001b[49m)\n",
      "\u001b[0;31mNameError\u001b[0m: name 'message' is not defined"
     ]
    }
   ],
   "source": [
    "print(message)"
   ]
  },
  {
   "cell_type": "code",
   "execution_count": 149,
   "id": "d25b3daa-a5b5-4444-b9ac-bb48256794b3",
   "metadata": {},
   "outputs": [],
   "source": [
    "subpart = \" to the course\" #global variable>> can be accessed outside the function as well\n",
    "def greet():\n",
    "    message = \"hello, welcome\" + subpart\n",
    "    print(message)"
   ]
  },
  {
   "cell_type": "code",
   "execution_count": 150,
   "id": "69246836-fd13-4a58-beb2-a5098b699d39",
   "metadata": {},
   "outputs": [
    {
     "name": "stdout",
     "output_type": "stream",
     "text": [
      "hello, welcome to the course\n"
     ]
    }
   ],
   "source": [
    "greet()"
   ]
  },
  {
   "cell_type": "code",
   "execution_count": 151,
   "id": "0c65657b-54b6-446a-b029-82d72c44449f",
   "metadata": {},
   "outputs": [
    {
     "ename": "NameError",
     "evalue": "name 'message' is not defined",
     "output_type": "error",
     "traceback": [
      "\u001b[0;31m---------------------------------------------------------------------------\u001b[0m",
      "\u001b[0;31mNameError\u001b[0m                                 Traceback (most recent call last)",
      "Cell \u001b[0;32mIn[151], line 1\u001b[0m\n\u001b[0;32m----> 1\u001b[0m \u001b[38;5;28mprint\u001b[39m(\u001b[43mmessage\u001b[49m)\n",
      "\u001b[0;31mNameError\u001b[0m: name 'message' is not defined"
     ]
    }
   ],
   "source": [
    "print(message)"
   ]
  },
  {
   "cell_type": "code",
   "execution_count": 152,
   "id": "3025650f-c6e6-4c2b-9e22-a74cb3e89d83",
   "metadata": {},
   "outputs": [],
   "source": [
    "#namespace>> scope of variables\n",
    "#local variable>> a function defined inside a function should be accessed in the function only\n",
    "#global variable>> accessed any where"
   ]
  },
  {
   "cell_type": "code",
   "execution_count": 153,
   "id": "a892d219-b959-4a53-983a-21b0336f7422",
   "metadata": {},
   "outputs": [],
   "source": [
    "#function inside function\n",
    "\n",
    "\n",
    "def marks_in_subject(**kwargs):\n",
    "    marks_list = []\n",
    "    for sub, marks in kwargs.items():\n",
    "        marks_list.append(marks)\n",
    "        \n",
    "    return marks_list\n",
    "    "
   ]
  },
  {
   "cell_type": "code",
   "execution_count": 154,
   "id": "2a923c9d-845e-4589-8ef1-4c8d7c8b3252",
   "metadata": {},
   "outputs": [
    {
     "data": {
      "text/plain": [
       "[90, 20]"
      ]
     },
     "execution_count": 154,
     "metadata": {},
     "output_type": "execute_result"
    }
   ],
   "source": [
    "marks_in_subject(a = 90, b=20)"
   ]
  },
  {
   "cell_type": "code",
   "execution_count": 156,
   "id": "3e472c2c-9001-4802-ae2e-c3b657cf0b9f",
   "metadata": {},
   "outputs": [],
   "source": [
    "def marks_in_subject(**kwargs):\n",
    "    def total_marks(marks_list):\n",
    "        return sum(marks_list)\n",
    "    marks_list = []\n",
    "    for sub, marks in kwargs.items():\n",
    "        marks_list.append(marks)\n",
    "        \n",
    "    return total_marks(marks_list)"
   ]
  },
  {
   "cell_type": "code",
   "execution_count": 159,
   "id": "d41b2d83-bb1c-45da-a102-57d945cf898f",
   "metadata": {},
   "outputs": [
    {
     "data": {
      "text/plain": [
       "160"
      ]
     },
     "execution_count": 159,
     "metadata": {},
     "output_type": "execute_result"
    }
   ],
   "source": [
    "marks_in_subject(a = 90, b=40, c=30)"
   ]
  },
  {
   "cell_type": "code",
   "execution_count": 160,
   "id": "e8fb9c64-025a-4848-b7ec-54e4a4b2d324",
   "metadata": {},
   "outputs": [],
   "source": [
    "#calling function from outside\n",
    "def total_marks(marks_list):\n",
    "    return sum(marks_list)\n",
    "\n",
    "def marks_in_subject(**kwargs):\n",
    "    marks_list = []\n",
    "    for sub, marks in kwargs.items():\n",
    "        marks_list.append(marks)\n",
    "        \n",
    "    return total_marks(marks_list)"
   ]
  },
  {
   "cell_type": "code",
   "execution_count": 161,
   "id": "72e470f9-5000-4453-8934-7428ba79e402",
   "metadata": {},
   "outputs": [
    {
     "data": {
      "text/plain": [
       "260"
      ]
     },
     "execution_count": 161,
     "metadata": {},
     "output_type": "execute_result"
    }
   ],
   "source": [
    "marks_in_subject(a = 90, b=40, c=30, d=100)"
   ]
  },
  {
   "cell_type": "code",
   "execution_count": 162,
   "id": "d5059431-e637-431a-92ef-3f106a58bd7c",
   "metadata": {},
   "outputs": [],
   "source": [
    "def find_power(num, power):\n",
    "    return num*power"
   ]
  },
  {
   "cell_type": "code",
   "execution_count": 165,
   "id": "f2239ba4-ca0a-4308-9316-965cae286431",
   "metadata": {},
   "outputs": [
    {
     "data": {
      "text/plain": [
       "150"
      ]
     },
     "execution_count": 165,
     "metadata": {},
     "output_type": "execute_result"
    }
   ],
   "source": [
    "find_power(3, 50)"
   ]
  },
  {
   "cell_type": "code",
   "execution_count": null,
   "id": "b27cdf62-1059-4432-8982-c6410522ac60",
   "metadata": {},
   "outputs": [],
   "source": [
    "ef find_power(num, power):\n",
    "    \"\"\"This function returns the power of no\n",
    "    Args:\n",
    "        num(int): provide any integer as input\n",
    "        power(int): provide power as integer\n",
    "    Returns:\n",
    "        integer: power of no\n",
    "    \"\"\"\n",
    "    return num*power"
   ]
  },
  {
   "cell_type": "code",
   "execution_count": null,
   "id": "4ff408c7-f82e-465a-8594-b9c0c20bc75b",
   "metadata": {},
   "outputs": [],
   "source": []
  }
 ],
 "metadata": {
  "kernelspec": {
   "display_name": "Python 3 (ipykernel)",
   "language": "python",
   "name": "python3"
  },
  "language_info": {
   "codemirror_mode": {
    "name": "ipython",
    "version": 3
   },
   "file_extension": ".py",
   "mimetype": "text/x-python",
   "name": "python",
   "nbconvert_exporter": "python",
   "pygments_lexer": "ipython3",
   "version": "3.10.8"
  }
 },
 "nbformat": 4,
 "nbformat_minor": 5
}
