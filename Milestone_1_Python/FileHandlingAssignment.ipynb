{
 "cells": [
  {
   "cell_type": "markdown",
   "id": "8157f756",
   "metadata": {},
   "source": [
    "# Files, exceptional handling, logging and memory management Questions"
   ]
  },
  {
   "cell_type": "markdown",
   "id": "ba0240d5",
   "metadata": {},
   "source": [
    "### 🔹 **1. What is the difference between interpreted and compiled languages?**\n",
    "\n",
    "* **Compiled**: Translated to machine code before execution (e.g., C, C++).\n",
    "* **Interpreted**: Executed line by line by an interpreter (e.g., Python).\n",
    "* Python is **interpreted**, which helps with debugging but may run slower."
   ]
  },
  {
   "cell_type": "markdown",
   "id": "837b959f",
   "metadata": {},
   "source": [
    "### 🔹 **2. What is exception handling in Python?**\n",
    "\n",
    "It is a mechanism to catch and manage **runtime errors** using `try`, `except`, `finally`, and `else`."
   ]
  },
  {
   "cell_type": "markdown",
   "id": "00c68c08",
   "metadata": {},
   "source": [
    "### 🔹 **3. What is the purpose of the `finally` block in exception handling?**\n",
    "\n",
    "It always executes **regardless of whether an exception occurred**, ideal for cleanup (e.g., closing files)."
   ]
  },
  {
   "cell_type": "markdown",
   "id": "1d26a93d",
   "metadata": {},
   "source": [
    "### 🔹 **4. What is logging in Python?**\n",
    "\n",
    "A built-in module used to **track events** during program execution (e.g., errors, warnings, info). It's better than `print()` for debugging and maintenance."
   ]
  },
  {
   "cell_type": "markdown",
   "id": "7583a578",
   "metadata": {},
   "source": [
    "### 🔹 **5. What is the significance of the `__del__` method in Python?**\n",
    "\n",
    "It’s a **destructor** method called when an object is about to be deleted (garbage collected). Used for cleanup.\n"
   ]
  },
  {
   "cell_type": "markdown",
   "id": "73c9891a",
   "metadata": {},
   "source": [
    "### 🔹 **6. What is the difference between `import` and `from ... import` in Python?**\n",
    "\n",
    "* `import math`: You access functions like `math.sqrt()`.\n",
    "* `from math import sqrt`: You access it directly as `sqrt()`.\n"
   ]
  },
  {
   "cell_type": "markdown",
   "id": "b391397e",
   "metadata": {},
   "source": [
    "### 🔹 **7. How can you handle multiple exceptions in Python?**\n",
    "\n",
    "```python\n",
    "try:\n",
    "    # code\n",
    "except (TypeError, ValueError) as e:\n",
    "    print(e)\n",
    "```\n",
    "\n",
    "You can also use **multiple `except` blocks** for specific handling.\n"
   ]
  },
  {
   "cell_type": "markdown",
   "id": "d7b76115",
   "metadata": {},
   "source": [
    "### 🔹 **8. What is the purpose of the `with` statement when handling files?**\n",
    "\n",
    "Automatically **manages file resources**, ensures the file is closed even if an error occurs.\n",
    "\n",
    "```python\n",
    "with open('file.txt') as f:\n",
    "    data = f.read()\n",
    "```\n"
   ]
  },
  {
   "cell_type": "markdown",
   "id": "a0f40df7",
   "metadata": {},
   "source": [
    "### 🔹 **9. What is the difference between multithreading and multiprocessing?**\n",
    "\n",
    "* **Multithreading**: Multiple threads in the same process (shared memory, good for I/O-bound).\n",
    "* **Multiprocessing**: Multiple processes (separate memory, good for CPU-bound).\n"
   ]
  },
  {
   "cell_type": "markdown",
   "id": "6730a9d7",
   "metadata": {},
   "source": [
    "### 🔹 **10. What are the advantages of using logging in a program?**\n",
    "\n",
    "* Centralized error tracking\n",
    "* Adjustable verbosity (via logging levels)\n",
    "* Useful in production and debugging\n"
   ]
  },
  {
   "cell_type": "markdown",
   "id": "6d7956d3",
   "metadata": {},
   "source": [
    "### 🔹 **11. What is memory management in Python?**\n",
    "\n",
    "Automatic process handled by the **Python memory manager** and **garbage collector**, including allocation, deallocation, and reference counting."
   ]
  },
  {
   "cell_type": "markdown",
   "id": "f311ea99",
   "metadata": {},
   "source": [
    "### 🔹 **12. What are the basic steps involved in exception handling in Python?**\n",
    "\n",
    "1. Wrap risky code in `try`\n",
    "2. Use `except` to handle errors\n",
    "3. Use `else` to run if no error occurs\n",
    "4. Use `finally` to run regardless of error"
   ]
  },
  {
   "cell_type": "markdown",
   "id": "53a0aad7",
   "metadata": {},
   "source": [
    "### 🔹 **13. Why is memory management important in Python?**\n",
    "\n",
    "Efficient memory use avoids **memory leaks** and ensures **performance**, especially for large apps.\n"
   ]
  },
  {
   "cell_type": "markdown",
   "id": "52548ea9",
   "metadata": {},
   "source": [
    "### 🔹 **14. What is the role of `try` and `except` in exception handling?**\n",
    "\n",
    "* `try`: Block where exception might occur.\n",
    "* `except`: Block to catch and handle that exception gracefully.\n"
   ]
  },
  {
   "cell_type": "markdown",
   "id": "df25aca7",
   "metadata": {},
   "source": [
    "### 🔹 **15. How does Python's garbage collection system work?**\n",
    "\n",
    "* Uses **reference counting** and **cyclic garbage collector**.\n",
    "* Automatically frees unused objects in memory.\n"
   ]
  },
  {
   "cell_type": "markdown",
   "id": "83964276",
   "metadata": {},
   "source": [
    "### 🔹 **16. What is the purpose of the `else` block in exception handling?**\n",
    "\n",
    "Executes only if no exception occurs in the `try` block. Improves clarity.\n"
   ]
  },
  {
   "cell_type": "markdown",
   "id": "d0a9d1e5",
   "metadata": {},
   "source": [
    "### 🔹 **17. What are the common logging levels in Python?**\n",
    "\n",
    "* `DEBUG`\n",
    "* `INFO`\n",
    "* `WARNING`\n",
    "* `ERROR`\n",
    "* `CRITICAL`\n"
   ]
  },
  {
   "cell_type": "markdown",
   "id": "e34d8c71",
   "metadata": {},
   "source": [
    "### 🔹 **18. What is the difference between `os.fork()` and `multiprocessing` in Python?**\n",
    "\n",
    "* `os.fork()`: Unix-only, lower-level process creation.\n",
    "* `multiprocessing`: Cross-platform, high-level API for creating and managing processes.\n"
   ]
  },
  {
   "cell_type": "markdown",
   "id": "74533155",
   "metadata": {},
   "source": [
    "### 🔹 **19. What is the importance of closing a file in Python?**\n",
    "\n",
    "* Frees system resources.\n",
    "* Ensures data is written (flushed) to disk.\n",
    "* Avoids file corruption or locks.\n"
   ]
  },
  {
   "cell_type": "markdown",
   "id": "2857aea8",
   "metadata": {},
   "source": [
    "### 🔹 **20. What is the difference between `file.read()` and `file.readline()`?**\n",
    "\n",
    "* `read()`: Reads entire file.\n",
    "* `readline()`: Reads one line at a time.\n"
   ]
  },
  {
   "cell_type": "markdown",
   "id": "7286a9bc",
   "metadata": {},
   "source": [
    "### 🔹 **21. What is the logging module in Python used for?**\n",
    "\n",
    "To **record events** from code execution to a console or file. Crucial for debugging, monitoring, and auditing.\n"
   ]
  },
  {
   "cell_type": "markdown",
   "id": "637cd9ff",
   "metadata": {},
   "source": [
    "\n",
    "### 🔹 **22. What is the `os` module used for in file handling?**\n",
    "\n",
    "Provides functions to interact with the **operating system**, like:\n",
    "\n",
    "* `os.remove()`, `os.rename()`\n",
    "* `os.path.exists()`, `os.mkdir()`\n"
   ]
  },
  {
   "cell_type": "markdown",
   "id": "18118d18",
   "metadata": {},
   "source": [
    "### 🔹 **23. What are challenges in memory management in Python?**\n",
    "\n",
    "* **Circular references**\n",
    "* **Unintended memory retention**\n",
    "* **Memory fragmentation**\n",
    "\n",
    "Tools like `gc` module or `objgraph` help inspect memory usage.\n"
   ]
  },
  {
   "cell_type": "markdown",
   "id": "0ca96e4c",
   "metadata": {},
   "source": [
    "### 🔹 **24. How do you raise an exception manually in Python?**\n",
    "\n",
    "Use `raise`:\n",
    "\n",
    "```python\n",
    "raise ValueError(\"Invalid input\")\n",
    "```"
   ]
  },
  {
   "cell_type": "markdown",
   "id": "5c571511",
   "metadata": {},
   "source": [
    "### 🔹 **25. Why is it important to use multithreading in certain applications?**\n",
    "\n",
    "* Useful for **I/O-bound tasks** (e.g., file or network operations).\n",
    "* Improves responsiveness in GUIs or web apps.\n"
   ]
  },
  {
   "cell_type": "markdown",
   "id": "6cf6495a",
   "metadata": {},
   "source": [
    "# Practical Questions"
   ]
  },
  {
   "cell_type": "code",
   "execution_count": 2,
   "id": "572cb012",
   "metadata": {},
   "outputs": [],
   "source": [
    "# 1. How can you open a file for writing in Python and write a string to it?\n",
    "file = open('example.txt', 'w')  # Open file for writing\n",
    "file.write('Hello, World!')  # Write a string to the file\n",
    "file.close()  # Close the file to save changes"
   ]
  },
  {
   "cell_type": "code",
   "execution_count": 9,
   "id": "272bad20",
   "metadata": {},
   "outputs": [
    {
     "name": "stdout",
     "output_type": "stream",
     "text": [
      "Hello, World!\n",
      "Hello, World!\n",
      "Hello, World!\n",
      "Hello, World!\n",
      "Hello, World!\n",
      "Hello, World!\n",
      "Hello, World!\n",
      "Hello, World!\n"
     ]
    }
   ],
   "source": [
    "# 2. Write a Python program to read the contents of a file and print each line.\n",
    "file = open('example.txt', 'r')  # Open file for reading\n",
    "# file.readlines()  # Read all lines from the file\n",
    "for line in file:  # Iterate through each line\n",
    "    print(line.strip())  # Print each line without extra newline characters"
   ]
  },
  {
   "cell_type": "code",
   "execution_count": 10,
   "id": "ba7281ed",
   "metadata": {},
   "outputs": [
    {
     "name": "stdout",
     "output_type": "stream",
     "text": [
      "The file does not exist.\n",
      "File handling complete.\n"
     ]
    }
   ],
   "source": [
    "# 3. How would you handle a case where the file doesn't exist while trying to open it for reading?\n",
    "\n",
    "try:\n",
    "    file = open('test.txt', 'r')  # Attempt to open a non-existent file\n",
    "except FileNotFoundError:\n",
    "    print(\"The file does not exist.\")\n",
    "finally:\n",
    "    print(\"File handling complete.\")"
   ]
  },
  {
   "cell_type": "code",
   "execution_count": 11,
   "id": "f350b8b0",
   "metadata": {},
   "outputs": [],
   "source": [
    "# 4. Write a Python script that reads from one file and writes its content to another file.\n",
    "source_file = open('example.txt', 'r')  # Open source file for reading   \n",
    "destination_file = open('destination.txt', 'w')\n",
    "\n",
    "for line in source_file:\n",
    "    destination_file.write(line)\n",
    "\n",
    "destination_file.close()\n"
   ]
  },
  {
   "cell_type": "code",
   "execution_count": 12,
   "id": "c5e78536",
   "metadata": {},
   "outputs": [
    {
     "name": "stdout",
     "output_type": "stream",
     "text": [
      "Error: Division by zero is not allowed.\n"
     ]
    }
   ],
   "source": [
    "# 5. How would you catch and handle division by zero error in Python?\n",
    "\n",
    "try:\n",
    "    result = 10 / 0  # Attempt to divide by zero\n",
    "except ZeroDivisionError:\n",
    "    print(\"Error: Division by zero is not allowed.\")"
   ]
  },
  {
   "cell_type": "code",
   "execution_count": 29,
   "id": "ea092de7",
   "metadata": {},
   "outputs": [
    {
     "name": "stdout",
     "output_type": "stream",
     "text": [
      "Error: Division by zero is not allowed.\n"
     ]
    }
   ],
   "source": [
    "# 6. Write a Python program that logs an error message to a log file when a division by zero exception occurs.\n",
    "\n",
    "import logging\n",
    "logging.basicConfig(filename=\"test.log\", level=logging.INFO)\n",
    "\n",
    "try:\n",
    "    result = 10 / 0  # Attempt to divide by zero\n",
    "except ZeroDivisionError:\n",
    "    logging.error(\"Division by zero is not allowed.\")\n",
    "    print(\"Error: Division by zero is not allowed.\")\n",
    "finally:\n",
    "    logging.shutdown()\n"
   ]
  },
  {
   "cell_type": "code",
   "execution_count": 32,
   "id": "8a9a65ae",
   "metadata": {},
   "outputs": [],
   "source": [
    "# 7. How do you log information at different levels (INFO, ERROR, WARNING) in Python using the logging module?\n",
    "import logging\n",
    "\n",
    "for handler in logging.root.handlers[:]:\n",
    "    logging.root.removeHandler(handler)\n",
    "\n",
    "logging.basicConfig(filename=\"app.log\", level=logging.INFO)\n",
    "logging.debug(\"This is a debug message.\")\n",
    "logging.info(\"This is an info message.\")\n",
    "logging.warning(\"This is a warning message.\")\n",
    "logging.error(\"This is an error message.\")\n",
    "logging.critical(\"This is a critical message.\")\n",
    "logging.shutdown()  # Ensure all logging messages are flushed to the file\n",
    "\n"
   ]
  },
  {
   "cell_type": "code",
   "execution_count": 33,
   "id": "27038cb8",
   "metadata": {},
   "outputs": [
    {
     "name": "stdout",
     "output_type": "stream",
     "text": [
      "Error: [Errno 2] No such file or directory: 'non_existent_file.txt'\n",
      "File handling complete.\n"
     ]
    }
   ],
   "source": [
    "# 8. Write a program to handle a file opening error using exception handling.\n",
    "\n",
    "try:\n",
    "    file = open('non_existent_file.txt', 'r')  # Attempt to open a non-existent file\n",
    "except FileNotFoundError as e:\n",
    "    print(f\"Error: {e}\")\n",
    "finally:\n",
    "    print(\"File handling complete.\")"
   ]
  },
  {
   "cell_type": "code",
   "execution_count": 34,
   "id": "7a80be29",
   "metadata": {},
   "outputs": [
    {
     "name": "stdout",
     "output_type": "stream",
     "text": [
      "['Hello, World!', 'Hello, World!', 'Hello, World!', 'Hello, World!', 'Hello, World!', 'Hello, World!', 'Hello, World!', 'Hello, World!']\n"
     ]
    }
   ],
   "source": [
    "# 9. How can you read a file line by line and store its content in a list in Python?\n",
    "\n",
    "file = open('example.txt', 'r')  # Open file for reading\n",
    "lines = []  # Initialize an empty list to store lines\n",
    "\n",
    "for line in file:  # Iterate through each line\n",
    "    lines.append(line.strip())  # Append each line to the list without extra newline characters\n",
    "\n",
    "file.close()  # Close the file\n",
    "print(lines)  # Print the list containing file lines\n"
   ]
  },
  {
   "cell_type": "code",
   "execution_count": 35,
   "id": "9a2adbb1",
   "metadata": {},
   "outputs": [],
   "source": [
    "# 10. How can you append data to an existing file in Python?\n",
    "\n",
    "file = open('example.txt', 'a')  # Open file for appending\n",
    "file.write('\\nAppending new line.')  # Append a new line to the file\n",
    "file.close()  # Close the file to save changes\n",
    "\n"
   ]
  },
  {
   "cell_type": "code",
   "execution_count": 36,
   "id": "3d650ba8",
   "metadata": {},
   "outputs": [
    {
     "name": "stdout",
     "output_type": "stream",
     "text": [
      "Error: Key 'd' does not exist in the dictionary.\n",
      "Dictionary access complete.\n"
     ]
    }
   ],
   "source": [
    "# 11. Write a Python program that uses a try-except block to handle an error when attempting to access a\n",
    "# dictionary key that doesn't exist.\n",
    "\n",
    "my_dict = {'a': 1, 'b': 2, 'c': 3}  # Sample dictionary\n",
    "try:\n",
    "    value = my_dict['d']  # Attempt to access a non-existent key    \n",
    "except KeyError as e:\n",
    "    print(f\"Error: Key {e} does not exist in the dictionary.\")\n",
    "finally:\n",
    "    print(\"Dictionary access complete.\")\n"
   ]
  },
  {
   "cell_type": "code",
   "execution_count": 38,
   "id": "269e25e8",
   "metadata": {},
   "outputs": [
    {
     "name": "stdout",
     "output_type": "stream",
     "text": [
      "ValueError: invalid literal for int() with base 10: ''. Please enter a valid integer.\n"
     ]
    }
   ],
   "source": [
    "# 12.  Write a program that demonstrates using multiple except blocks to handle different types of exceptions.\n",
    "\n",
    "try:\n",
    "    num = int(input(\"Enter a number: \"))  # Attempt to convert input to an integer\n",
    "    result = 10 / num  # Attempt to divide by the input number\n",
    "except ValueError as ve:\n",
    "    print(f\"ValueError: {ve}. Please enter a valid integer.\")\n",
    "except ZeroDivisionError as zde:\n",
    "    print(f\"ZeroDivisionError: {zde}. Division by zero is not allowed.\")\n",
    "except Exception as e:\n",
    "    print(f\"An unexpected error occurred: {e}.\")\n",
    "    \n"
   ]
  },
  {
   "cell_type": "code",
   "execution_count": 39,
   "id": "121883dd",
   "metadata": {},
   "outputs": [
    {
     "name": "stdout",
     "output_type": "stream",
     "text": [
      "Hello, World!\n",
      "Hello, World!\n",
      "Hello, World!\n",
      "Hello, World!\n",
      "Hello, World!\n",
      "Hello, World!\n",
      "Hello, World!\n",
      "Hello, World!\n",
      "\n",
      "Appending new line.\n"
     ]
    }
   ],
   "source": [
    "# 13. How would you check if a file exists before attempting to read it in Python?\n",
    "\n",
    "import os\n",
    "file_path = 'example.txt'  # Specify the file path\n",
    "if os.path.exists(file_path):  # Check if the file exists\n",
    "    with open(file_path, 'r') as file:  # Open the file for reading\n",
    "        content = file.read()  # Read the content of the file\n",
    "        print(content)  # Print the content\n"
   ]
  },
  {
   "cell_type": "code",
   "execution_count": 40,
   "id": "9287c99b",
   "metadata": {},
   "outputs": [],
   "source": [
    "# 14. Write a program that uses the logging module to log both informational and error messages.\n",
    "\n",
    "import logging\n",
    "logging.basicConfig(filename='app.log', level=logging.INFO)\n",
    "logging.info(\"This is an informational message.\")\n",
    "try:\n",
    "    result = 10 / 0  # Attempt to divide by zero\n",
    "except ZeroDivisionError as e:\n",
    "    logging.error(f\"Error occurred: {e}\")\n",
    "finally:\n",
    "    logging.info(\"Program execution completed.\")\n",
    "    logging.shutdown()\n",
    "\n",
    "    \n"
   ]
  },
  {
   "cell_type": "code",
   "execution_count": 41,
   "id": "504e721d",
   "metadata": {},
   "outputs": [
    {
     "name": "stdout",
     "output_type": "stream",
     "text": [
      "Hello, World!\n",
      "Hello, World!\n",
      "Hello, World!\n",
      "Hello, World!\n",
      "Hello, World!\n",
      "Hello, World!\n",
      "Hello, World!\n",
      "Hello, World!\n",
      "\n",
      "Appending new line.\n"
     ]
    }
   ],
   "source": [
    "# 15. Write a Python program that prints the content of a file and handles the case when the file is empty.\n",
    "\n",
    "file_path = 'example.txt'  # Specify the file path\n",
    "try:\n",
    "    with open(file_path, 'r') as file:  # Open the file for reading\n",
    "        content = file.read()  # Read the content of the file\n",
    "        if not content:  # Check if the content is empty\n",
    "            print(\"The file is empty.\")\n",
    "        else:\n",
    "            print(content)  # Print the content of the file\n",
    "except FileNotFoundError:\n",
    "    print(f\"Error: The file '{file_path}' does not exist.\")\n",
    "    \n"
   ]
  },
  {
   "cell_type": "code",
   "execution_count": null,
   "id": "ee6b6359",
   "metadata": {},
   "outputs": [
    {
     "name": "stdout",
     "output_type": "stream",
     "text": [
      "ERROR: Could not find file C:\\Users\\prami\\AppData\\Local\\Temp\\ipykernel_33252\\3540371864.py\n",
      "Memory profiling complete.\n"
     ]
    }
   ],
   "source": [
    "# 16. Demonstrate how to use memory profiling to check the memory usage of a small program.\n",
    "\n",
    "import memory_profiler\n",
    "@memory_profiler.profile\n",
    "def memory_intensive_function():\n",
    "    a = [i for i in range(100000)]\n",
    "    b = [i * 2 for i in a]\n",
    "    return b\n",
    "\n",
    "memory_intensive_function()  # Call the function to profile its memory usage\n",
    "print(\"Memory profiling complete.\")"
   ]
  },
  {
   "cell_type": "code",
   "execution_count": null,
   "id": "fa49dc6a",
   "metadata": {},
   "outputs": [],
   "source": [
    "# 17. Write a Python program to create and write a list of numbers to a file, one number per line.\n",
    "numbers = [1, 2, 3, 4, 5]  # Sample list of numbers\n",
    "with open('numbers.txt', 'w') as file:  # Open file for writing\n",
    "    for number in numbers:  # Iterate through each number\n",
    "        file.write(f\"{number}\\n\")  # Write each number to the file on a new line\n"
   ]
  },
  {
   "cell_type": "code",
   "execution_count": 48,
   "id": "273ef3b6",
   "metadata": {},
   "outputs": [],
   "source": [
    "# 18.  How would you implement a basic logging setup that logs to a file with rotation after 1MB?\n",
    "\n",
    "import logging\n",
    "from logging.handlers import RotatingFileHandler\n",
    "# Set up a rotating file handler that rotates the log file after it reaches 1MB\n",
    "handler = RotatingFileHandler('rotating.log', maxBytes=1e6, backupCount=5)  # 1MB size limit\n",
    "handler.setLevel(logging.INFO)  # Set the logging level\n",
    "formatter = logging.Formatter('%(asctime)s - %(levelname)s - %(message)s')  # Define the log format\n",
    "handler.setFormatter(formatter)  # Set the formatter for the handler\n",
    "logger = logging.getLogger('RotatingLogger')  # Create a logger\n",
    "logger.setLevel(logging.INFO)  # Set the logging level for the logger\n",
    "logger.addHandler(handler)  # Add the handler to the logger\n",
    "# Log some messages to demonstrate the rotation\n",
    "for i in range(1000):\n",
    "    logger.info(f\"Log message {i}\")  # Log messages to the file\n",
    "    \n"
   ]
  },
  {
   "cell_type": "code",
   "execution_count": 49,
   "id": "704135dd",
   "metadata": {},
   "outputs": [
    {
     "name": "stdout",
     "output_type": "stream",
     "text": [
      "IndexError: list index out of range. The list index is out of range.\n",
      "KeyError: 'c'. The key does not exist in the dictionary.\n",
      "Error handling complete for both IndexError and KeyError.\n"
     ]
    }
   ],
   "source": [
    "# 19. Write a program that handles both IndexError and KeyError using a try-except block.\n",
    "my_list = [1, 2, 3]  # Sample list\n",
    "my_dict = {'a': 1, 'b': 2}  # Sample dictionary\n",
    "try:\n",
    "    print(my_list[5])  # Attempt to access an index that doesn't exist\n",
    "except IndexError as e:\n",
    "    print(f\"IndexError: {e}. The list index is out of range.\")\n",
    "try:\n",
    "    print(my_dict['c'])  # Attempt to access a key that doesn't exist\n",
    "\n",
    "except KeyError as e:   \n",
    "    print(f\"KeyError: {e}. The key does not exist in the dictionary.\")\n",
    "finally:\n",
    "    print(\"Error handling complete for both IndexError and KeyError.\")\n",
    "    \n"
   ]
  },
  {
   "cell_type": "code",
   "execution_count": 50,
   "id": "f3bccd07",
   "metadata": {},
   "outputs": [
    {
     "name": "stdout",
     "output_type": "stream",
     "text": [
      "Hello, World!\n",
      "Hello, World!\n",
      "Hello, World!\n",
      "Hello, World!\n",
      "Hello, World!\n",
      "Hello, World!\n",
      "Hello, World!\n",
      "Hello, World!\n",
      "\n",
      "Appending new line.\n"
     ]
    }
   ],
   "source": [
    "# 20. How would you open a file and read its contents using a context manager in Python?\n",
    "file_path = 'example.txt'  # Specify the file path\n",
    "with open(file_path, 'r') as file:  # Open the file using a context manager\n",
    "    content = file.read()  # Read the content of the file\n",
    "    print(content)  # Print the content of the file\n"
   ]
  },
  {
   "cell_type": "code",
   "execution_count": 51,
   "id": "44fb19d2",
   "metadata": {},
   "outputs": [
    {
     "name": "stdout",
     "output_type": "stream",
     "text": [
      "The word 'Hello' occurs 8 times in the file.\n"
     ]
    }
   ],
   "source": [
    "# 21. Write a Python program that reads a file and prints the number of occurrences of a specific word.\n",
    "def count_word_in_file(file_path, word):\n",
    "    try:\n",
    "        with open(file_path, 'r') as file:  # Open the file for reading\n",
    "            content = file.read()  # Read the content of the file\n",
    "            word_count = content.lower().count(word.lower())  # Count occurrences of the word (case-insensitive)\n",
    "            print(f\"The word '{word}' occurs {word_count} times in the file.\")\n",
    "    except FileNotFoundError:\n",
    "        print(f\"Error: The file '{file_path}' does not exist.\")\n",
    "count_word_in_file('example.txt', 'Hello')  # Call the function with the file path and word to count\n",
    "\n"
   ]
  },
  {
   "cell_type": "code",
   "execution_count": 52,
   "id": "4cfca4b0",
   "metadata": {},
   "outputs": [
    {
     "name": "stdout",
     "output_type": "stream",
     "text": [
      "Hello, World!\n",
      "Hello, World!\n",
      "Hello, World!\n",
      "Hello, World!\n",
      "Hello, World!\n",
      "Hello, World!\n",
      "Hello, World!\n",
      "Hello, World!\n",
      "\n",
      "Appending new line.\n"
     ]
    }
   ],
   "source": [
    "# 22. How can you check if a file is empty before attempting to read its contents?\n",
    "import os\n",
    "def is_file_empty(file_path):\n",
    "    return os.path.getsize(file_path) == 0  # Check if the file size is zero\n",
    "file_path = 'example.txt'  # Specify the file path\n",
    "if is_file_empty(file_path):  # Check if the file is empty\n",
    "    print(f\"The file '{file_path}' is empty.\")\n",
    "else:\n",
    "    with open(file_path, 'r') as file:  # Open the file for reading\n",
    "        content = file.read()\n",
    "        print(content)\n"
   ]
  },
  {
   "cell_type": "code",
   "execution_count": 53,
   "id": "7028ed24",
   "metadata": {},
   "outputs": [
    {
     "name": "stdout",
     "output_type": "stream",
     "text": [
      "Error: [Errno 2] No such file or directory: 'non_existent_file.txt'\n"
     ]
    }
   ],
   "source": [
    "# 23. Write a Python program that writes to a log file when an error occurs during file handling.\n",
    "import logging\n",
    "logging.basicConfig(filename='file_error.log', level=logging.ERROR)\n",
    "def read_file(file_path):\n",
    "    try:\n",
    "        with open(file_path, 'r') as file:  # Attempt to open the file for reading\n",
    "            content = file.read()  # Read the content of the file\n",
    "            print(content)  # Print the content of the file\n",
    "    except FileNotFoundError as e:\n",
    "        logging.error(f\"File not found: {e}\")  # Log the error if the file does not exist\n",
    "        print(f\"Error: {e}\")\n",
    "read_file('non_existent_file.txt')  # Call the function with a non-existent file path"
   ]
  },
  {
   "cell_type": "code",
   "execution_count": null,
   "id": "f84c0865",
   "metadata": {},
   "outputs": [],
   "source": []
  }
 ],
 "metadata": {
  "kernelspec": {
   "display_name": "Python 3",
   "language": "python",
   "name": "python3"
  },
  "language_info": {
   "codemirror_mode": {
    "name": "ipython",
    "version": 3
   },
   "file_extension": ".py",
   "mimetype": "text/x-python",
   "name": "python",
   "nbconvert_exporter": "python",
   "pygments_lexer": "ipython3",
   "version": "3.13.3"
  }
 },
 "nbformat": 4,
 "nbformat_minor": 5
}
