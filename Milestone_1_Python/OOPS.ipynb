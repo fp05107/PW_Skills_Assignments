{
 "cells": [
  {
   "cell_type": "markdown",
   "id": "11514391",
   "metadata": {},
   "source": [
    "# Python OOPs Questions"
   ]
  },
  {
   "cell_type": "markdown",
   "id": "fbbb1fbc",
   "metadata": {},
   "source": [
    "## 1. What is Object-Oriented Programming (OOP) ?\n",
    "- OOP is a programming paradigm centered around objects, which combine data (attributes) and behavior (methods). It helps design scalable and reusable code using concepts like encapsulation, inheritance, and polymorphism.\n"
   ]
  },
  {
   "cell_type": "markdown",
   "id": "d153bd4b",
   "metadata": {},
   "source": [
    "## 2. What is a class in OOP?\n",
    "- A class is a blueprint for creating objects. It defines attributes and methods that its instances (objects) will have.\n",
    "- class Car:\n",
    "    def __init__(self, brand):\n",
    "        self.brand = brand"
   ]
  },
  {
   "cell_type": "markdown",
   "id": "35f77f38",
   "metadata": {},
   "source": [
    "## 3. What is an object in OOP?\n",
    "- An object is an instance of a class. It holds real data and can call methods defined in its class.\n",
    "- my_car = Car(\"Toyota\")  # Object\n"
   ]
  },
  {
   "cell_type": "markdown",
   "id": "f4e10bf1",
   "metadata": {},
   "source": []
  },
  {
   "cell_type": "code",
   "execution_count": null,
   "id": "faa827b7",
   "metadata": {
    "vscode": {
     "languageId": "plaintext"
    }
   },
   "outputs": [],
   "source": []
  }
 ],
 "metadata": {
  "language_info": {
   "name": "python"
  }
 },
 "nbformat": 4,
 "nbformat_minor": 5
}
