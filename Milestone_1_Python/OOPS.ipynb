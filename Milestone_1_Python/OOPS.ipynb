{
 "cells": [
  {
   "cell_type": "markdown",
   "id": "11514391",
   "metadata": {},
   "source": [
    "# Python OOPs Questions"
   ]
  },
  {
   "cell_type": "markdown",
   "id": "fbbb1fbc",
   "metadata": {},
   "source": [
    "## 1. What is Object-Oriented Programming (OOP) ?\n",
    "- OOP is a programming paradigm centered around objects, which combine data (attributes) and behavior (methods). It helps design scalable and reusable code using concepts like encapsulation, inheritance, and polymorphism.\n"
   ]
  },
  {
   "cell_type": "markdown",
   "id": "d153bd4b",
   "metadata": {},
   "source": [
    "## 2. What is a class in OOP?\n",
    "- A class is a blueprint for creating objects. It defines attributes and methods that its instances (objects) will have.\n",
    "- class Car:\n",
    "    def __init__(self, brand):\n",
    "        self.brand = brand"
   ]
  },
  {
   "cell_type": "markdown",
   "id": "35f77f38",
   "metadata": {},
   "source": [
    "## 3. What is an object in OOP?\n",
    "- An object is an instance of a class. It holds real data and can call methods defined in its class.\n",
    "- my_car = Car(\"Toyota\")  # Object\n"
   ]
  },
  {
   "cell_type": "markdown",
   "id": "faa827b7",
   "metadata": {
    "vscode": {
     "languageId": "plaintext"
    }
   },
   "source": [
    "## 4. Difference between Abstraction and Encapsulation?\n",
    "- Abstraction: Hides implementation details, showing only necessary features (like using a method without knowing how it works).\n",
    "\n",
    "- Encapsulation: Bundles data and methods together and restricts access to some parts using access modifiers (like _protected or __private)."
   ]
  },
  {
   "cell_type": "markdown",
   "id": "31040535",
   "metadata": {},
   "source": [
    "## 5. What are dunder methods in Python?\n",
    "- Dunder (double underscore) methods are special methods that Python calls implicitly, like __init__, __str__, __len__, etc.\n",
    "- class Person:\n",
    "    def __str__(self):\n",
    "        return \"Person instance\"\n",
    "\n"
   ]
  },
  {
   "cell_type": "markdown",
   "id": "cf34c4c7",
   "metadata": {},
   "source": [
    "## 6. Explain the concept of inheritance in OOP\n",
    "- Inheritance allows one class (child) to inherit properties and methods from another class (parent), promoting code reuse.\n",
    "- class Dog(Animal):\n",
    "    def bark(self):\n",
    "        print(\"Woof!\")"
   ]
  },
  {
   "cell_type": "markdown",
   "id": "f1ede7f8",
   "metadata": {},
   "source": [
    "## 7. What is polymorphism in OOP?\n",
    "- Polymorphism allows objects of different classes to be treated the same way if they implement the same interface/methods.\n",
    "- def speak(animal):\n",
    "    animal.sound()\n"
   ]
  },
  {
   "cell_type": "markdown",
   "id": "3bf9c429",
   "metadata": {},
   "source": [
    "## 8. How is encapsulation achieved in Python?\n",
    "- By using private (__var) and protected (_var) variables and public methods to access or modify them.\n",
    "- class Account:\n",
    "    def __init__(self):\n",
    "        self.__balance = 0\n"
   ]
  },
  {
   "cell_type": "markdown",
   "id": "c2766475",
   "metadata": {},
   "source": [
    "## 9. What is a constructor in Python?\n",
    "\n",
    "- A constructor is a special method named __init__() that is automatically called when a new object is created.\n",
    "- class Person:\n",
    "    def __init__(self, name):\n",
    "        self.name = name"
   ]
  },
  {
   "cell_type": "markdown",
   "id": "9321ac7f",
   "metadata": {},
   "source": [
    "## 10. What are class and static methods in Python?\n",
    "- @classmethod: Operates on class-level data; receives cls as the first argument.\n",
    "\n",
    "- @staticmethod: Doesn’t take self or cls; behaves like a normal function inside a class."
   ]
  },
  {
   "cell_type": "markdown",
   "id": "5c17f2d6",
   "metadata": {},
   "source": [
    "## 11. What is method overloading in Python?\n",
    "- Python doesn't support true method overloading. You simulate it using default arguments or *args, **kwargs."
   ]
  },
  {
   "cell_type": "markdown",
   "id": "b4da1ade",
   "metadata": {},
   "source": [
    "## 12. What is method overriding in OOP?\n",
    "\n",
    "- Overriding means redefining a parent class method in a child class.\n",
    "- class Animal:\n",
    "    def speak(self): print(\"Animal sound\")\n",
    "\n",
    "class Dog(Animal):\n",
    "    def speak(self): print(\"Bark\")\n",
    "\n"
   ]
  },
  {
   "cell_type": "markdown",
   "id": "8700ea6d",
   "metadata": {},
   "source": [
    "## 13. What is a property decorator in Python?\n",
    "\n",
    "- @property turns a method into a getter, making it accessible like an attribute.\n",
    "- class Circle:\n",
    "    @property\n",
    "    def area(self):\n",
    "        return 3.14 * self.radius**2\n",
    "\n"
   ]
  },
  {
   "cell_type": "markdown",
   "id": "a8087fa5",
   "metadata": {},
   "source": [
    "## 14. Why is polymorphism important in OOP?\n",
    "- It enables interchangeability and code flexibility, making it easier to write generic code that works with many object types."
   ]
  },
  {
   "cell_type": "markdown",
   "id": "7bbae092",
   "metadata": {},
   "source": [
    "## 15. What is an abstract class in Python?\n",
    "\n",
    "- An abstract class (via abc module) cannot be instantiated directly and must have at least one @abstractmethod.\n",
    "- from abc import ABC, abstractmethod\n",
    "\n",
    "class Shape(ABC):\n",
    "    @abstractmethod\n",
    "    def draw(self):\n",
    "        pass\n"
   ]
  },
  {
   "cell_type": "markdown",
   "id": "29ef89f4",
   "metadata": {},
   "source": [
    "## 16. Advantages of OOP?\n",
    "\n",
    "- Modularity\n",
    "- Reusability\n",
    "- Scalability\n",
    "- Maintainability\n",
    "- Encapsulation"
   ]
  },
  {
   "cell_type": "markdown",
   "id": "2e85255a",
   "metadata": {},
   "source": [
    "# 17. Difference between a class variable and an instance variable?\n",
    "\n",
    "- Class Variable: Shared by all instances.\n",
    "- Instance Variable: Unique to each object.\n",
    "- class Dog:\n",
    "    species = \"Canine\"  # class variable\n",
    "    def __init__(self, name): self.name = name  # instance variable\n"
   ]
  },
  {
   "cell_type": "markdown",
   "id": "85a3f90f",
   "metadata": {},
   "source": [
    "## 18. What is multiple inheritance in Python?\n",
    "\n",
    "- A class can inherit from multiple parent classes.\n",
    "- class C(A, B): pass\n",
    "\n"
   ]
  },
  {
   "cell_type": "markdown",
   "id": "ee38e64a",
   "metadata": {},
   "source": [
    "## 19. Purpose of __str__ and __repr__ methods in Python?\n",
    "\n",
    "- __str__: For end-user readable representation.\n",
    "- __repr__: For developers, should be unambiguous and used in debugging."
   ]
  },
  {
   "cell_type": "markdown",
   "id": "2e0528bc",
   "metadata": {},
   "source": [
    "## 20. What is the significance of super() in Python?\n",
    "\n",
    "- super() allows access to methods of a superclass in a subclass, useful in multiple inheritance.\n",
    "- super().__init__()"
   ]
  },
  {
   "cell_type": "markdown",
   "id": "46dbc21c",
   "metadata": {},
   "source": [
    "## 21. What is the significance of the __del__ method in Python?\n",
    "\n",
    "- It is the destructor method, called when an object is deleted. Use it with caution to release resources."
   ]
  },
  {
   "cell_type": "markdown",
   "id": "eb577bfb",
   "metadata": {},
   "source": [
    "## 22. Difference between @staticmethod and @classmethod in Python?\n",
    "\n",
    "- @staticmethod: No access to class or instance (no self or cls)\n",
    "- @classmethod: Has access to class but not instance (uses cls)"
   ]
  },
  {
   "cell_type": "markdown",
   "id": "d5800dce",
   "metadata": {},
   "source": [
    "## 23. How does polymorphism work in Python with inheritance?\n",
    "\n",
    "- Subclass objects can override methods, and Python allows calling overridden methods via a base class reference."
   ]
  },
  {
   "cell_type": "markdown",
   "id": "d3026424",
   "metadata": {},
   "source": [
    "## 24. What is method chaining in Python OOP?\n",
    "\n",
    "- Returning self from methods allows chaining calls.\n",
    "- class Builder:\n",
    "    def set_name(self, name): self.name = name; return self\n"
   ]
  },
  {
   "cell_type": "markdown",
   "id": "a05baa1e",
   "metadata": {},
   "source": [
    "## 25. What is the purpose of the __call__ method in Python?\n",
    "\n",
    "- It allows an instance of a class to be called like a function.\n",
    "- class Greeter:\n",
    "    def __call__(self): print(\"Hello!\")\n"
   ]
  },
  {
   "cell_type": "markdown",
   "id": "626d38fd",
   "metadata": {},
   "source": [
    "# Practical Questions"
   ]
  },
  {
   "cell_type": "markdown",
   "id": "a444b5d0",
   "metadata": {},
   "source": []
  }
 ],
 "metadata": {
  "language_info": {
   "name": "python"
  }
 },
 "nbformat": 4,
 "nbformat_minor": 5
}
