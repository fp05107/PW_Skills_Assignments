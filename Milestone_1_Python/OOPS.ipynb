{
 "cells": [
  {
   "cell_type": "markdown",
   "id": "11514391",
   "metadata": {},
   "source": [
    "# Python OOPs Questions"
   ]
  },
  {
   "cell_type": "markdown",
   "id": "fbbb1fbc",
   "metadata": {},
   "source": [
    "## 1. What is Object-Oriented Programming (OOP) ?\n",
    "- OOP is a programming paradigm centered around objects, which combine data (attributes) and behavior (methods). It helps design scalable and reusable code using concepts like encapsulation, inheritance, and polymorphism.\n"
   ]
  },
  {
   "cell_type": "markdown",
   "id": "d153bd4b",
   "metadata": {},
   "source": [
    "## 2. What is a class in OOP?\n",
    "- A class is a blueprint for creating objects. It defines attributes and methods that its instances (objects) will have.\n",
    "- class Car:\n",
    "    def __init__(self, brand):\n",
    "        self.brand = brand"
   ]
  },
  {
   "cell_type": "markdown",
   "id": "35f77f38",
   "metadata": {},
   "source": [
    "## 3. What is an object in OOP?\n",
    "- An object is an instance of a class. It holds real data and can call methods defined in its class.\n",
    "- my_car = Car(\"Toyota\")  # Object\n"
   ]
  },
  {
   "cell_type": "markdown",
   "id": "faa827b7",
   "metadata": {
    "vscode": {
     "languageId": "plaintext"
    }
   },
   "source": [
    "## 4. Difference between Abstraction and Encapsulation?\n",
    "- Abstraction: Hides implementation details, showing only necessary features (like using a method without knowing how it works).\n",
    "\n",
    "- Encapsulation: Bundles data and methods together and restricts access to some parts using access modifiers (like _protected or __private)."
   ]
  },
  {
   "cell_type": "markdown",
   "id": "31040535",
   "metadata": {},
   "source": [
    "## 5. What are dunder methods in Python?\n",
    "- Dunder (double underscore) methods are special methods that Python calls implicitly, like __init__, __str__, __len__, etc.\n",
    "- class Person:\n",
    "    def __str__(self):\n",
    "        return \"Person instance\"\n",
    "\n"
   ]
  },
  {
   "cell_type": "markdown",
   "id": "cf34c4c7",
   "metadata": {},
   "source": [
    "## 6. Explain the concept of inheritance in OOP\n",
    "- Inheritance allows one class (child) to inherit properties and methods from another class (parent), promoting code reuse.\n",
    "- class Dog(Animal):\n",
    "    def bark(self):\n",
    "        print(\"Woof!\")"
   ]
  },
  {
   "cell_type": "markdown",
   "id": "f1ede7f8",
   "metadata": {},
   "source": [
    "## 7. What is polymorphism in OOP?\n",
    "- Polymorphism allows objects of different classes to be treated the same way if they implement the same interface/methods.\n",
    "- def speak(animal):\n",
    "    animal.sound()\n"
   ]
  },
  {
   "cell_type": "markdown",
   "id": "3bf9c429",
   "metadata": {},
   "source": [
    "## 8. How is encapsulation achieved in Python?\n",
    "- By using private (__var) and protected (_var) variables and public methods to access or modify them.\n",
    "- class Account:\n",
    "    def __init__(self):\n",
    "        self.__balance = 0\n"
   ]
  },
  {
   "cell_type": "markdown",
   "id": "c2766475",
   "metadata": {},
   "source": [
    "## 9. What is a constructor in Python?\n",
    "\n",
    "- A constructor is a special method named __init__() that is automatically called when a new object is created.\n",
    "- class Person:\n",
    "    def __init__(self, name):\n",
    "        self.name = name"
   ]
  },
  {
   "cell_type": "markdown",
   "id": "9321ac7f",
   "metadata": {},
   "source": [
    "## 10. What are class and static methods in Python?\n",
    "- @classmethod: Operates on class-level data; receives cls as the first argument.\n",
    "\n",
    "- @staticmethod: Doesn’t take self or cls; behaves like a normal function inside a class."
   ]
  },
  {
   "cell_type": "markdown",
   "id": "5c17f2d6",
   "metadata": {},
   "source": [
    "## 11. What is method overloading in Python?\n",
    "- Python doesn't support true method overloading. You simulate it using default arguments or *args, **kwargs."
   ]
  },
  {
   "cell_type": "markdown",
   "id": "b4da1ade",
   "metadata": {},
   "source": [
    "## 12. What is method overriding in OOP?\n",
    "\n",
    "- Overriding means redefining a parent class method in a child class.\n",
    "- class Animal:\n",
    "    def speak(self): print(\"Animal sound\")\n",
    "\n",
    "class Dog(Animal):\n",
    "    def speak(self): print(\"Bark\")\n",
    "\n"
   ]
  },
  {
   "cell_type": "markdown",
   "id": "8700ea6d",
   "metadata": {},
   "source": [
    "## 13. What is a property decorator in Python?\n",
    "\n",
    "- @property turns a method into a getter, making it accessible like an attribute.\n",
    "- class Circle:\n",
    "    @property\n",
    "    def area(self):\n",
    "        return 3.14 * self.radius**2\n",
    "\n"
   ]
  },
  {
   "cell_type": "markdown",
   "id": "a8087fa5",
   "metadata": {},
   "source": [
    "## 14. Why is polymorphism important in OOP?\n",
    "- It enables interchangeability and code flexibility, making it easier to write generic code that works with many object types."
   ]
  },
  {
   "cell_type": "markdown",
   "id": "7bbae092",
   "metadata": {},
   "source": [
    "## 15. What is an abstract class in Python?\n",
    "\n",
    "- An abstract class (via abc module) cannot be instantiated directly and must have at least one @abstractmethod.\n",
    "- from abc import ABC, abstractmethod\n",
    "\n",
    "class Shape(ABC):\n",
    "    @abstractmethod\n",
    "    def draw(self):\n",
    "        pass\n"
   ]
  },
  {
   "cell_type": "markdown",
   "id": "29ef89f4",
   "metadata": {},
   "source": [
    "## 16. Advantages of OOP?\n",
    "\n",
    "- Modularity\n",
    "- Reusability\n",
    "- Scalability\n",
    "- Maintainability\n",
    "- Encapsulation"
   ]
  },
  {
   "cell_type": "markdown",
   "id": "2e85255a",
   "metadata": {},
   "source": [
    "# 17. Difference between a class variable and an instance variable?\n",
    "\n",
    "- Class Variable: Shared by all instances.\n",
    "- Instance Variable: Unique to each object.\n",
    "- class Dog:\n",
    "    species = \"Canine\"  # class variable\n",
    "    def __init__(self, name): self.name = name  # instance variable\n"
   ]
  },
  {
   "cell_type": "markdown",
   "id": "85a3f90f",
   "metadata": {},
   "source": [
    "## 18. What is multiple inheritance in Python?\n",
    "\n",
    "- A class can inherit from multiple parent classes.\n",
    "- class C(A, B): pass\n",
    "\n"
   ]
  },
  {
   "cell_type": "markdown",
   "id": "ee38e64a",
   "metadata": {},
   "source": [
    "## 19. Purpose of __str__ and __repr__ methods in Python?\n",
    "\n",
    "- __str__: For end-user readable representation.\n",
    "- __repr__: For developers, should be unambiguous and used in debugging."
   ]
  },
  {
   "cell_type": "markdown",
   "id": "2e0528bc",
   "metadata": {},
   "source": [
    "## 20. What is the significance of super() in Python?\n",
    "\n",
    "- super() allows access to methods of a superclass in a subclass, useful in multiple inheritance.\n",
    "- super().__init__()"
   ]
  },
  {
   "cell_type": "markdown",
   "id": "46dbc21c",
   "metadata": {},
   "source": [
    "## 21. What is the significance of the __del__ method in Python?\n",
    "\n",
    "- It is the destructor method, called when an object is deleted. Use it with caution to release resources."
   ]
  },
  {
   "cell_type": "markdown",
   "id": "eb577bfb",
   "metadata": {},
   "source": [
    "## 22. Difference between @staticmethod and @classmethod in Python?\n",
    "\n",
    "- @staticmethod: No access to class or instance (no self or cls)\n",
    "- @classmethod: Has access to class but not instance (uses cls)"
   ]
  },
  {
   "cell_type": "markdown",
   "id": "d5800dce",
   "metadata": {},
   "source": [
    "## 23. How does polymorphism work in Python with inheritance?\n",
    "\n",
    "- Subclass objects can override methods, and Python allows calling overridden methods via a base class reference."
   ]
  },
  {
   "cell_type": "markdown",
   "id": "d3026424",
   "metadata": {},
   "source": [
    "## 24. What is method chaining in Python OOP?\n",
    "\n",
    "- Returning self from methods allows chaining calls.\n",
    "- class Builder:\n",
    "    def set_name(self, name): self.name = name; return self\n"
   ]
  },
  {
   "cell_type": "markdown",
   "id": "a05baa1e",
   "metadata": {},
   "source": [
    "## 25. What is the purpose of the __call__ method in Python?\n",
    "\n",
    "- It allows an instance of a class to be called like a function.\n",
    "- class Greeter:\n",
    "    def __call__(self): print(\"Hello!\")\n"
   ]
  },
  {
   "cell_type": "markdown",
   "id": "626d38fd",
   "metadata": {},
   "source": [
    "# Practical Questions"
   ]
  },
  {
   "cell_type": "code",
   "execution_count": 7,
   "id": "a444b5d0",
   "metadata": {},
   "outputs": [
    {
     "name": "stdout",
     "output_type": "stream",
     "text": [
      "Bark!\n"
     ]
    }
   ],
   "source": [
    "# 1. Create a parent class Animal with a method speak() that prints a generic message. Create a child class Dog that overrides the speak() method to print \"Bark!\".\n",
    "\n",
    "class Animal:\n",
    "    def speak(self):\n",
    "        print(\"Animal is speaking\")\n",
    "\n",
    "class Dog(Animal):\n",
    "    def speak(self):\n",
    "        print(\"Bark!\")\n",
    "\n",
    "\n",
    "dog = Dog()\n",
    "dog.speak()"
   ]
  },
  {
   "cell_type": "code",
   "execution_count": null,
   "id": "bf8df125",
   "metadata": {},
   "outputs": [
    {
     "name": "stdout",
     "output_type": "stream",
     "text": [
      "Area of Circle: 78.53981633974483\n",
      "Area of Rectangle: 24\n"
     ]
    }
   ],
   "source": [
    "#2.  Write a program to create an abstract class Shape with a method area(). Derive classes Circle and Rectangle\n",
    "# from it and implement the area() method in both.\n",
    "\n",
    "from abc import ABC, abstractmethod\n",
    "import math\n",
    "\n",
    "# Abstract base class\n",
    "class Shape(ABC):\n",
    "    @abstractmethod\n",
    "    def area(self):\n",
    "        pass\n",
    "\n",
    "# Derived class for Circle\n",
    "class Circle(Shape):\n",
    "    def __init__(self, radius):\n",
    "        self.radius = radius\n",
    "\n",
    "    def area(self):\n",
    "        return math.pi * self.radius ** 2\n",
    "\n",
    "# Derived class for Rectangle\n",
    "class Rectangle(Shape):\n",
    "    def __init__(self, width, height):\n",
    "        self.width = width\n",
    "        self.height = height\n",
    "\n",
    "    def area(self):\n",
    "        return self.width * self.height\n",
    "\n",
    "# Example usage\n",
    "circle = Circle(5)\n",
    "rectangle = Rectangle(4, 6)\n",
    "\n",
    "print(\"Area of Circle:\", circle.area())\n",
    "print(\"Area of Rectangle:\", rectangle.area())\n"
   ]
  },
  {
   "cell_type": "code",
   "execution_count": 1,
   "id": "7ee3cb69",
   "metadata": {},
   "outputs": [
    {
     "name": "stdout",
     "output_type": "stream",
     "text": [
      "Vehicle Type: General Vehicle\n",
      "Car Model: Toyota\n",
      "Electric Car Model: Tesla with Battery Capacity: 75 kWh\n"
     ]
    }
   ],
   "source": [
    "# 3.  Implement a multi-level inheritance scenario where a class Vehicle has an attribute type. Derive a class Car\n",
    "# and further derive a class ElectricCar that adds a battery attribute.\n",
    "\n",
    "class Vehicle:\n",
    "    def __init__(self, vehicle_type):\n",
    "        self.vehicle_type = vehicle_type\n",
    "\n",
    "class Car(Vehicle):\n",
    "    def __init__(self, vehicle_type, model):\n",
    "        super().__init__(vehicle_type)\n",
    "        self.model = model\n",
    "        self.battery = None\n",
    "\n",
    "class ElectricCar(Car):\n",
    "    def __init__(self, vehicle_type, model, battery_capacity):\n",
    "        super().__init__(vehicle_type, model)\n",
    "        self.battery = battery_capacity\n",
    "\n",
    "# Example usage\n",
    "vehicle = Vehicle(\"General Vehicle\")\n",
    "car = Car(\"Car\", \"Toyota\")\n",
    "electric_car = ElectricCar(\"Electric Car\", \"Tesla\", \"75 kWh\")\n",
    "print(\"Vehicle Type:\", vehicle.vehicle_type)\n",
    "print(\"Car Model:\", car.model)\n",
    "print(\"Electric Car Model:\", electric_car.model, \"with Battery Capacity:\", electric_car.battery)\n",
    "\n"
   ]
  },
  {
   "cell_type": "code",
   "execution_count": 6,
   "id": "b5e3b76b",
   "metadata": {},
   "outputs": [
    {
     "name": "stdout",
     "output_type": "stream",
     "text": [
      "Sparrow is flying...\n",
      "Penguins can't fly, but they can swim!\n"
     ]
    }
   ],
   "source": [
    "# 4. Demonstrate polymorphism by creating a base class Bird with a method fly(). Create two derived classes\n",
    "# Sparrow and Penguin that override the fly() method.\n",
    "\n",
    "\n",
    "class Bird:\n",
    "    def fly(self):\n",
    "        print(\"Flying....\")\n",
    "\n",
    "class Sparrow(Bird):\n",
    "    def fly(self):\n",
    "        print(\"Sparrow is flying...\")\n",
    "\n",
    "class Penguin(Bird):\n",
    "    def fly(self):\n",
    "        print(\"Penguins can't fly, but they can swim!\")\n",
    "\n",
    "sparrow = Sparrow()\n",
    "penguin = Penguin()\n",
    "sparrow.fly()\n",
    "penguin.fly()\n"
   ]
  },
  {
   "cell_type": "code",
   "execution_count": 10,
   "id": "12ab77e2",
   "metadata": {},
   "outputs": [
    {
     "name": "stdout",
     "output_type": "stream",
     "text": [
      "Current Balance: 1000\n",
      "Insufficient balance!\n",
      "Deposited: 500\n",
      "Current Balance: 1500\n"
     ]
    }
   ],
   "source": [
    "# 5.  Write a program to demonstrate encapsulation by creating a class BankAccount with private attributes\n",
    "# balance and methods to deposit, withdraw, and check balance\n",
    "\n",
    "\n",
    "class BankAccount:\n",
    "    def __init__(self, name, accountNo, balance):\n",
    "        self.__name = name\n",
    "        self.__accountNo = accountNo\n",
    "        self.__balance = balance\n",
    "\n",
    "    def deposit(self, amount):\n",
    "        self.__balance += amount\n",
    "        print(f\"Deposited: {amount}\")\n",
    "\n",
    "    def withdraw(self, amount):\n",
    "        if amount > self.__balance:\n",
    "            print(\"Insufficient balance!\")\n",
    "        else:\n",
    "            self.__balance -= amount\n",
    "            print(f\"Withdrawn: {amount}\")\n",
    "    \n",
    "    def check_balance(self):\n",
    "        print(f\"Current Balance: {self.__balance}\")\n",
    "\n",
    "\n",
    "# Creating object\n",
    "subham = BankAccount(\"Subham Sahoo\", \"12345678\", 1000)\n",
    "\n",
    "# Accessing via public methods (not directly)\n",
    "subham.check_balance()\n",
    "subham.withdraw(2000)\n",
    "subham.deposit(500)\n",
    "subham.check_balance()\n"
   ]
  },
  {
   "cell_type": "code",
   "execution_count": 11,
   "id": "8f38d5f6",
   "metadata": {},
   "outputs": [
    {
     "name": "stdout",
     "output_type": "stream",
     "text": [
      "Playing the guitar\n",
      "Playing the piano\n"
     ]
    }
   ],
   "source": [
    "# 6.  Demonstrate runtime polymorphism using a method play() in a base class Instrument. Derive classes Guitar\n",
    "# and Piano that implement their own version of play().\n",
    "\n",
    "class Instrument:\n",
    "    def play(self):\n",
    "        print(\"Generic instrument is playing\")\n",
    "\n",
    "class Guitar(Instrument):\n",
    "    def play(self):\n",
    "        print(\"Playing the guitar\")\n",
    "\n",
    "class Piano(Instrument):\n",
    "    def play(self):\n",
    "        print(\"Playing the piano\")\n",
    "\n",
    "# Function to demonstrate runtime polymorphism\n",
    "def start_playing(instrument):\n",
    "    instrument.play()\n",
    "\n",
    "# Creating instances\n",
    "guitar = Guitar()\n",
    "piano = Piano()\n",
    "\n",
    "# Calling the method polymorphically\n",
    "start_playing(guitar)  # Output: Playing the guitar\n",
    "start_playing(piano)   # Output: Playing the piano\n"
   ]
  },
  {
   "cell_type": "code",
   "execution_count": 13,
   "id": "9c805389",
   "metadata": {},
   "outputs": [
    {
     "name": "stdout",
     "output_type": "stream",
     "text": [
      "Sum: 15\n",
      "Difference: 5\n",
      "Sum: 3\n"
     ]
    }
   ],
   "source": [
    "# 7.  Create a class MathOperations with a class method add_numbers() to add two numbers and a static\n",
    "# method subtract_numbers() to subtract two numbers\n",
    "\n",
    "class MathOperations:\n",
    "    @classmethod\n",
    "    def add_numbers(cls, num1, num2):\n",
    "        print(\"Sum:\", num1 + num2)\n",
    "\n",
    "    @staticmethod\n",
    "    def subtract_numbers(num1, num2):\n",
    "        print(\"Difference:\", num1 - num2)\n",
    "\n",
    "\n",
    "MathOperations.add_numbers(10, 5)        # Output: Sum: 15\n",
    "MathOperations.subtract_numbers(10, 5)   # Output: Difference: 5\n",
    "\n",
    "op = MathOperations()\n",
    "op.add_numbers(1, 2)\n"
   ]
  },
  {
   "cell_type": "code",
   "execution_count": 20,
   "id": "d12bd2c7",
   "metadata": {},
   "outputs": [
    {
     "name": "stdout",
     "output_type": "stream",
     "text": [
      "2\n"
     ]
    }
   ],
   "source": [
    "# 8. Implement a class Person with a class method to count the total number of persons created.\n",
    "\n",
    "class Person:\n",
    "    total = 0  # Class variable to count number of persons\n",
    "\n",
    "    def __init__(self):\n",
    "        Person.increment_total()  # Automatically increment on creation\n",
    "\n",
    "    @classmethod\n",
    "    def increment_total(cls):\n",
    "        cls.total += 1  # Access the class variable via cls\n",
    "\n",
    "    @classmethod\n",
    "    def total_created(cls):\n",
    "        return cls.total  # Return total number of persons\n",
    "\n",
    "# Creating objects\n",
    "s = Person()\n",
    "r = Person()\n",
    "\n",
    "# Print total created\n",
    "print(Person.total_created())  # Output: 2"
   ]
  },
  {
   "cell_type": "code",
   "execution_count": 25,
   "id": "e7932164",
   "metadata": {},
   "outputs": [
    {
     "name": "stdout",
     "output_type": "stream",
     "text": [
      "10/2\n"
     ]
    }
   ],
   "source": [
    "# 9. Write a class Fraction with attributes numerator and denominator. Override the str method to display the\n",
    "# fraction as \"numerator/denominator\".\n",
    "\n",
    "class Fraction:\n",
    "    def __init__(self, numerator, denominator):\n",
    "        self.numerator = numerator\n",
    "        self.denominator = denominator\n",
    "    \n",
    "    def __str__(self):\n",
    "        return f\"{self.numerator}/{self.denominator}\"\n",
    "\n",
    "# Create a fraction object with numerator 10 and denominator 2\n",
    "fr = Fraction(10, 2)\n",
    "print(fr)  "
   ]
  },
  {
   "cell_type": "code",
   "execution_count": 26,
   "id": "5fe6b13a",
   "metadata": {},
   "outputs": [
    {
     "name": "stdout",
     "output_type": "stream",
     "text": [
      "Vector(4, 6)\n"
     ]
    }
   ],
   "source": [
    "# 10.  Demonstrate operator overloading by creating a class Vector and overriding the add method to add two vectors.\n",
    "\n",
    "class Vector:\n",
    "    def __init__(self, v1, v2):\n",
    "        self.v1 = v1\n",
    "        self.v2 = v2\n",
    "\n",
    "    def __add__(self, other):\n",
    "        # Add corresponding components of two vectors\n",
    "        new_v1 = self.v1 + other.v1\n",
    "        new_v2 = self.v2 + other.v2\n",
    "        return Vector(new_v1, new_v2)\n",
    "    \n",
    "    def __str__(self):\n",
    "        return f\"Vector({self.v1}, {self.v2})\"\n",
    "\n",
    "# Example usage\n",
    "v1 = Vector(1, 2)\n",
    "v2 = Vector(3, 4)\n",
    "v3 = v1 + v2\n",
    "\n",
    "print(v3)  # Output: Vector(4, 6)\n",
    "\n"
   ]
  },
  {
   "cell_type": "code",
   "execution_count": 27,
   "id": "bf9f82a3",
   "metadata": {},
   "outputs": [
    {
     "name": "stdout",
     "output_type": "stream",
     "text": [
      "Hello, my name is subham and I am 22 years old.\n"
     ]
    }
   ],
   "source": [
    "# 11. Create a class Person with attributes name and age. Add a method greet() that prints \"Hello, my name is {name} and I am {age} years old.\"\n",
    "\n",
    "class Person:\n",
    "    def __init__(self, name , age):\n",
    "        self.name = name\n",
    "        self.age = age\n",
    "\n",
    "    def greet(self):\n",
    "        print(f\"Hello, my name is {self.name} and I am {self.age} years old.\")\n",
    "\n",
    "\n",
    "p = Person(\"subham\", 22)\n",
    "p.greet()\n"
   ]
  },
  {
   "cell_type": "code",
   "execution_count": 28,
   "id": "ccd6c5c0",
   "metadata": {},
   "outputs": [
    {
     "name": "stdout",
     "output_type": "stream",
     "text": [
      "Alice's average grade is: 86.25\n"
     ]
    }
   ],
   "source": [
    "# 12. Implement a class Student with attributes name and grades. Create a method average_grade() to compute the average of the grades.\n",
    "\n",
    "class Student:\n",
    "    def __init__(self, name, grades):\n",
    "        self.name = name\n",
    "        self.grades = grades  # grades is expected to be a list of numbers\n",
    "\n",
    "    def average_grade(self):\n",
    "        if not self.grades:\n",
    "            return 0  # or None, if no grades available\n",
    "        return sum(self.grades) / len(self.grades)\n",
    "\n",
    "# Example usage\n",
    "s = Student(\"Alice\", [85, 90, 78, 92])\n",
    "print(f\"{s.name}'s average grade is: {s.average_grade()}\")\n"
   ]
  },
  {
   "cell_type": "code",
   "execution_count": 29,
   "id": "03c1f95c",
   "metadata": {},
   "outputs": [
    {
     "name": "stdout",
     "output_type": "stream",
     "text": [
      "Area of the rectangle is: 15\n"
     ]
    }
   ],
   "source": [
    "# 13. Create a class Rectangle with methods set_dimensions() to set the dimensions and area() to calculate the area.\n",
    "\n",
    "class Rectangle:\n",
    "    def __init__(self):\n",
    "        self.length = 0\n",
    "        self.width = 0\n",
    "\n",
    "    def set_dimensions(self, length, width):\n",
    "        self.length = length\n",
    "        self.width = width\n",
    "\n",
    "    def area(self):\n",
    "        return self.length * self.width\n",
    "\n",
    "# Example usage\n",
    "rect = Rectangle()\n",
    "rect.set_dimensions(5, 3)\n",
    "print(f\"Area of the rectangle is: {rect.area()}\")\n"
   ]
  },
  {
   "cell_type": "code",
   "execution_count": 32,
   "id": "e420aff7",
   "metadata": {},
   "outputs": [
    {
     "name": "stdout",
     "output_type": "stream",
     "text": [
      "Employee salary: 100\n",
      "Manager salary: 150\n"
     ]
    }
   ],
   "source": [
    "# 14.  Create a class Employee with a method calculate_salary() that computes the salary based on hours worked\n",
    "# and hourly rate. Create a derived class Manager that adds a bonus to the salary\n",
    "\n",
    "class Employee:\n",
    "    def __init__(self, total_hours, hourly_rate):\n",
    "        self.total_hours = total_hours\n",
    "        self.hourly_rate = hourly_rate\n",
    "\n",
    "    def calculate_salary(self):\n",
    "        return self.total_hours * self.hourly_rate\n",
    "\n",
    "class Manager(Employee):\n",
    "    def __init__(self, total_hours, hourly_rate, bonus):\n",
    "        super().__init__(total_hours, hourly_rate)\n",
    "        self.bonus = bonus\n",
    "\n",
    "    def calculate_salary(self):\n",
    "        base_salary = super().calculate_salary()\n",
    "        return base_salary + self.bonus\n",
    "\n",
    "# Example usage\n",
    "e = Employee(10, 10)\n",
    "print(f\"Employee salary: {e.calculate_salary()}\")  # Output: 100\n",
    "\n",
    "m = Manager(10, 10, 50)\n",
    "print(f\"Manager salary: {m.calculate_salary()}\")  # Output: 150\n"
   ]
  },
  {
   "cell_type": "code",
   "execution_count": 33,
   "id": "e4e1cef9",
   "metadata": {},
   "outputs": [
    {
     "name": "stdout",
     "output_type": "stream",
     "text": [
      "Total price of Laptop is: $3000\n"
     ]
    }
   ],
   "source": [
    "# 15.  Create a class Product with attributes name, price, and quantity. Implement a method total_price() that\n",
    "# calculates the total price of the product.\n",
    "\n",
    "class Product:\n",
    "    def __init__(self, name, price, quantity):\n",
    "        self.name = name\n",
    "        self.price = price\n",
    "        self.quantity = quantity\n",
    "\n",
    "    def total_price(self):\n",
    "        return self.price * self.quantity\n",
    "\n",
    "# Example usage\n",
    "p = Product(\"Laptop\", 1000, 3)\n",
    "print(f\"Total price of {p.name} is: ${p.total_price()}\")\n",
    "\n"
   ]
  },
  {
   "cell_type": "code",
   "execution_count": 34,
   "id": "a8c7ffd3",
   "metadata": {},
   "outputs": [
    {
     "name": "stdout",
     "output_type": "stream",
     "text": [
      "Moo\n",
      "Baa\n"
     ]
    }
   ],
   "source": [
    "# 16. Create a class Animal with an abstract method sound(). Create two derived classes Cow and Sheep that\n",
    "# implement the sound() method.\n",
    "\n",
    "from abc import ABC, abstractmethod\n",
    "\n",
    "class Animal(ABC):\n",
    "    @abstractmethod\n",
    "    def sound(self):\n",
    "        pass\n",
    "\n",
    "class Cow(Animal):\n",
    "    def sound(self):\n",
    "        return \"Moo\"\n",
    "\n",
    "class Sheep(Animal):\n",
    "    def sound(self):\n",
    "        return \"Baa\"\n",
    "\n",
    "# Example usage\n",
    "cow = Cow()\n",
    "sheep = Sheep()\n",
    "\n",
    "print(cow.sound())   # Output: Moo\n",
    "print(sheep.sound()) # Output: Baa\n"
   ]
  },
  {
   "cell_type": "code",
   "execution_count": 35,
   "id": "2b5c8d57",
   "metadata": {},
   "outputs": [
    {
     "name": "stdout",
     "output_type": "stream",
     "text": [
      "'1984' by George Orwell, published in 1949\n"
     ]
    }
   ],
   "source": [
    "# 17.  Create a class Book with attributes title, author, and year_published. Add a method get_book_info() that\n",
    "# returns a formatted string with the book's details.\n",
    "\n",
    "class Book:\n",
    "    def __init__(self, title, author, year_published):\n",
    "        self.title = title\n",
    "        self.author = author\n",
    "        self.year_published = year_published\n",
    "\n",
    "    def get_book_info(self):\n",
    "        return f\"'{self.title}' by {self.author}, published in {self.year_published}\"\n",
    "\n",
    "# Example usage\n",
    "book = Book(\"1984\", \"George Orwell\", 1949)\n",
    "print(book.get_book_info())\n",
    "\n"
   ]
  },
  {
   "cell_type": "code",
   "execution_count": 36,
   "id": "d80140a4",
   "metadata": {},
   "outputs": [
    {
     "name": "stdout",
     "output_type": "stream",
     "text": [
      "House: 123 Maple St, Price: $250000\n",
      "Mansion: 456 Oak Ave, Price: $1500000, Rooms: 10\n"
     ]
    }
   ],
   "source": [
    "# 18. Create a class House with attributes address and price. Create a derived class Mansion that adds an attribute number_of_rooms.\n",
    "\n",
    "class House:\n",
    "    def __init__(self, address, price):\n",
    "        self.address = address\n",
    "        self.price = price\n",
    "\n",
    "class Mansion(House):\n",
    "    def __init__(self, address, price, number_of_rooms):\n",
    "        super().__init__(address, price)\n",
    "        self.number_of_rooms = number_of_rooms\n",
    "\n",
    "# Example usage\n",
    "house = House(\"123 Maple St\", 250000)\n",
    "mansion = Mansion(\"456 Oak Ave\", 1500000, 10)\n",
    "\n",
    "print(f\"House: {house.address}, Price: ${house.price}\")\n",
    "print(f\"Mansion: {mansion.address}, Price: ${mansion.price}, Rooms: {mansion.number_of_rooms}\")\n",
    "\n"
   ]
  },
  {
   "cell_type": "code",
   "execution_count": null,
   "id": "994d1423",
   "metadata": {},
   "outputs": [],
   "source": []
  }
 ],
 "metadata": {
  "kernelspec": {
   "display_name": ".venv",
   "language": "python",
   "name": "python3"
  },
  "language_info": {
   "codemirror_mode": {
    "name": "ipython",
    "version": 3
   },
   "file_extension": ".py",
   "mimetype": "text/x-python",
   "name": "python",
   "nbconvert_exporter": "python",
   "pygments_lexer": "ipython3",
   "version": "3.13.3"
  }
 },
 "nbformat": 4,
 "nbformat_minor": 5
}
