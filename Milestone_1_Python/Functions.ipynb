{
 "cells": [
  {
   "cell_type": "markdown",
   "id": "54048867",
   "metadata": {},
   "source": [
    "# 1. What is the difference between a function and a method in Python?\n",
    "\n",
    "A **function** is a block of reusable code that is defined using the `def` keyword and can be called independently, whereas a **method** is a function that is associated with an object and is called using the dot `.` operator on an object.\n",
    "\n",
    "```python\n",
    "# Function\n",
    "def greet():\n",
    "    print(\"Hello!\")\n",
    "greet()\n",
    "\n",
    "# Method (associated with a string object)\n",
    "name = \"Alice\"\n",
    "print(name.upper())  # upper() is a method\n",
    "```\n",
    "\n",
    "---\n",
    "\n",
    "# 2. Explain the concept of function arguments and parameters in Python.\n",
    "\n",
    "**Parameters** are variables defined in the function definition, while **arguments** are the actual values passed to the function when it is called.\n",
    "\n",
    "```python\n",
    "def add(a, b):  # a and b are parameters\n",
    "    return a + b\n",
    "\n",
    "result = add(5, 3)  # 5 and 3 are arguments\n",
    "print(result)\n",
    "```\n",
    "\n",
    "---\n",
    "\n",
    "# 3. What are the different ways to define and call a function in Python?\n",
    "\n",
    "Functions can be defined using the `def` keyword or using `lambda`. They can be called by using the function name followed by parentheses.\n",
    "\n",
    "```python\n",
    "# Regular function definition\n",
    "def square(x):\n",
    "    return x * x\n",
    "\n",
    "print(square(4))\n",
    "\n",
    "# Lambda function definition\n",
    "square_lambda = lambda x: x * x\n",
    "print(square_lambda(4))\n",
    "```\n",
    "\n",
    "---\n",
    "\n",
    "# 4. What is the purpose of the `return` statement in a Python function?\n",
    "\n",
    "The `return` statement sends a result back to the caller and terminates the function. Without it, a function returns `None` by default.\n",
    "\n",
    "```python\n",
    "def multiply(a, b):\n",
    "    return a * b\n",
    "\n",
    "result = multiply(3, 4)\n",
    "print(result)  # Output: 12\n",
    "```\n",
    "\n",
    "---\n",
    "\n",
    "# 5. What are iterators in Python and how do they differ from iterables?\n",
    "\n",
    "An **iterator** is an object with a `__next__()` method that returns successive values. An **iterable** is any object that can return an iterator using `__iter__()`.\n",
    "\n",
    "```python\n",
    "# List is an iterable\n",
    "numbers = [1, 2, 3]\n",
    "iterator = iter(numbers)  # Create an iterator from iterable\n",
    "\n",
    "print(next(iterator))  # Output: 1\n",
    "```\n",
    "\n",
    "---\n",
    "\n",
    "# 6. Explain the concept of generators in Python and how they are defined.\n",
    "\n",
    "Generators are functions that yield values one at a time using the `yield` keyword instead of `return`, allowing lazy evaluation.\n",
    "\n",
    "```python\n",
    "def count_up_to(n):\n",
    "    count = 1\n",
    "    while count <= n:\n",
    "        yield count\n",
    "        count += 1\n",
    "\n",
    "for num in count_up_to(3):\n",
    "    print(num)\n",
    "```\n",
    "\n",
    "---\n",
    "\n",
    "# 7. What are the advantages of using generators over regular functions?\n",
    "\n",
    "* Generators use less memory.\n",
    "* Values are produced on the fly (lazy evaluation).\n",
    "* Useful for large datasets or streams.\n",
    "\n",
    "```python\n",
    "def gen():\n",
    "    for i in range(1000000):\n",
    "        yield i\n",
    "\n",
    "# Efficient memory usage\n",
    "for i in gen():\n",
    "    print(i)\n",
    "    break\n",
    "```\n",
    "\n",
    "---\n",
    "\n",
    "# 8. What is a lambda function in Python and when is it typically used?\n",
    "\n",
    "A `lambda` function is an anonymous function defined using the `lambda` keyword. It's often used for short, simple operations.\n",
    "\n",
    "```python\n",
    "# Lambda function to add two numbers\n",
    "add = lambda x, y: x + y\n",
    "print(add(2, 3))\n",
    "```\n",
    "\n",
    "---\n",
    "\n",
    "# 9. Explain the purpose and usage of the `map()` function in Python.\n",
    "\n",
    "The `map()` function applies a function to all items in an iterable and returns a map object.\n",
    "\n",
    "```python\n",
    "def square(x):\n",
    "    return x * x\n",
    "\n",
    "nums = [1, 2, 3, 4]\n",
    "result = list(map(square, nums))\n",
    "print(result)  # Output: [1, 4, 9, 16]\n",
    "```\n",
    "\n",
    "---\n",
    "\n",
    "# 10. What is the difference between `map()`, `reduce()`, and `filter()` functions in Python?\n",
    "\n",
    "* `map()` applies a function to each item.\n",
    "* `filter()` filters items using a boolean function.\n",
    "* `reduce()` reduces a sequence to a single value using a binary function.\n",
    "\n",
    "```python\n",
    "from functools import reduce\n",
    "\n",
    "nums = [1, 2, 3, 4]\n",
    "\n",
    "# map\n",
    "squared = list(map(lambda x: x**2, nums))\n",
    "\n",
    "# filter\n",
    "even = list(filter(lambda x: x % 2 == 0, nums))\n",
    "\n",
    "# reduce\n",
    "sum_all = reduce(lambda x, y: x + y, nums)\n",
    "\n",
    "print(squared)  # [1, 4, 9, 16]\n",
    "print(even)     # [2, 4]\n",
    "print(sum_all)  # 10\n",
    "```\n",
    "\n",
    "---\n"
   ]
  },
  {
   "cell_type": "markdown",
   "id": "84217389",
   "metadata": {},
   "source": [
    "# Practical Questions:"
   ]
  },
  {
   "cell_type": "code",
   "execution_count": 6,
   "id": "e94c6791",
   "metadata": {},
   "outputs": [
    {
     "name": "stdout",
     "output_type": "stream",
     "text": [
      "12\n"
     ]
    }
   ],
   "source": [
    "# 1. Write a Python function that takes a list of numbers as input and returns the sum of all even numbers in the list.\n",
    "\n",
    "def sum_of_even(numbers):\n",
    "    sum = 0\n",
    "    for i in range(len(numbers)):\n",
    "        if numbers[i] % 2 == 0:\n",
    "            sum += numbers[i]\n",
    "\n",
    "    return sum\n",
    "        \n",
    "numbers = [1, 2, 3, 4, 5, 6]\n",
    "sum = sum_of_even(numbers)\n",
    "print(sum)\n"
   ]
  },
  {
   "cell_type": "code",
   "execution_count": null,
   "id": "25b17e4d",
   "metadata": {},
   "outputs": [
    {
     "data": {
      "text/plain": [
       "'mahbuS'"
      ]
     },
     "execution_count": 7,
     "metadata": {},
     "output_type": "execute_result"
    }
   ],
   "source": [
    "# 2. Create a Python function that accepts a string and returns the reverse of that string.\n",
    "\n",
    "reverse_string = lambda x: x[::-1]\n",
    "reverse_string(\"Subham\")"
   ]
  },
  {
   "cell_type": "code",
   "execution_count": 12,
   "id": "615e5847",
   "metadata": {},
   "outputs": [
    {
     "data": {
      "text/plain": [
       "[1, 4, 9, 16, 25, 36]"
      ]
     },
     "execution_count": 12,
     "metadata": {},
     "output_type": "execute_result"
    }
   ],
   "source": [
    "# 3. Implement a Python function that takes a list of integers and returns a new list containing the squares of each number.\n",
    "\n",
    "numbers = [1, 2, 3, 4, 5, 6]\n",
    "list(map(lambda x: x**2,  numbers))\n"
   ]
  },
  {
   "cell_type": "code",
   "execution_count": null,
   "id": "49854cdb",
   "metadata": {},
   "outputs": [
    {
     "name": "stdout",
     "output_type": "stream",
     "text": [
      "2 is prime\n",
      "3 is prime\n",
      "5 is prime\n",
      "7 is prime\n",
      "11 is prime\n",
      "13 is prime\n",
      "17 is prime\n",
      "19 is prime\n",
      "23 is prime\n",
      "29 is prime\n",
      "31 is prime\n",
      "37 is prime\n",
      "41 is prime\n",
      "43 is prime\n",
      "47 is prime\n",
      "53 is prime\n",
      "59 is prime\n",
      "61 is prime\n",
      "67 is prime\n",
      "71 is prime\n",
      "73 is prime\n",
      "79 is prime\n",
      "83 is prime\n",
      "89 is prime\n",
      "97 is prime\n",
      "101 is prime\n",
      "103 is prime\n",
      "107 is prime\n",
      "109 is prime\n",
      "113 is prime\n",
      "127 is prime\n",
      "131 is prime\n",
      "137 is prime\n",
      "139 is prime\n",
      "149 is prime\n",
      "151 is prime\n",
      "157 is prime\n",
      "163 is prime\n",
      "167 is prime\n",
      "173 is prime\n",
      "179 is prime\n",
      "181 is prime\n",
      "191 is prime\n",
      "193 is prime\n",
      "197 is prime\n",
      "199 is prime\n"
     ]
    }
   ],
   "source": [
    "# 4. Write a Python function that checks if a given number is prime or not from 1 to 200.\n",
    "\n",
    "def is_prime(x):\n",
    "    if x <= 1:\n",
    "        return False\n",
    "    for i in range(2, int(x**0.5) + 1):\n",
    "        if x % i == 0:\n",
    "            return False\n",
    "    return True\n",
    "\n",
    "for num in range(1, 201):\n",
    "    if is_prime(num):\n",
    "        print(num, \"is prime\")"
   ]
  },
  {
   "cell_type": "code",
   "execution_count": 14,
   "id": "36fd8b50",
   "metadata": {},
   "outputs": [
    {
     "name": "stdout",
     "output_type": "stream",
     "text": [
      "0\n",
      "1\n",
      "1\n",
      "2\n",
      "3\n",
      "5\n",
      "8\n",
      "13\n",
      "21\n",
      "34\n"
     ]
    }
   ],
   "source": [
    "# 5. Create an iterator class in Python that generates the Fibonacci sequence up to a specified number of terms.\n",
    "\n",
    "class Fibonacci:\n",
    "    def __init__(self, max_terms):\n",
    "        self.max_terms = max_terms\n",
    "        self.count = 0\n",
    "        self.a = 0\n",
    "        self.b = 1\n",
    "\n",
    "    def __iter__(self):\n",
    "        return self\n",
    "\n",
    "    def __next__(self):\n",
    "        if self.count >= self.max_terms:\n",
    "            raise StopIteration\n",
    "        if self.count == 0:\n",
    "            self.count += 1\n",
    "            return self.a\n",
    "        elif self.count == 1:\n",
    "            self.count += 1\n",
    "            return self.b\n",
    "        else:\n",
    "            self.a, self.b = self.b, self.a + self.b\n",
    "            self.count += 1\n",
    "            return self.b\n",
    "\n",
    "fib = Fibonacci(10)  \n",
    "for num in fib:\n",
    "    print(num)\n"
   ]
  },
  {
   "cell_type": "code",
   "execution_count": 16,
   "id": "0e60ec8c",
   "metadata": {},
   "outputs": [
    {
     "name": "stdout",
     "output_type": "stream",
     "text": [
      "1\n",
      "2\n",
      "4\n",
      "8\n",
      "16\n",
      "32\n"
     ]
    }
   ],
   "source": [
    "# 6. Write a generator function in Python that yields the powers of 2 up to a given exponent.\n",
    "\n",
    "def powers_of_two(max_exponent):\n",
    "    for i in range(max_exponent + 1):\n",
    "        yield 2 ** i\n",
    "\n",
    "for power in powers_of_two(5):\n",
    "    print(power)\n"
   ]
  },
  {
   "cell_type": "code",
   "execution_count": 18,
   "id": "636c621f",
   "metadata": {},
   "outputs": [],
   "source": [
    "# 7. Implement a generator function that reads a file line by line and yields each line as a string.\n",
    "\n",
    "def read_file_lines(filepath):\n",
    "    with open(filepath, 'r') as file:\n",
    "        for line in file:\n",
    "            yield line.strip()  # strip() removes newline characters\n"
   ]
  },
  {
   "cell_type": "code",
   "execution_count": 27,
   "id": "3475e1cb",
   "metadata": {},
   "outputs": [
    {
     "data": {
      "text/plain": [
       "[(1, 1), (4, 1), (1, 2), (2, 3), (2, 4)]"
      ]
     },
     "execution_count": 27,
     "metadata": {},
     "output_type": "execute_result"
    }
   ],
   "source": [
    "# 8. Use a lambda function in Python to sort a list of tuples based on the second element of each tuple.\n",
    "\n",
    "l = [(1,2), (2,3), (1,1), (2, 4), (4, 1)]\n",
    "sorted_list = lambda x: sorted(x, key=lambda x: x[1])\n",
    "sorted_list(l)"
   ]
  },
  {
   "cell_type": "code",
   "execution_count": 28,
   "id": "d5979bb8",
   "metadata": {},
   "outputs": [
    {
     "name": "stdout",
     "output_type": "stream",
     "text": [
      "[32.0, 68.0, 98.6, 212.0]\n"
     ]
    }
   ],
   "source": [
    "# 9. Write a Python program that uses `map()` to convert a list of temperatures from Celsius to Fahrenheit.\n",
    "\n",
    "def celsius_to_fahrenheit(c):\n",
    "    return (c * 9/5) + 32\n",
    "\n",
    "celsius_temps = [0, 20, 37, 100]\n",
    "\n",
    "fahrenheit_temps = list(map(celsius_to_fahrenheit, celsius_temps))\n",
    "\n",
    "print(fahrenheit_temps)\n"
   ]
  },
  {
   "cell_type": "code",
   "execution_count": 30,
   "id": "4409ad40",
   "metadata": {},
   "outputs": [
    {
     "name": "stdout",
     "output_type": "stream",
     "text": [
      "Hll, hw r y?\n"
     ]
    }
   ],
   "source": [
    "# 10. Create a Python program that uses `filter()` to remove all the vowels from a given string.\n",
    "\n",
    "def is_not_vowel(char):\n",
    "    return char.lower() not in 'aeiou'\n",
    "\n",
    "input_str = \"Hello, how are you?\"\n",
    "\n",
    "filtered_chars = filter(is_not_vowel, input_str)\n",
    "result = ''.join(filtered_chars)\n",
    "\n",
    "print(result) \n"
   ]
  },
  {
   "cell_type": "code",
   "execution_count": 31,
   "id": "a5f2440d",
   "metadata": {},
   "outputs": [
    {
     "name": "stdout",
     "output_type": "stream",
     "text": [
      "[(1, 60.0), (2, 50.0), (3, 85.0), (4, 80.0)]\n"
     ]
    }
   ],
   "source": [
    "# 11) Imagine an accounting routine used in a book shop. It works on a list with sublists, which look like this:\n",
    "\n",
    "\n",
    "\n",
    "\n",
    "\n",
    "\n",
    "\n",
    "# Write a Python program, which returns a list with 2-tuples. Each tuple consists of the order number and the\n",
    "# product of the price per item and the quantity. The product should be increased by 10,- € if the value of the\n",
    "# order is smaller than 100,00 €.\n",
    "\n",
    "# Write a Python program using lambda and map.\n",
    "\n",
    "orders = [\n",
    "    [1, 10.0, 5],\n",
    "    [2, 20.0, 2],\n",
    "    [3, 5.0, 15],\n",
    "    [4, 7.0, 10]\n",
    "]\n",
    "\n",
    "result = list(map(\n",
    "    lambda order: (\n",
    "        order[0],  # order number\n",
    "        order[1] * order[2] + (10 if order[1] * order[2] < 100 else 0)\n",
    "    ),\n",
    "    orders\n",
    "))\n",
    "\n",
    "print(result)\n"
   ]
  },
  {
   "cell_type": "code",
   "execution_count": null,
   "id": "4c3e8e6e",
   "metadata": {},
   "outputs": [],
   "source": []
  }
 ],
 "metadata": {
  "kernelspec": {
   "display_name": "Python 3",
   "language": "python",
   "name": "python3"
  },
  "language_info": {
   "codemirror_mode": {
    "name": "ipython",
    "version": 3
   },
   "file_extension": ".py",
   "mimetype": "text/x-python",
   "name": "python",
   "nbconvert_exporter": "python",
   "pygments_lexer": "ipython3",
   "version": "3.13.3"
  }
 },
 "nbformat": 4,
 "nbformat_minor": 5
}
