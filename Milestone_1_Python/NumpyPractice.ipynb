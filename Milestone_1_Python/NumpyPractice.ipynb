{
 "cells": [
  {
   "cell_type": "code",
   "execution_count": 1,
   "id": "6fbeb300",
   "metadata": {},
   "outputs": [
    {
     "data": {
      "text/plain": [
       "array([0., 0., 0., 0., 0.])"
      ]
     },
     "execution_count": 1,
     "metadata": {},
     "output_type": "execute_result"
    }
   ],
   "source": [
    "import numpy as np\n",
    "\n",
    "a = np.zeros(5)\n",
    "a"
   ]
  },
  {
   "cell_type": "code",
   "execution_count": 3,
   "id": "fb3f1511",
   "metadata": {},
   "outputs": [
    {
     "data": {
      "text/plain": [
       "array([0, 0, 0, 0, 0, 0, 0, 0, 0, 0])"
      ]
     },
     "execution_count": 3,
     "metadata": {},
     "output_type": "execute_result"
    }
   ],
   "source": [
    "np.zeros(10, dtype=int)"
   ]
  },
  {
   "cell_type": "code",
   "execution_count": 5,
   "id": "bb9c8299",
   "metadata": {},
   "outputs": [
    {
     "data": {
      "text/plain": [
       "array([[0, 0, 0, 0],\n",
       "       [0, 0, 0, 0],\n",
       "       [0, 0, 0, 0]])"
      ]
     },
     "execution_count": 5,
     "metadata": {},
     "output_type": "execute_result"
    }
   ],
   "source": [
    "b = np.zeros((3, 4), dtype=int)\n",
    "b"
   ]
  },
  {
   "cell_type": "code",
   "execution_count": 6,
   "id": "e83cab68",
   "metadata": {},
   "outputs": [
    {
     "data": {
      "text/plain": [
       "2"
      ]
     },
     "execution_count": 6,
     "metadata": {},
     "output_type": "execute_result"
    }
   ],
   "source": [
    "b.ndim"
   ]
  },
  {
   "cell_type": "code",
   "execution_count": 10,
   "id": "86f6b4f5",
   "metadata": {},
   "outputs": [
    {
     "data": {
      "text/plain": [
       "array([[1, 1, 1],\n",
       "       [1, 1, 1]])"
      ]
     },
     "execution_count": 10,
     "metadata": {},
     "output_type": "execute_result"
    }
   ],
   "source": [
    "np.ones((2, 3), dtype=int)"
   ]
  },
  {
   "cell_type": "code",
   "execution_count": 13,
   "id": "64c8c243",
   "metadata": {},
   "outputs": [
    {
     "data": {
      "text/plain": [
       "array([[2, 2, 2],\n",
       "       [2, 2, 2]])"
      ]
     },
     "execution_count": 13,
     "metadata": {},
     "output_type": "execute_result"
    }
   ],
   "source": [
    "# we only have zeros & ones in numpy to create other matrix like for 2 or 3\n",
    "# we have to do the following:\n",
    "np.array([[2, 2, 2], [2, 2, 2]])"
   ]
  },
  {
   "cell_type": "code",
   "execution_count": 27,
   "id": "34ad7f3f",
   "metadata": {},
   "outputs": [
    {
     "data": {
      "text/plain": [
       "array([[0.2, 0.2],\n",
       "       [0.2, 0.2],\n",
       "       [0.2, 0.2],\n",
       "       [0.2, 0.2]])"
      ]
     },
     "execution_count": 27,
     "metadata": {},
     "output_type": "execute_result"
    }
   ],
   "source": [
    "arr = np.ones((4, 2), dtype=int)\n",
    "a = arr / 5\n",
    "a"
   ]
  },
  {
   "cell_type": "code",
   "execution_count": null,
   "id": "dcfb1c9f",
   "metadata": {},
   "outputs": [
    {
     "data": {
      "text/plain": [
       "array([[1, 0, 0, 0],\n",
       "       [0, 1, 0, 0],\n",
       "       [0, 0, 1, 0],\n",
       "       [0, 0, 0, 1]])"
      ]
     },
     "execution_count": 31,
     "metadata": {},
     "output_type": "execute_result"
    }
   ],
   "source": [
    "np.eye(4, dtype=int) # Indentity matrix"
   ]
  },
  {
   "cell_type": "code",
   "execution_count": 33,
   "id": "5e3a1502",
   "metadata": {},
   "outputs": [
    {
     "data": {
      "text/plain": [
       "array([[      1631617098648,                  64,                   0,\n",
       "                          0],\n",
       "       [8214565720323784704, 3978703110874031153, 7005684804211795001,\n",
       "        7292228735681847909],\n",
       "       [3919313880096203571, 7292511301532792163, 7003435195650421808,\n",
       "        3546131936242250033]])"
      ]
     },
     "execution_count": 33,
     "metadata": {},
     "output_type": "execute_result"
    }
   ],
   "source": [
    "np.empty((3, 4), dtype=int)"
   ]
  },
  {
   "cell_type": "code",
   "execution_count": 34,
   "id": "26cef31d",
   "metadata": {},
   "outputs": [
    {
     "data": {
      "text/plain": [
       "3"
      ]
     },
     "execution_count": 34,
     "metadata": {},
     "output_type": "execute_result"
    }
   ],
   "source": [
    "import random\n",
    "random.choice([1, 2, 3])"
   ]
  },
  {
   "cell_type": "code",
   "execution_count": 35,
   "id": "fb99edf9",
   "metadata": {},
   "outputs": [
    {
     "data": {
      "text/plain": [
       "14"
      ]
     },
     "execution_count": 35,
     "metadata": {},
     "output_type": "execute_result"
    }
   ],
   "source": [
    "random.randrange(1, 100)"
   ]
  },
  {
   "cell_type": "code",
   "execution_count": null,
   "id": "d02de0c8",
   "metadata": {},
   "outputs": [
    {
     "data": {
      "text/plain": [
       "0.11853542104023707"
      ]
     },
     "execution_count": 36,
     "metadata": {},
     "output_type": "execute_result"
    }
   ],
   "source": [
    "random.random() # Between 0 (Included) & 1 (Excluded)"
   ]
  },
  {
   "cell_type": "code",
   "execution_count": 40,
   "id": "d20f2c0b",
   "metadata": {},
   "outputs": [
    {
     "data": {
      "text/plain": [
       "[1, 5, 4, 3, 2]"
      ]
     },
     "execution_count": 40,
     "metadata": {},
     "output_type": "execute_result"
    }
   ],
   "source": [
    "lis = [1, 2, 3, 4, 5]\n",
    "random.shuffle(lis)\n",
    "lis"
   ]
  },
  {
   "cell_type": "code",
   "execution_count": 43,
   "id": "8eac02af",
   "metadata": {},
   "outputs": [
    {
     "data": {
      "text/plain": [
       "1.2702594657562412"
      ]
     },
     "execution_count": 43,
     "metadata": {},
     "output_type": "execute_result"
    }
   ],
   "source": [
    "random.uniform(1, 3)"
   ]
  },
  {
   "cell_type": "code",
   "execution_count": 44,
   "id": "e15ef285",
   "metadata": {},
   "outputs": [
    {
     "data": {
      "text/plain": [
       "array([], dtype=float64)"
      ]
     },
     "execution_count": 44,
     "metadata": {},
     "output_type": "execute_result"
    }
   ],
   "source": [
    "# random number in numpy\n",
    "np.array([])"
   ]
  },
  {
   "cell_type": "code",
   "execution_count": 48,
   "id": "1db0101f",
   "metadata": {},
   "outputs": [
    {
     "data": {
      "text/plain": [
       "array([[0.37702792, 0.36022223, 0.81964291, 0.57958054, 0.74362389],\n",
       "       [0.36384242, 0.82172138, 0.85198956, 0.52857549, 0.04384718],\n",
       "       [0.08965347, 0.41454865, 0.63306633, 0.75783229, 0.51225449],\n",
       "       [0.77298711, 0.33736537, 0.52873257, 0.89799161, 0.27091999],\n",
       "       [0.75339941, 0.79382987, 0.2856516 , 0.82835513, 0.66847281]])"
      ]
     },
     "execution_count": 48,
     "metadata": {},
     "output_type": "execute_result"
    }
   ],
   "source": [
    "np.random.random_sample((5, 5))"
   ]
  },
  {
   "cell_type": "code",
   "execution_count": 53,
   "id": "256d7dd0",
   "metadata": {},
   "outputs": [
    {
     "data": {
      "text/plain": [
       "array([[0.89785151, 0.07919847],\n",
       "       [0.67994679, 0.47884615],\n",
       "       [0.15315839, 0.3051873 ],\n",
       "       [0.88246952, 0.7376239 ]])"
      ]
     },
     "execution_count": 53,
     "metadata": {},
     "output_type": "execute_result"
    }
   ],
   "source": [
    "np.random.rand(4, 2)"
   ]
  },
  {
   "cell_type": "code",
   "execution_count": 55,
   "id": "dabfde38",
   "metadata": {},
   "outputs": [
    {
     "data": {
      "text/plain": [
       "2.1290543292986195"
      ]
     },
     "execution_count": 55,
     "metadata": {},
     "output_type": "execute_result"
    }
   ],
   "source": [
    "np.random.randn()"
   ]
  },
  {
   "cell_type": "code",
   "execution_count": 57,
   "id": "c00bdb4a",
   "metadata": {},
   "outputs": [
    {
     "data": {
      "text/plain": [
       "array([[0, 0, 0, 0],\n",
       "       [0, 0, 0, 0]])"
      ]
     },
     "execution_count": 57,
     "metadata": {},
     "output_type": "execute_result"
    }
   ],
   "source": [
    "arr1 = np.zeros((2, 4), dtype=int)\n",
    "arr1"
   ]
  },
  {
   "cell_type": "code",
   "execution_count": 59,
   "id": "7ae4fdce",
   "metadata": {},
   "outputs": [
    {
     "data": {
      "text/plain": [
       "array([0, 0, 0, 0, 0, 0, 0, 0])"
      ]
     },
     "execution_count": 59,
     "metadata": {},
     "output_type": "execute_result"
    }
   ],
   "source": [
    "arr1[arr1 > -1]"
   ]
  },
  {
   "cell_type": "code",
   "execution_count": 3,
   "id": "ab30e771",
   "metadata": {},
   "outputs": [
    {
     "name": "stdout",
     "output_type": "stream",
     "text": [
      "\n",
      "NumPy\n",
      "=====\n",
      "\n",
      "Provides\n",
      "  1. An array object of arbitrary homogeneous items\n",
      "  2. Fast mathematical operations over arrays\n",
      "  3. Linear Algebra, Fourier Transforms, Random Number Generation\n",
      "\n",
      "How to use the documentation\n",
      "----------------------------\n",
      "Documentation is available in two forms: docstrings provided\n",
      "with the code, and a loose standing reference guide, available from\n",
      "`the NumPy homepage <https://numpy.org>`_.\n",
      "\n",
      "We recommend exploring the docstrings using\n",
      "`IPython <https://ipython.org>`_, an advanced Python shell with\n",
      "TAB-completion and introspection capabilities.  See below for further\n",
      "instructions.\n",
      "\n",
      "The docstring examples assume that `numpy` has been imported as ``np``::\n",
      "\n",
      "  >>> import numpy as np\n",
      "\n",
      "Code snippets are indicated by three greater-than signs::\n",
      "\n",
      "  >>> x = 42\n",
      "  >>> x = x + 1\n",
      "\n",
      "Use the built-in ``help`` function to view a function's docstring::\n",
      "\n",
      "  >>> help(np.sort)\n",
      "  ... # doctest: +SKIP\n",
      "\n",
      "For some objects, ``np.info(obj)`` may provide additional help.  This is\n",
      "particularly true if you see the line \"Help on ufunc object:\" at the top\n",
      "of the help() page.  Ufuncs are implemented in C, not Python, for speed.\n",
      "The native Python help() does not know how to view their help, but our\n",
      "np.info() function does.\n",
      "\n",
      "Available subpackages\n",
      "---------------------\n",
      "lib\n",
      "    Basic functions used by several sub-packages.\n",
      "random\n",
      "    Core Random Tools\n",
      "linalg\n",
      "    Core Linear Algebra Tools\n",
      "fft\n",
      "    Core FFT routines\n",
      "polynomial\n",
      "    Polynomial tools\n",
      "testing\n",
      "    NumPy testing tools\n",
      "distutils\n",
      "    Enhancements to distutils with support for\n",
      "    Fortran compilers support and more (for Python <= 3.11)\n",
      "\n",
      "Utilities\n",
      "---------\n",
      "test\n",
      "    Run numpy unittests\n",
      "show_config\n",
      "    Show numpy build configuration\n",
      "__version__\n",
      "    NumPy version string\n",
      "\n",
      "Viewing documentation using IPython\n",
      "-----------------------------------\n",
      "\n",
      "Start IPython and import `numpy` usually under the alias ``np``: `import\n",
      "numpy as np`.  Then, directly past or use the ``%cpaste`` magic to paste\n",
      "examples into the shell.  To see which functions are available in `numpy`,\n",
      "type ``np.<TAB>`` (where ``<TAB>`` refers to the TAB key), or use\n",
      "``np.*cos*?<ENTER>`` (where ``<ENTER>`` refers to the ENTER key) to narrow\n",
      "down the list.  To view the docstring for a function, use\n",
      "``np.cos?<ENTER>`` (to view the docstring) and ``np.cos??<ENTER>`` (to view\n",
      "the source code).\n",
      "\n",
      "Copies vs. in-place operation\n",
      "-----------------------------\n",
      "Most of the functions in `numpy` return a copy of the array argument\n",
      "(e.g., `np.sort`).  In-place versions of these functions are often\n",
      "available as array methods, i.e. ``x = np.array([1,2,3]); x.sort()``.\n",
      "Exceptions to this rule are documented.\n",
      "\n",
      "\n"
     ]
    }
   ],
   "source": [
    "print(np.__doc__)"
   ]
  },
  {
   "cell_type": "code",
   "execution_count": 6,
   "id": "11000b13",
   "metadata": {},
   "outputs": [],
   "source": [
    "arr = np.fromfunction(lambda i, j: i == j, (4,4))"
   ]
  },
  {
   "cell_type": "code",
   "execution_count": 7,
   "id": "269a84b9",
   "metadata": {},
   "outputs": [
    {
     "data": {
      "text/plain": [
       "2"
      ]
     },
     "execution_count": 7,
     "metadata": {},
     "output_type": "execute_result"
    }
   ],
   "source": [
    "arr.ndim"
   ]
  },
  {
   "cell_type": "code",
   "execution_count": 8,
   "id": "6cbb576f",
   "metadata": {},
   "outputs": [
    {
     "data": {
      "text/plain": [
       "(4, 4)"
      ]
     },
     "execution_count": 8,
     "metadata": {},
     "output_type": "execute_result"
    }
   ],
   "source": [
    "arr.shape"
   ]
  },
  {
   "cell_type": "code",
   "execution_count": 9,
   "id": "fccfe081",
   "metadata": {},
   "outputs": [
    {
     "data": {
      "text/plain": [
       "16"
      ]
     },
     "execution_count": 9,
     "metadata": {},
     "output_type": "execute_result"
    }
   ],
   "source": [
    "arr.size"
   ]
  },
  {
   "cell_type": "code",
   "execution_count": 11,
   "id": "a1cfdd7f",
   "metadata": {},
   "outputs": [
    {
     "data": {
      "text/plain": [
       "array([0, 1, 2, 3, 4])"
      ]
     },
     "execution_count": 11,
     "metadata": {},
     "output_type": "execute_result"
    }
   ],
   "source": [
    "np.array(list((i for i in range(5))))"
   ]
  },
  {
   "cell_type": "code",
   "execution_count": 13,
   "id": "82cb27bf",
   "metadata": {},
   "outputs": [
    {
     "data": {
      "text/plain": [
       "array([1. , 1.5, 2. , 2.5, 3. , 3.5, 4. , 4.5, 5. , 5.5, 6. , 6.5, 7. ,\n",
       "       7.5, 8. , 8.5, 9. , 9.5])"
      ]
     },
     "execution_count": 13,
     "metadata": {},
     "output_type": "execute_result"
    }
   ],
   "source": [
    "np.arange(1, 10, 0.5)"
   ]
  },
  {
   "cell_type": "code",
   "execution_count": 16,
   "id": "3be06402",
   "metadata": {},
   "outputs": [
    {
     "data": {
      "text/plain": [
       "array([1.        , 1.04040404, 1.08080808, 1.12121212, 1.16161616,\n",
       "       1.2020202 , 1.24242424, 1.28282828, 1.32323232, 1.36363636,\n",
       "       1.4040404 , 1.44444444, 1.48484848, 1.52525253, 1.56565657,\n",
       "       1.60606061, 1.64646465, 1.68686869, 1.72727273, 1.76767677,\n",
       "       1.80808081, 1.84848485, 1.88888889, 1.92929293, 1.96969697,\n",
       "       2.01010101, 2.05050505, 2.09090909, 2.13131313, 2.17171717,\n",
       "       2.21212121, 2.25252525, 2.29292929, 2.33333333, 2.37373737,\n",
       "       2.41414141, 2.45454545, 2.49494949, 2.53535354, 2.57575758,\n",
       "       2.61616162, 2.65656566, 2.6969697 , 2.73737374, 2.77777778,\n",
       "       2.81818182, 2.85858586, 2.8989899 , 2.93939394, 2.97979798,\n",
       "       3.02020202, 3.06060606, 3.1010101 , 3.14141414, 3.18181818,\n",
       "       3.22222222, 3.26262626, 3.3030303 , 3.34343434, 3.38383838,\n",
       "       3.42424242, 3.46464646, 3.50505051, 3.54545455, 3.58585859,\n",
       "       3.62626263, 3.66666667, 3.70707071, 3.74747475, 3.78787879,\n",
       "       3.82828283, 3.86868687, 3.90909091, 3.94949495, 3.98989899,\n",
       "       4.03030303, 4.07070707, 4.11111111, 4.15151515, 4.19191919,\n",
       "       4.23232323, 4.27272727, 4.31313131, 4.35353535, 4.39393939,\n",
       "       4.43434343, 4.47474747, 4.51515152, 4.55555556, 4.5959596 ,\n",
       "       4.63636364, 4.67676768, 4.71717172, 4.75757576, 4.7979798 ,\n",
       "       4.83838384, 4.87878788, 4.91919192, 4.95959596, 5.        ])"
      ]
     },
     "execution_count": 16,
     "metadata": {},
     "output_type": "execute_result"
    }
   ],
   "source": [
    "np.linspace(1, 5, 100)"
   ]
  },
  {
   "cell_type": "code",
   "execution_count": 20,
   "id": "1eab4368",
   "metadata": {},
   "outputs": [
    {
     "data": {
      "text/plain": [
       "3"
      ]
     },
     "execution_count": 20,
     "metadata": {},
     "output_type": "execute_result"
    }
   ],
   "source": [
    "np.zeros((3, 3, 3), dtype=int).ndim"
   ]
  },
  {
   "cell_type": "code",
   "execution_count": 21,
   "id": "3c449ccf",
   "metadata": {},
   "outputs": [
    {
     "data": {
      "text/plain": [
       "array([[0, 0, 0],\n",
       "       [0, 0, 0],\n",
       "       [0, 0, 0]])"
      ]
     },
     "execution_count": 21,
     "metadata": {},
     "output_type": "execute_result"
    }
   ],
   "source": [
    "a = np.zeros((3, 3), dtype=int)\n",
    "a"
   ]
  },
  {
   "cell_type": "code",
   "execution_count": 24,
   "id": "8ae05849",
   "metadata": {},
   "outputs": [
    {
     "data": {
      "text/plain": [
       "array([[0, 0, 0, 0, 0, 0, 0, 0, 0]])"
      ]
     },
     "execution_count": 24,
     "metadata": {},
     "output_type": "execute_result"
    }
   ],
   "source": [
    "a.reshape(1, -1000000000)"
   ]
  },
  {
   "cell_type": "code",
   "execution_count": 29,
   "id": "ab468d4d",
   "metadata": {},
   "outputs": [
    {
     "data": {
      "text/plain": [
       "array([[6, 8, 5, 7, 8, 3],\n",
       "       [9, 3, 2, 8, 3, 3],\n",
       "       [4, 9, 7, 3, 2, 9],\n",
       "       [1, 1, 5, 9, 8, 2],\n",
       "       [6, 5, 8, 4, 2, 6]], dtype=int32)"
      ]
     },
     "execution_count": 29,
     "metadata": {},
     "output_type": "execute_result"
    }
   ],
   "source": [
    "arr = np.random.randint(1, 10, (5, 6))\n",
    "arr"
   ]
  },
  {
   "cell_type": "code",
   "execution_count": 30,
   "id": "525bf827",
   "metadata": {},
   "outputs": [
    {
     "data": {
      "text/plain": [
       "array([[6, 8, 5, 7, 8, 3, 9, 3, 2, 8],\n",
       "       [3, 3, 4, 9, 7, 3, 2, 9, 1, 1],\n",
       "       [5, 9, 8, 2, 6, 5, 8, 4, 2, 6]], dtype=int32)"
      ]
     },
     "execution_count": 30,
     "metadata": {},
     "output_type": "execute_result"
    }
   ],
   "source": [
    "arr.reshape(3, -1)"
   ]
  },
  {
   "cell_type": "code",
   "execution_count": 31,
   "id": "ddc88997",
   "metadata": {},
   "outputs": [
    {
     "data": {
      "text/plain": [
       "array([[3, 2, 8],\n",
       "       [9, 7, 3],\n",
       "       [1, 5, 9]], dtype=int32)"
      ]
     },
     "execution_count": 31,
     "metadata": {},
     "output_type": "execute_result"
    }
   ],
   "source": [
    "arr[1:4, 1:4]"
   ]
  },
  {
   "cell_type": "code",
   "execution_count": 32,
   "id": "86c6dd10",
   "metadata": {},
   "outputs": [
    {
     "data": {
      "text/plain": [
       "array([6, 8, 5, 7, 8, 3, 9, 3, 2, 8, 3, 3, 4, 9, 7, 3, 2, 9, 1, 1, 5, 9,\n",
       "       8, 2, 6, 5, 8, 4, 2, 6], dtype=int32)"
      ]
     },
     "execution_count": 32,
     "metadata": {},
     "output_type": "execute_result"
    }
   ],
   "source": [
    "arr.flatten()"
   ]
  },
  {
   "cell_type": "code",
   "execution_count": null,
   "id": "ea57acfd",
   "metadata": {},
   "outputs": [],
   "source": []
  }
 ],
 "metadata": {
  "kernelspec": {
   "display_name": ".venv",
   "language": "python",
   "name": "python3"
  },
  "language_info": {
   "codemirror_mode": {
    "name": "ipython",
    "version": 3
   },
   "file_extension": ".py",
   "mimetype": "text/x-python",
   "name": "python",
   "nbconvert_exporter": "python",
   "pygments_lexer": "ipython3",
   "version": "3.13.3"
  }
 },
 "nbformat": 4,
 "nbformat_minor": 5
}
