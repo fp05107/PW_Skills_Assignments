{
 "cells": [
  {
   "cell_type": "markdown",
   "id": "cb7b89d9",
   "metadata": {},
   "source": [
    "# 1. What are data structures, and why are they important ?\n",
    "- Data structures are ways to organize and store data efficiently in a computer. They are important because they improve performance, help manage complex data, support algorithms, and make programs scalable. Examples include list, set, dictionary, stack, queue, and tree.\n"
   ]
  },
  {
   "cell_type": "markdown",
   "id": "b72fcf63",
   "metadata": {},
   "source": [
    "# 2. Explain the difference between mutable and immutable data types with examples.\n",
    "**Mutable** data types can be changed after creation.  \n",
    "**Immutable** data types cannot be changed once created.\n",
    "\n",
    "---\n",
    "\n",
    "#### Mutable Examples:\n",
    "- `list`: `[1, 2, 3] → [10, 2, 3]`\n",
    "- `dict`: `{'a': 1} → {'a': 2}`\n",
    "- `set`: `{1, 2} → {1, 2, 3}`\n",
    "\n",
    "#### Immutable Examples:\n",
    "- `int`: `5 → 6` (new object)\n",
    "- `str`: `\"hello\" → \"hello world\"` (new string)\n",
    "- `tuple`: `(1, 2, 3)` cannot be changed"
   ]
  },
  {
   "cell_type": "markdown",
   "id": "2b25dcc3",
   "metadata": {},
   "source": []
  },
  {
   "cell_type": "markdown",
   "id": "0fb6dd99",
   "metadata": {},
   "source": [
    "# 3. What are the main differences between lists and tuples in Python ?\n",
    "\n",
    "| Feature        | List                  | Tuple                  |\n",
    "|----------------|------------------------|--------------------------|\n",
    "| **Mutability** | Mutable (can change)   | Immutable (cannot change) |\n",
    "| **Syntax**     | `[]` e.g. `[1, 2, 3]`  | `()` e.g. `(1, 2, 3)`    |\n",
    "| **Performance**| Slower (more flexible) | Faster (less flexible)   |\n",
    "| **Methods**    | Many (e.g. append, pop)| Fewer (mainly count, index) |\n",
    "| **Use Case**   | Dynamic data           | Fixed data               |\n"
   ]
  },
  {
   "cell_type": "markdown",
   "id": "05156fa4",
   "metadata": {},
   "source": []
  },
  {
   "cell_type": "markdown",
   "id": "0a630417",
   "metadata": {},
   "source": [
    "# 4. Describe how dictionaries store data.\n",
    "Dictionaries store data as **key-value pairs**. Each key is unique and maps to a specific value.\n",
    "\n",
    "Python dictionaries use a **hash table** internally:\n",
    "- Each key is passed through a **hash function** to get a unique hash.\n",
    "- This hash determines where the value is stored in memory.\n",
    "- Lookup, insertion, and deletion are fast (average **O(1)** time).\n",
    "\n",
    "**Example:**\n",
    "```python\n",
    "student = {'name': 'Alice', 'age': 20}\n",
    "# 'name' → 'Alice', 'age' → 20"
   ]
  },
  {
   "cell_type": "markdown",
   "id": "2847999f",
   "metadata": {},
   "source": [
    "# 5. Why might you use a set instead of a list in Python?\n",
    "A `set` is used when you need **only unique values** and **fast membership testing**. It removes duplicates automatically and is faster than lists for checking if an item exists.\n"
   ]
  },
  {
   "cell_type": "markdown",
   "id": "60366abe",
   "metadata": {},
   "source": []
  },
  {
   "cell_type": "markdown",
   "id": "fa8550e0",
   "metadata": {},
   "source": [
    "# 6.  What is a string in Python, and how is it different from a list?\n",
    "A string is a sequence of characters (e.g., `\"hello\"`), while a list is a sequence of any data types. Strings are **immutable**, but lists are **mutable**.\n"
   ]
  },
  {
   "cell_type": "markdown",
   "id": "68a575b9",
   "metadata": {},
   "source": [
    "# 7. How do tuples ensure data integrity in Python?\n",
    "Tuples are **immutable**, so once created, their contents can't be changed. This protects data from being accidentally modified."
   ]
  },
  {
   "cell_type": "markdown",
   "id": "b452f504",
   "metadata": {},
   "source": [
    "# 8. What is a hash table, and how does it relate to dictionaries in Python?\n",
    "A **hash table** is a data structure that maps keys to values using a **hash function**. Python dictionaries use hash tables internally to provide fast lookups, insertions, and deletions."
   ]
  },
  {
   "cell_type": "markdown",
   "id": "0200f659",
   "metadata": {},
   "source": [
    "# 9.  Can lists contain different data types in Python?\n",
    "Yes, Python lists can store **mixed data types** like integers, strings, booleans, and even other lists.\n"
   ]
  },
  {
   "cell_type": "markdown",
   "id": "beddcd51",
   "metadata": {},
   "source": [
    "# 10. Explain why strings are immutable in Python.\n",
    "Strings are immutable to make them **hashable and thread-safe**, and to **optimize performance** through memory reuse."
   ]
  },
  {
   "cell_type": "markdown",
   "id": "7a9ba2b4",
   "metadata": {},
   "source": [
    "# 11. What advantages do dictionaries offer over lists for certain tasks?\n",
    "Dictionaries provide **faster lookups** using keys (O(1) average time) and allow **key-value mapping**, making them ideal for structured data like configurations or user profiles.\n"
   ]
  },
  {
   "cell_type": "markdown",
   "id": "5103d0ee",
   "metadata": {},
   "source": [
    "# 12. Describe a scenario where using a tuple would be preferable over a list.\n",
    "Tuples are preferred when storing **constant data** that shouldn't change, like coordinates `(x, y)` or keys in a dictionary."
   ]
  },
  {
   "cell_type": "markdown",
   "id": "b6bd45bf",
   "metadata": {},
   "source": [
    "# 13. How do sets handle duplicate values in Python?\n",
    "Sets **automatically remove duplicates**, so only unique elements are stored."
   ]
  },
  {
   "cell_type": "markdown",
   "id": "98d3dcba",
   "metadata": {},
   "source": [
    "# 14. How does the “in” keyword work differently for lists and dictionaries?\n",
    "- For lists: checks if the **value** is present.\n",
    "- For dictionaries: checks if the **key** is present.\n",
    "\n",
    "```python\n",
    "5 in [1, 5, 9]           # True (value check)\n",
    "'a' in {'a': 1, 'b': 2}  # True (key check)"
   ]
  },
  {
   "cell_type": "markdown",
   "id": "80ac90b1",
   "metadata": {},
   "source": [
    "# 15. Can you modify the elements of a tuple? Explain why or why not\n",
    "No, you cannot modify tuple elements because tuples are immutable. Once defined, their contents stay fixed."
   ]
  },
  {
   "cell_type": "markdown",
   "id": "9821ccce",
   "metadata": {},
   "source": [
    "# 16. What is a nested dictionary, and give an example of its use case?\n",
    "A nested dictionary is a dictionary that contains another dictionary as a value.\n",
    "\n",
    "student = {\n",
    "  'name': 'Alice',\n",
    "  'grades': {'math': 90, 'science': 85}\n",
    "}\n",
    "Use case: Representing structured data like records, JSON, etc."
   ]
  },
  {
   "cell_type": "markdown",
   "id": "bcdf56e9",
   "metadata": {},
   "source": [
    "# 17. Describe the time complexity of accessing elements in a dictionary?\n",
    "Accessing an element by key in a dictionary is O(1) on average, thanks to the underlying hash table."
   ]
  },
  {
   "cell_type": "markdown",
   "id": "08d71e8a",
   "metadata": {},
   "source": [
    "# 18. In what situations are lists preferred over dictionaries?\n",
    "Lists are preferred when:\n",
    "- The data is ordered\n",
    "- You only need values, not key-value pairs\n",
    "- The order of items matters or duplicates are needed\n"
   ]
  },
  {
   "cell_type": "markdown",
   "id": "2ded34c1",
   "metadata": {},
   "source": [
    "# 19. Why are dictionaries considered unordered, and how does that affect data retrieval?\n",
    "Dictionaries are considered unordered because their elements are accessed using **keys**, not positions. The data is stored based on **hash values**, not in a specific sequence.\n",
    "\n",
    "This means you cannot rely on the **order in which items were added** when retrieving data. Instead, you must use the key to get the corresponding value.\n",
    "\n",
    "**Effect on data retrieval:**  \n",
    "You can't access dictionary values by position (like you do with lists). You must use the exact key to retrieve the associated value.\n",
    "\n",
    "**Example:**\n",
    "```python\n",
    "person = {'name': 'Alice', 'age': 25}\n",
    "print(person['name'])  # Correct\n",
    "print(person[0])       # Error: dictionaries are not indexed by position\n"
   ]
  },
  {
   "cell_type": "markdown",
   "id": "3180a2ef",
   "metadata": {},
   "source": [
    "# 20. Explain the difference between a list and a dictionary in terms of data retrieval\n",
    "- **List**:\n",
    "  - Data is accessed using **integer indexes** (positions).\n",
    "  - Example:  \n",
    "    ```python\n",
    "    my_list = ['apple', 'banana', 'cherry']\n",
    "    print(my_list[1])  # Output: banana\n",
    "    ```\n",
    "  - Retrieval is based on **position** in the list.\n",
    "  - Useful when data has a natural order or sequence.\n",
    "\n",
    "- **Dictionary**:\n",
    "  - Data is accessed using **keys** (usually strings or numbers).\n",
    "  - Example:  \n",
    "    ```python\n",
    "    my_dict = {'fruit1': 'apple', 'fruit2': 'banana'}\n",
    "    print(my_dict['fruit2'])  # Output: banana\n",
    "    ```\n",
    "  - Retrieval is based on a **key-value pair**.\n",
    "  - Useful when data is labeled or when you want fast lookups by name.\n",
    "\n",
    "**Summary**:  \n",
    "Lists use numeric positions to retrieve data, while dictionaries use unique keys for quick access to specific items."
   ]
  },
  {
   "cell_type": "markdown",
   "id": "f9ed2eb5",
   "metadata": {},
   "source": [
    "# Practical Questions"
   ]
  },
  {
   "cell_type": "code",
   "execution_count": null,
   "id": "fa0b844d",
   "metadata": {},
   "outputs": [
    {
     "name": "stdout",
     "output_type": "stream",
     "text": [
      "Subham Sahoo\n"
     ]
    }
   ],
   "source": [
    "# 1. Write a code to create a string with your name and print it.\n",
    "name = \"Subham Sahoo\"\n",
    "print(name)"
   ]
  },
  {
   "cell_type": "code",
   "execution_count": 2,
   "id": "afc28b93",
   "metadata": {},
   "outputs": [
    {
     "name": "stdout",
     "output_type": "stream",
     "text": [
      "The length of the string 'Hello World' is 11 characters.\n"
     ]
    }
   ],
   "source": [
    "# 2. Write a code to find the length of the string \"Hello World\".\n",
    "string = \"Hello World\"\n",
    "length = len(string)\n",
    "print(f\"The length of the string '{string}' is {length} characters.\")"
   ]
  },
  {
   "cell_type": "code",
   "execution_count": 3,
   "id": "71a56f08",
   "metadata": {},
   "outputs": [
    {
     "name": "stdout",
     "output_type": "stream",
     "text": [
      "The first 3 characters of 'Python Programming' are 'Pyt'.\n"
     ]
    }
   ],
   "source": [
    "# 3. Write a code to slice the first 3 characters from the string \"Python Programming\".\n",
    "string = \"Python Programming\"\n",
    "sliced_string = string[:3]\n",
    "print(f\"The first 3 characters of '{string}' are '{sliced_string}'.\")"
   ]
  },
  {
   "cell_type": "code",
   "execution_count": 5,
   "id": "3fefcb9b",
   "metadata": {},
   "outputs": [
    {
     "name": "stdout",
     "output_type": "stream",
     "text": [
      "The uppercase version of 'hello' is 'HELLO'.\n"
     ]
    }
   ],
   "source": [
    "# 4. Write a code to convert the string \"hello\" to uppercase.\n",
    "string = \"hello\"\n",
    "uppercase_string = string.upper()\n",
    "print(f\"The uppercase version of '{string}' is '{uppercase_string}'.\")\n"
   ]
  },
  {
   "cell_type": "code",
   "execution_count": 7,
   "id": "f271ef29",
   "metadata": {},
   "outputs": [
    {
     "name": "stdout",
     "output_type": "stream",
     "text": [
      "The string after replacement is: 'I like orange'.\n"
     ]
    }
   ],
   "source": [
    "# 5. Write a code to replace the word \"apple\" with \"orange\" in the string \"I like apple\".\n",
    "string = \"I like apple\"\n",
    "replaced_string = string.replace(\"apple\", \"orange\")\n",
    "print(f\"The string after replacement is: '{replaced_string}'.\")"
   ]
  },
  {
   "cell_type": "code",
   "execution_count": 9,
   "id": "1a995aa5",
   "metadata": {},
   "outputs": [
    {
     "name": "stdout",
     "output_type": "stream",
     "text": [
      "The list of numbers from 1 to 5 is: [1, 2, 3, 4, 5]\n"
     ]
    }
   ],
   "source": [
    "# 6. Write a code to create a list with numbers 1 to 5 and print it.\n",
    "numbers = []\n",
    "for i in range(1, 6):\n",
    "    numbers.append(i)\n",
    "print(f\"The list of numbers from 1 to 5 is: {numbers}\")"
   ]
  },
  {
   "cell_type": "code",
   "execution_count": 10,
   "id": "1cc9f7b1",
   "metadata": {},
   "outputs": [
    {
     "name": "stdout",
     "output_type": "stream",
     "text": [
      "The list after appending 10 is: [1, 2, 3, 4, 10]\n"
     ]
    }
   ],
   "source": [
    "# 7. Write a code to append the number 10 to the list [1, 2, 3, 4].\n",
    "numbers = [1, 2, 3, 4]\n",
    "numbers.append(10)\n",
    "print(f\"The list after appending 10 is: {numbers}\")"
   ]
  },
  {
   "cell_type": "code",
   "execution_count": 15,
   "id": "b2d98c25",
   "metadata": {},
   "outputs": [
    {
     "name": "stdout",
     "output_type": "stream",
     "text": [
      "The list after removing 3 is: [1, 2, 4, 5]\n"
     ]
    }
   ],
   "source": [
    "# 8. Write a code to remove the number 3 from the list [1, 2, 3, 4, 5].\n",
    "list_numbers = [1, 2, 3, 4, 5]\n",
    "list_numbers.remove(3)\n",
    "print(f\"The list after removing 3 is: {list_numbers}\")"
   ]
  },
  {
   "cell_type": "code",
   "execution_count": 16,
   "id": "1f14ba77",
   "metadata": {},
   "outputs": [
    {
     "name": "stdout",
     "output_type": "stream",
     "text": [
      "The second element in the list is: 'b'.\n"
     ]
    }
   ],
   "source": [
    "# 9. Write a code to access the second element in the list ['a', 'b', 'c', 'd'].\n",
    "list_chars = ['a', 'b', 'c', 'd']\n",
    "second_element = list_chars[1]\n",
    "print(f\"The second element in the list is: '{second_element}'.\")"
   ]
  },
  {
   "cell_type": "code",
   "execution_count": 17,
   "id": "7c77953b",
   "metadata": {},
   "outputs": [
    {
     "name": "stdout",
     "output_type": "stream",
     "text": [
      "The reversed list is: [50, 40, 30, 20, 10]\n"
     ]
    }
   ],
   "source": [
    "# 10. Write a code to reverse the list [10, 20, 30, 40, 50].\n",
    "list_numbers = [10, 20, 30, 40, 50]\n",
    "list_numbers.reverse()\n",
    "print(f\"The reversed list is: {list_numbers}\")"
   ]
  },
  {
   "cell_type": "code",
   "execution_count": 18,
   "id": "fa938d1b",
   "metadata": {},
   "outputs": [
    {
     "name": "stdout",
     "output_type": "stream",
     "text": [
      "The tuple is: (100, 200, 300)\n"
     ]
    }
   ],
   "source": [
    "# 11. Write a code to create a tuple with the elements 100, 200, 300 and print it.\n",
    "tuple_numbers = (100, 200, 300)\n",
    "print(f\"The tuple is: {tuple_numbers}\")"
   ]
  },
  {
   "cell_type": "code",
   "execution_count": 19,
   "id": "9ee6d0af",
   "metadata": {},
   "outputs": [
    {
     "name": "stdout",
     "output_type": "stream",
     "text": [
      "The second-to-last element in the tuple is: 'blue'.\n"
     ]
    }
   ],
   "source": [
    "# 12. Write a code to access the second-to-last element of the tuple ('red', 'green', 'blue', 'yellow').\n",
    "tuple_colors = ('red', 'green', 'blue', 'yellow')\n",
    "second_to_last_element = tuple_colors[-2]\n",
    "print(f\"The second-to-last element in the tuple is: '{second_to_last_element}'.\")\n"
   ]
  },
  {
   "cell_type": "code",
   "execution_count": 20,
   "id": "9d006e29",
   "metadata": {},
   "outputs": [
    {
     "name": "stdout",
     "output_type": "stream",
     "text": [
      "The minimum number in the tuple is: 5\n"
     ]
    }
   ],
   "source": [
    "# 13. Write a code to find the minimum number in the tuple (10, 20, 5, 15).\n",
    "tuple_numbers = (10, 20, 5, 15)\n",
    "min_number = min(tuple_numbers)\n",
    "print(f\"The minimum number in the tuple is: {min_number}\")"
   ]
  },
  {
   "cell_type": "code",
   "execution_count": null,
   "id": "625f776d",
   "metadata": {},
   "outputs": [
    {
     "name": "stdout",
     "output_type": "stream",
     "text": [
      "The index of 'cat' in the tuple is: 1\n"
     ]
    }
   ],
   "source": [
    "# 14. Write a code to find the index of the element \"cat\" in the tuple ('dog', 'cat', 'rabbit').\n",
    "tuple_animals = ('dog', 'cat', 'rabbit') \n",
    "for i in range(len(tuple_animals)):\n",
    "    if tuple_animals[i] == 'cat':\n",
    "        index_of_cat = i\n",
    "        break\n",
    "\n",
    "# index_of_cat = tuple_animals.index('cat')\n",
    "print(f\"The index of 'cat' in the tuple is: {index_of_cat}\")   "
   ]
  },
  {
   "cell_type": "code",
   "execution_count": 1,
   "id": "cdb93bef",
   "metadata": {},
   "outputs": [
    {
     "name": "stdout",
     "output_type": "stream",
     "text": [
      "Is 'kiwi' in the tuple? False\n"
     ]
    }
   ],
   "source": [
    "# 15. Write a code to create a tuple containing three different fruits and check if \"kiwi\" is in it.\n",
    "tuple_fruits = ('apple', 'banana', 'orange')\n",
    "fruit_to_check = 'kiwi'\n",
    "for i in range(len(tuple_fruits)):\n",
    "    if tuple_fruits[i] == fruit_to_check:\n",
    "        is_fruit_in_tuple = True\n",
    "        break\n",
    "else:\n",
    "    is_fruit_in_tuple = False\n",
    "# is_fruit_in_tuple = fruit_to_check in tuple_fruits  \n",
    "print(f\"Is '{fruit_to_check}' in the tuple? {is_fruit_in_tuple}\")"
   ]
  },
  {
   "cell_type": "code",
   "execution_count": 2,
   "id": "f1e8a938",
   "metadata": {},
   "outputs": [
    {
     "name": "stdout",
     "output_type": "stream",
     "text": [
      "The set is: {'b', 'a', 'c'}\n"
     ]
    }
   ],
   "source": [
    "# 16. Write a code to create a set with the elements 'a', 'b', 'c' and print it.\n",
    "set_chars = {'a', 'b', 'c'}\n",
    "print(f\"The set is: {set_chars}\")"
   ]
  },
  {
   "cell_type": "code",
   "execution_count": 32,
   "id": "884f5208",
   "metadata": {},
   "outputs": [
    {
     "name": "stdout",
     "output_type": "stream",
     "text": [
      "The set after clearing all elements is: set()\n"
     ]
    }
   ],
   "source": [
    "# 17. Write a code to clear all elements from the set {1, 2, 3, 4, 5}.\n",
    "set_numbers = {1, 2, 3, 4, 5}\n",
    "set_numbers.clear()\n",
    "print(f\"The set after clearing all elements is: {set_numbers}\")"
   ]
  },
  {
   "cell_type": "code",
   "execution_count": 33,
   "id": "7cdcc69a",
   "metadata": {},
   "outputs": [
    {
     "name": "stdout",
     "output_type": "stream",
     "text": [
      "The set after removing 4 is: {1, 2, 3}\n"
     ]
    }
   ],
   "source": [
    "# 18. Write a code to remove the element 4 from the set {1, 2, 3, 4}\n",
    "set_numbers = {1, 2, 3, 4}\n",
    "set_numbers.remove(4)   \n",
    "print(f\"The set after removing 4 is: {set_numbers}\")"
   ]
  },
  {
   "cell_type": "code",
   "execution_count": 34,
   "id": "67f261d5",
   "metadata": {},
   "outputs": [
    {
     "name": "stdout",
     "output_type": "stream",
     "text": [
      "The union of the sets is: {1, 2, 3, 4, 5}\n"
     ]
    }
   ],
   "source": [
    "# 19. Write a code to find the union of two sets {1, 2, 3} and {3, 4, 5}.\n",
    "set_a = {1, 2, 3}\n",
    "set_b = {3, 4, 5}\n",
    "set_union = set_a.union(set_b)\n",
    "print(f\"The union of the sets is: {set_union}\")"
   ]
  },
  {
   "cell_type": "code",
   "execution_count": 35,
   "id": "a6d875d3",
   "metadata": {},
   "outputs": [
    {
     "name": "stdout",
     "output_type": "stream",
     "text": [
      "The intersection of the sets is: {2, 3}\n"
     ]
    }
   ],
   "source": [
    "# 20. Write a code to find the intersection of two sets {1, 2, 3} and {2, 3, 4}.\n",
    "set_a = {1, 2, 3}\n",
    "set_b = {2, 3, 4}\n",
    "set_intersection = set_a.intersection(set_b)\n",
    "print(f\"The intersection of the sets is: {set_intersection}\")"
   ]
  },
  {
   "cell_type": "code",
   "execution_count": 36,
   "id": "1e93d94b",
   "metadata": {},
   "outputs": [
    {
     "name": "stdout",
     "output_type": "stream",
     "text": [
      "The dictionary is: {'name': 'Subham Sahoo', 'age': 25, 'city': 'Bhubaneswar'}\n"
     ]
    }
   ],
   "source": [
    "# 21. Write a code to create a dictionary with the keys \"name\", \"age\", and \"city\", and print it.\n",
    "dictionary = {\n",
    "    \"name\": \"Subham Sahoo\",\n",
    "    \"age\": 25,\n",
    "    \"city\": \"Bhubaneswar\"\n",
    "}\n",
    "print(f\"The dictionary is: {dictionary}\")"
   ]
  },
  {
   "cell_type": "code",
   "execution_count": 37,
   "id": "5ee5f88a",
   "metadata": {},
   "outputs": [
    {
     "name": "stdout",
     "output_type": "stream",
     "text": [
      "The dictionary after adding a new key-value pair is: {'name': 'John', 'age': 25, 'country': 'USA'}\n"
     ]
    }
   ],
   "source": [
    "# 22. Write a code to add a new key-value pair \"country\": \"USA\" to the dictionary {'name': 'John', 'age': 25}.\n",
    "dictionary = {'name': 'John', 'age': 25}\n",
    "dictionary['country'] = 'USA'\n",
    "print(f\"The dictionary after adding a new key-value pair is: {dictionary}\") "
   ]
  },
  {
   "cell_type": "code",
   "execution_count": 38,
   "id": "1f28fd47",
   "metadata": {},
   "outputs": [
    {
     "name": "stdout",
     "output_type": "stream",
     "text": [
      "The value associated with the key 'name' is: Alice\n"
     ]
    }
   ],
   "source": [
    "# 23. Write a code to access the value associated with the key \"name\" in the dictionary {'name': 'Alice', 'age': 30}.\n",
    "dictionary = {'name': 'Alice', 'age': 30}\n",
    "name_value = dictionary['name']\n",
    "print(f\"The value associated with the key 'name' is: {name_value}\")"
   ]
  },
  {
   "cell_type": "code",
   "execution_count": 39,
   "id": "5c4a9fac",
   "metadata": {},
   "outputs": [
    {
     "name": "stdout",
     "output_type": "stream",
     "text": [
      "The dictionary after removing the key 'age' is: {'name': 'Bob', 'city': 'New York'}\n"
     ]
    }
   ],
   "source": [
    "# 24. Write a code to remove the key \"age\" from the dictionary {'name': 'Bob', 'age': 22, 'city': 'New York'}.\n",
    "dictionary = {'name': 'Bob', 'age': 22, 'city': 'New York'}\n",
    "del dictionary['age']\n",
    "print(f\"The dictionary after removing the key 'age' is: {dictionary}\")"
   ]
  },
  {
   "cell_type": "code",
   "execution_count": 41,
   "id": "788c1c50",
   "metadata": {},
   "outputs": [
    {
     "name": "stdout",
     "output_type": "stream",
     "text": [
      "Does the key 'city' exist in the dictionary? True\n"
     ]
    }
   ],
   "source": [
    "# 25. Write a code to check if the key \"city\" exists in the dictionary {'name': 'Alice', 'city': 'Paris'}.\n",
    "dictionary = {'name': 'Alice', 'city': 'Paris'}\n",
    "key_to_check = 'city'\n",
    "key_exists = key_to_check in dictionary\n",
    "print(f\"Does the key '{key_to_check}' exist in the dictionary? {key_exists}\")"
   ]
  },
  {
   "cell_type": "code",
   "execution_count": 43,
   "id": "478c0910",
   "metadata": {},
   "outputs": [
    {
     "name": "stdout",
     "output_type": "stream",
     "text": [
      "List: [1, 2, 3, 4, 5]\n",
      "Tuple: (10, 20, 30)\n",
      "Dictionary: {'name': 'John', 'age': 30}\n"
     ]
    }
   ],
   "source": [
    "# 26. Write a code to create a list, a tuple, and a dictionary, and print them all.\n",
    "list_example = [1, 2, 3, 4, 5]\n",
    "tuple_example = (10, 20, 30)\n",
    "dictionary_example = {'name': 'John', 'age': 30}\n",
    "print(f\"List: {list_example}\")\n",
    "print(f\"Tuple: {tuple_example}\")\n",
    "print(f\"Dictionary: {dictionary_example}\")"
   ]
  },
  {
   "cell_type": "code",
   "execution_count": 45,
   "id": "60c9676e",
   "metadata": {},
   "outputs": [
    {
     "name": "stdout",
     "output_type": "stream",
     "text": [
      "The sorted list of random numbers is: [14, 17, 75, 87, 99]\n"
     ]
    }
   ],
   "source": [
    "# 27. Write a code to create a list of 5 random numbers between 1 and 100, sort it in ascending order, and print the result.(replaced)\n",
    "import random\n",
    "random_numbers = random.sample(range(1, 101), 5)\n",
    "random_numbers.sort()\n",
    "print(f\"The sorted list of random numbers is: {random_numbers}\")"
   ]
  },
  {
   "cell_type": "code",
   "execution_count": 46,
   "id": "a66da0bb",
   "metadata": {},
   "outputs": [
    {
     "name": "stdout",
     "output_type": "stream",
     "text": [
      "The element at the third index is: 'date'.\n"
     ]
    }
   ],
   "source": [
    "# 28. Write a code to create a list with strings and print the element at the third index.\n",
    "list_strings = ['apple', 'banana', 'cherry', 'date', 'elderberry']\n",
    "third_index_element = list_strings[3]\n",
    "print(f\"The element at the third index is: '{third_index_element}'.\")"
   ]
  },
  {
   "cell_type": "code",
   "execution_count": 47,
   "id": "2b109eb5",
   "metadata": {},
   "outputs": [
    {
     "name": "stdout",
     "output_type": "stream",
     "text": [
      "The combined dictionary is: {'name': 'Alice', 'age': 25, 'city': 'New York', 'country': 'USA'}\n"
     ]
    }
   ],
   "source": [
    "# 29. Write a code to combine two dictionaries into one and print the result.\n",
    "dict_a = {'name': 'Alice', 'age': 25}\n",
    "dict_b = {'city': 'New York', 'country': 'USA'}\n",
    "combined_dict = {**dict_a, **dict_b}\n",
    "print(f\"The combined dictionary is: {combined_dict}\")"
   ]
  },
  {
   "cell_type": "code",
   "execution_count": 49,
   "id": "d22eff90",
   "metadata": {},
   "outputs": [
    {
     "name": "stdout",
     "output_type": "stream",
     "text": [
      "The set of strings is: {'banana', 'cherry', 'apple'}\n"
     ]
    }
   ],
   "source": [
    "# 30. Write a code to convert a list of strings into a set.\n",
    "list_of_strings = ['apple', 'banana', 'apple', 'cherry']\n",
    "set_of_strings = set()\n",
    "for i in range(len(list_of_strings)):\n",
    "    set_of_strings.add(list_of_strings[i])\n",
    "# set_of_strings = set(list_of_strings)\n",
    "print(f\"The set of strings is: {set_of_strings}\")\n"
   ]
  },
  {
   "cell_type": "code",
   "execution_count": null,
   "id": "b83a7f8a",
   "metadata": {},
   "outputs": [],
   "source": []
  }
 ],
 "metadata": {
  "kernelspec": {
   "display_name": ".venv",
   "language": "python",
   "name": "python3"
  },
  "language_info": {
   "codemirror_mode": {
    "name": "ipython",
    "version": 3
   },
   "file_extension": ".py",
   "mimetype": "text/x-python",
   "name": "python",
   "nbconvert_exporter": "python",
   "pygments_lexer": "ipython3",
   "version": "3.12.3"
  }
 },
 "nbformat": 4,
 "nbformat_minor": 5
}
