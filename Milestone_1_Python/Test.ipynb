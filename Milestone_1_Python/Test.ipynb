{
 "cells": [
  {
   "cell_type": "code",
   "execution_count": 1,
   "id": "8e48c284",
   "metadata": {},
   "outputs": [
    {
     "name": "stdout",
     "output_type": "stream",
     "text": [
      "Heloo World\n"
     ]
    }
   ],
   "source": [
    "print(\"Heloo World\")"
   ]
  },
  {
   "cell_type": "code",
   "execution_count": 6,
   "id": "b76c7ca5",
   "metadata": {},
   "outputs": [
    {
     "name": "stdout",
     "output_type": "stream",
     "text": [
      "Hello, Subham Sahoo. You are 22 years old.\n"
     ]
    }
   ],
   "source": [
    "name = \"Subham Sahoo\"\n",
    "age = 22\n",
    "print(f\"Hello, {name}. You are {age} years old.\")"
   ]
  },
  {
   "cell_type": "code",
   "execution_count": 7,
   "id": "340d779f",
   "metadata": {},
   "outputs": [
    {
     "name": "stdout",
     "output_type": "stream",
     "text": [
      "['False', 'None', 'True', 'and', 'as', 'assert', 'async', 'await', 'break', 'class', 'continue', 'def', 'del', 'elif', 'else', 'except', 'finally', 'for', 'from', 'global', 'if', 'import', 'in', 'is', 'lambda', 'nonlocal', 'not', 'or', 'pass', 'raise', 'return', 'try', 'while', 'with', 'yield']\n"
     ]
    }
   ],
   "source": [
    "import keyword\n",
    "print(keyword.kwlist)"
   ]
  },
  {
   "cell_type": "code",
   "execution_count": 11,
   "id": "9210e3db",
   "metadata": {},
   "outputs": [
    {
     "name": "stdout",
     "output_type": "stream",
     "text": [
      "The word you entered is for\n",
      "This is a keyword\n"
     ]
    }
   ],
   "source": [
    "keywords = keyword.kwlist\n",
    "x = input(\"Enter word\")\n",
    "print(\"The word you entered is\", x)\n",
    "if x in keywords:\n",
    "    print(\"This is a keyword\")\n",
    "else:\n",
    "    print(\"This is not a keyword\")\n"
   ]
  },
  {
   "cell_type": "code",
   "execution_count": 13,
   "id": "edf77e86",
   "metadata": {},
   "outputs": [
    {
     "name": "stdout",
     "output_type": "stream",
     "text": [
      "[11, 2, 3, 4, 5]\n",
      "(1, 2, 3, 4, 5)\n"
     ]
    }
   ],
   "source": [
    "list = [1, 2, 3, 4, 5]\n",
    "tuple = (1, 2, 3, 4, 5)\n",
    "\n",
    "list[0] = 11\n",
    "# tuple[0] = 11  # This will raise an error\n",
    "print(list)\n",
    "print(tuple)"
   ]
  },
  {
   "cell_type": "code",
   "execution_count": 14,
   "id": "993a0289",
   "metadata": {},
   "outputs": [
    {
     "name": "stdout",
     "output_type": "stream",
     "text": [
      "Sum of 1 and 2 is 3\n",
      "Subtraction of 1 and 2 is -1\n",
      "Multiplication of 1 and 2 is 2\n",
      "Division of 1 and 2 is 0.5\n",
      "Floor Division of 1 and 2 is 0\n",
      "Modulus of 1 and 2 is 1\n",
      "Exponent of 1 and 2 is 1\n"
     ]
    }
   ],
   "source": [
    "a = input(\"Enter a number 1: \")\n",
    "b = input(\"Enter a number 2: \")\n",
    "\n",
    "print(f\"Sum of {a} and {b} is {int(a) + int(b)}\")\n",
    "print(f\"Subtraction of {a} and {b} is {int(a) - int(b)}\")\n",
    "print(f\"Multiplication of {a} and {b} is {int(a) * int(b)}\")\n",
    "print(f\"Division of {a} and {b} is {int(a) / int(b)}\")\n",
    "print(f\"Floor Division of {a} and {b} is {int(a) // int(b)}\")\n",
    "print(f\"Modulus of {a} and {b} is {int(a) % int(b)}\")\n",
    "print(f\"Exponent of {a} and {b} is {int(a) ** int(b)}\")"
   ]
  },
  {
   "cell_type": "code",
   "execution_count": 19,
   "id": "99aafe33",
   "metadata": {},
   "outputs": [
    {
     "name": "stdout",
     "output_type": "stream",
     "text": [
      "<class 'str'>\n",
      "Invalid input, please enter a number\n"
     ]
    }
   ],
   "source": [
    "num = input(\"Enter a number: \")\n",
    "print(type(num))\n",
    "try:\n",
    "    num = int(num)\n",
    "except ValueError:\n",
    "    print(\"Invalid input, please enter a number\")\n",
    "    exit(1)\n",
    "# print(type(int(num)))\n",
    "# print(type(float(num)))"
   ]
  },
  {
   "cell_type": "code",
   "execution_count": 23,
   "id": "7e939529",
   "metadata": {},
   "outputs": [
    {
     "name": "stdout",
     "output_type": "stream",
     "text": [
      "Sum of first 5 numbers is 10\n"
     ]
    }
   ],
   "source": [
    "sum = 0\n",
    "for i in range (1, 5):\n",
    "    sum += i\n",
    "print(\"Sum of first 5 numbers is\", sum)"
   ]
  },
  {
   "cell_type": "code",
   "execution_count": 1,
   "id": "9e9790cc",
   "metadata": {},
   "outputs": [
    {
     "name": "stdout",
     "output_type": "stream",
     "text": [
      "The string you entered is 1\n",
      "Reversed string is 1\n"
     ]
    }
   ],
   "source": [
    "str = input(\"Enter a string: \")\n",
    "reversed_str = \"\"\n",
    "index = len(str) - 1 # 5\n",
    "print(\"The string you entered is\", str) #subham\n",
    "while index >= 0:\n",
    "    reversed_str = reversed_str + str[index]\n",
    "    index -= 1\n",
    "print(\"Reversed string is\", reversed_str)\n",
    "# 😂🤣❤️😍💖😎"
   ]
  },
  {
   "cell_type": "code",
   "execution_count": 3,
   "id": "b97e6006",
   "metadata": {
    "ExecuteTime": {
     "end_time": "2025-05-04T10:25:17.077207Z",
     "start_time": "2025-05-04T10:25:17.069639Z"
    }
   },
   "outputs": [
    {
     "name": "stdout",
     "output_type": "stream",
     "text": [
      "Grade A\n"
     ]
    }
   ],
   "source": [
    "marks = 90\n",
    "if marks >= 90:\n",
    "    print(\"Grade A\")\n",
    "elif marks >= 80:\n",
    "    print(\"Grade B\")\n",
    "elif marks >= 70:\n",
    "    print(\"Grade C\")\n",
    "else:\n",
    "    print(\"Failed\")"
   ]
  },
  {
   "cell_type": "code",
   "execution_count": null,
   "id": "58be883259f28b02",
   "metadata": {},
   "outputs": [
    {
     "name": "stdout",
     "output_type": "stream",
     "text": [
      "5\n",
      "Welcome Subham Sahoo\n",
      "Addition of 5 and 10 is 15\n",
      "Hello World\n",
      "<class 'str'>\n"
     ]
    }
   ],
   "source": [
    "import math as m\n",
    "\n",
    "print(m.ceil(4.2)) # 5  \n",
    "# Positional Arguments\n",
    "def welcome(name):\n",
    "    print(f\"Welcome {name}\")\n",
    "\n",
    "welcome(\"Subham Sahoo\")\n",
    "\n",
    "#Arguments and Parameters\n",
    "def add(a, b = 10):\n",
    "    return a + b\n",
    "\n",
    "addition = add(5)\n",
    "print(f\"Addition of 5 and 10 is {addition}\")\n",
    "\n",
    "def func():\n",
    "    print(\"Hello World\")\n",
    "    return \"Hellow World\"\n",
    "\n",
    "output =  func()\n",
    "\n",
    "print(type(output))\n"
   ]
  },
  {
   "cell_type": "code",
   "execution_count": 26,
   "id": "edf5c85b",
   "metadata": {},
   "outputs": [
    {
     "name": "stdout",
     "output_type": "stream",
     "text": [
      "(2, 1, 3)\n"
     ]
    }
   ],
   "source": [
    "def func1(a, b = 0, c = 0):\n",
    "    return a, b, c\n",
    "\n",
    "a  = func1(b = 1, a = 2, c = 3)\n",
    "print(a)"
   ]
  },
  {
   "cell_type": "code",
   "execution_count": 28,
   "id": "932900ca",
   "metadata": {},
   "outputs": [
    {
     "name": "stdout",
     "output_type": "stream",
     "text": [
      "Addition of two numbers is 3\n"
     ]
    }
   ],
   "source": [
    "def add_two_numbers():\n",
    "    a = int(input(\"Enter first number: \"))\n",
    "    b = int(input(\"Enter second number: \"))\n",
    "    return a + b\n",
    "\n",
    "addition = add_two_numbers()\n",
    "print(f\"Addition of two numbers is {addition}\")\n",
    "\n"
   ]
  },
  {
   "cell_type": "code",
   "execution_count": 31,
   "id": "0c234c07",
   "metadata": {},
   "outputs": [
    {
     "name": "stdout",
     "output_type": "stream",
     "text": [
      "1\n",
      "2\n",
      "3\n",
      "4\n",
      "5\n",
      "All arguments are printed\n"
     ]
    }
   ],
   "source": [
    "def function_with_args(*args):\n",
    "    for arg in args:\n",
    "        print(arg)\n",
    "    print(\"All arguments are printed\")\n",
    "\n",
    "function_with_args(1, 2, 3, 4, 5)"
   ]
  },
  {
   "cell_type": "code",
   "execution_count": null,
   "id": "f1542274",
   "metadata": {},
   "outputs": [],
   "source": []
  }
 ],
 "metadata": {
  "kernelspec": {
   "display_name": "Python 3",
   "language": "python",
   "name": "python3"
  },
  "language_info": {
   "codemirror_mode": {
    "name": "ipython",
    "version": 3
   },
   "file_extension": ".py",
   "mimetype": "text/x-python",
   "name": "python",
   "nbconvert_exporter": "python",
   "pygments_lexer": "ipython3",
   "version": "3.13.3"
  }
 },
 "nbformat": 4,
 "nbformat_minor": 5
}
