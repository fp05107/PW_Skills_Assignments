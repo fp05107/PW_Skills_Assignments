{
 "cells": [
  {
   "cell_type": "code",
   "execution_count": 1,
   "id": "8e48c284",
   "metadata": {},
   "outputs": [
    {
     "name": "stdout",
     "output_type": "stream",
     "text": [
      "Heloo World\n"
     ]
    }
   ],
   "source": [
    "print(\"Heloo World\")"
   ]
  },
  {
   "cell_type": "code",
   "execution_count": 6,
   "id": "b76c7ca5",
   "metadata": {},
   "outputs": [
    {
     "name": "stdout",
     "output_type": "stream",
     "text": [
      "Hello, Subham Sahoo. You are 22 years old.\n"
     ]
    }
   ],
   "source": [
    "name = \"Subham Sahoo\"\n",
    "age = 22\n",
    "print(f\"Hello, {name}. You are {age} years old.\")"
   ]
  },
  {
   "cell_type": "code",
   "execution_count": 7,
   "id": "340d779f",
   "metadata": {},
   "outputs": [
    {
     "name": "stdout",
     "output_type": "stream",
     "text": [
      "['False', 'None', 'True', 'and', 'as', 'assert', 'async', 'await', 'break', 'class', 'continue', 'def', 'del', 'elif', 'else', 'except', 'finally', 'for', 'from', 'global', 'if', 'import', 'in', 'is', 'lambda', 'nonlocal', 'not', 'or', 'pass', 'raise', 'return', 'try', 'while', 'with', 'yield']\n"
     ]
    }
   ],
   "source": [
    "import keyword\n",
    "print(keyword.kwlist)"
   ]
  },
  {
   "cell_type": "code",
   "execution_count": 11,
   "id": "9210e3db",
   "metadata": {},
   "outputs": [
    {
     "name": "stdout",
     "output_type": "stream",
     "text": [
      "The word you entered is for\n",
      "This is a keyword\n"
     ]
    }
   ],
   "source": [
    "keywords = keyword.kwlist\n",
    "x = input(\"Enter word\")\n",
    "print(\"The word you entered is\", x)\n",
    "if x in keywords:\n",
    "    print(\"This is a keyword\")\n",
    "else:\n",
    "    print(\"This is not a keyword\")\n"
   ]
  },
  {
   "cell_type": "code",
   "execution_count": 13,
   "id": "edf77e86",
   "metadata": {},
   "outputs": [
    {
     "name": "stdout",
     "output_type": "stream",
     "text": [
      "[11, 2, 3, 4, 5]\n",
      "(1, 2, 3, 4, 5)\n"
     ]
    }
   ],
   "source": [
    "list = [1, 2, 3, 4, 5]\n",
    "tuple = (1, 2, 3, 4, 5)\n",
    "\n",
    "list[0] = 11\n",
    "# tuple[0] = 11  # This will raise an error\n",
    "print(list)\n",
    "print(tuple)"
   ]
  },
  {
   "cell_type": "code",
   "execution_count": 14,
   "id": "993a0289",
   "metadata": {},
   "outputs": [
    {
     "name": "stdout",
     "output_type": "stream",
     "text": [
      "Sum of 1 and 2 is 3\n",
      "Subtraction of 1 and 2 is -1\n",
      "Multiplication of 1 and 2 is 2\n",
      "Division of 1 and 2 is 0.5\n",
      "Floor Division of 1 and 2 is 0\n",
      "Modulus of 1 and 2 is 1\n",
      "Exponent of 1 and 2 is 1\n"
     ]
    }
   ],
   "source": [
    "a = input(\"Enter a number 1: \")\n",
    "b = input(\"Enter a number 2: \")\n",
    "\n",
    "print(f\"Sum of {a} and {b} is {int(a) + int(b)}\")\n",
    "print(f\"Subtraction of {a} and {b} is {int(a) - int(b)}\")\n",
    "print(f\"Multiplication of {a} and {b} is {int(a) * int(b)}\")\n",
    "print(f\"Division of {a} and {b} is {int(a) / int(b)}\")\n",
    "print(f\"Floor Division of {a} and {b} is {int(a) // int(b)}\")\n",
    "print(f\"Modulus of {a} and {b} is {int(a) % int(b)}\")\n",
    "print(f\"Exponent of {a} and {b} is {int(a) ** int(b)}\")"
   ]
  },
  {
   "cell_type": "code",
   "execution_count": 19,
   "id": "99aafe33",
   "metadata": {},
   "outputs": [
    {
     "name": "stdout",
     "output_type": "stream",
     "text": [
      "<class 'str'>\n",
      "Invalid input, please enter a number\n"
     ]
    }
   ],
   "source": [
    "num = input(\"Enter a number: \")\n",
    "print(type(num))\n",
    "try:\n",
    "    num = int(num)\n",
    "except ValueError:\n",
    "    print(\"Invalid input, please enter a number\")\n",
    "    exit(1)\n",
    "# print(type(int(num)))\n",
    "# print(type(float(num)))"
   ]
  },
  {
   "cell_type": "code",
   "execution_count": 23,
   "id": "7e939529",
   "metadata": {},
   "outputs": [
    {
     "name": "stdout",
     "output_type": "stream",
     "text": [
      "Sum of first 5 numbers is 10\n"
     ]
    }
   ],
   "source": [
    "sum = 0\n",
    "for i in range (1, 5):\n",
    "    sum += i\n",
    "print(\"Sum of first 5 numbers is\", sum)"
   ]
  },
  {
   "cell_type": "code",
   "execution_count": 28,
   "id": "9e9790cc",
   "metadata": {},
   "outputs": [
    {
     "name": "stdout",
     "output_type": "stream",
     "text": [
      "The string you entered is subham\n",
      "Reversed string is mahbus\n"
     ]
    }
   ],
   "source": [
    "str = input(\"Enter a string: \")\n",
    "reversed_str = \"\"\n",
    "index = len(str) - 1 # 5\n",
    "print(\"The string you entered is\", str) #subham\n",
    "while index >= 0:\n",
    "    reversed_str = reversed_str + str[index]\n",
    "    index -= 1\n",
    "print(\"Reversed string is\", reversed_str)\n"
   ]
  },
  {
   "cell_type": "code",
   "execution_count": null,
   "id": "b97e6006",
   "metadata": {},
   "outputs": [],
   "source": []
  }
 ],
 "metadata": {
  "kernelspec": {
   "display_name": "Python 3",
   "language": "python",
   "name": "python3"
  },
  "language_info": {
   "codemirror_mode": {
    "name": "ipython",
    "version": 3
   },
   "file_extension": ".py",
   "mimetype": "text/x-python",
   "name": "python",
   "nbconvert_exporter": "python",
   "pygments_lexer": "ipython3",
   "version": "3.12.3"
  }
 },
 "nbformat": 4,
 "nbformat_minor": 5
}
